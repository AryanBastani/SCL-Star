{
  "cells": [
    {
      "cell_type": "markdown",
      "metadata": {
        "id": "HO3vsG-iJS7J"
      },
      "source": [
        "# Decomposed_Learning_Results (CL* Algorithm)\n"
      ]
    },
    {
      "cell_type": "code",
      "execution_count": 24,
      "metadata": {
        "id": "ID8mpaGl1OBO"
      },
      "outputs": [],
      "source": [
        "import pandas as pd\n",
        "import numpy as np\n",
        "import matplotlib.pyplot as plt\n",
        "from scipy.stats import ttest_ind, ttest_rel, ttest_1samp, kstest, shapiro, pearsonr\n",
        "import matplotlib.pyplot as plt\n",
        "import seaborn as sns"
      ]
    },
    {
      "cell_type": "code",
      "execution_count": 25,
      "metadata": {
        "id": "U5zYrqSVgF-J"
      },
      "outputs": [],
      "source": [
        "# don't run this if you use google colab \n",
        "df =  pd.read_csv('data/Results.csv',index_col=False)"
      ]
    },
    {
      "cell_type": "markdown",
      "metadata": {
        "id": "W2xprhe1tdH4"
      },
      "source": [
        "## Clean data"
      ]
    },
    {
      "cell_type": "code",
      "execution_count": 26,
      "metadata": {
        "id": "j1XvSLn4tdH5"
      },
      "outputs": [],
      "source": [
        "def round_data(data):\n",
        "  return round(data, 3)"
      ]
    },
    {
      "cell_type": "code",
      "execution_count": 27,
      "metadata": {
        "id": "i0nfyfH8YvwI"
      },
      "outputs": [],
      "source": [
        "df = df[(df[\"STATES\"]<=3840) & (df[\"STATES\"]>100) ]"
      ]
    },
    {
      "cell_type": "code",
      "execution_count": 28,
      "metadata": {
        "id": "hlwW2zNvtdH7"
      },
      "outputs": [
        {
          "data": {
            "text/html": [
              "<div>\n",
              "<style scoped>\n",
              "    .dataframe tbody tr th:only-of-type {\n",
              "        vertical-align: middle;\n",
              "    }\n",
              "\n",
              "    .dataframe tbody tr th {\n",
              "        vertical-align: top;\n",
              "    }\n",
              "\n",
              "    .dataframe thead th {\n",
              "        text-align: right;\n",
              "    }\n",
              "</style>\n",
              "<table border=\"1\" class=\"dataframe\">\n",
              "  <thead>\n",
              "    <tr style=\"text-align: right;\">\n",
              "      <th></th>\n",
              "      <th>FILE_NAME</th>\n",
              "      <th>STATES</th>\n",
              "      <th>INPUTS</th>\n",
              "      <th>LSTAR_MQ_SYM</th>\n",
              "      <th>LSTAR_MQ_RST</th>\n",
              "      <th>LSTAR_EQ_SYM</th>\n",
              "      <th>LSTAR_EQ_RST</th>\n",
              "      <th>LSTAR_TOTAL_SYM</th>\n",
              "      <th>LSTAR_TOTAL_RST</th>\n",
              "      <th>LSTAR_EQs</th>\n",
              "      <th>CLSTAR_MQ_SYM</th>\n",
              "      <th>CLSTAR_MQ_RST</th>\n",
              "      <th>CLSTAR_EQ_SYM</th>\n",
              "      <th>CLSTAR_EQ_RST</th>\n",
              "      <th>CLSTAR_TOTAL_SYM</th>\n",
              "      <th>CLSTAR_TOTAL_RST</th>\n",
              "      <th>CLSTAR_EQs</th>\n",
              "      <th>CLSTAR_COMPONENTS</th>\n",
              "      <th>CLSTAR_ROUNDS</th>\n",
              "      <th>CACHE</th>\n",
              "    </tr>\n",
              "  </thead>\n",
              "  <tbody>\n",
              "    <tr>\n",
              "      <th>9</th>\n",
              "      <td>Real-Tests/data/Reals_With_4_Components2.txt</td>\n",
              "      <td>298</td>\n",
              "      <td>13</td>\n",
              "      <td>7732853</td>\n",
              "      <td>127321</td>\n",
              "      <td>76719</td>\n",
              "      <td>513</td>\n",
              "      <td>7809572</td>\n",
              "      <td>127834</td>\n",
              "      <td>4</td>\n",
              "      <td>10557077</td>\n",
              "      <td>125662</td>\n",
              "      <td>1510612</td>\n",
              "      <td>10083</td>\n",
              "      <td>12067689</td>\n",
              "      <td>135745</td>\n",
              "      <td>99</td>\n",
              "      <td>2</td>\n",
              "      <td>11</td>\n",
              "      <td>True</td>\n",
              "    </tr>\n",
              "    <tr>\n",
              "      <th>11</th>\n",
              "      <td>Real-Tests/data/Reals_With_4_Components4.txt</td>\n",
              "      <td>180</td>\n",
              "      <td>18</td>\n",
              "      <td>6671718</td>\n",
              "      <td>97545</td>\n",
              "      <td>76438</td>\n",
              "      <td>501</td>\n",
              "      <td>6748156</td>\n",
              "      <td>98046</td>\n",
              "      <td>2</td>\n",
              "      <td>3336330</td>\n",
              "      <td>43079</td>\n",
              "      <td>2795371</td>\n",
              "      <td>18610</td>\n",
              "      <td>6131701</td>\n",
              "      <td>61689</td>\n",
              "      <td>177</td>\n",
              "      <td>3</td>\n",
              "      <td>15</td>\n",
              "      <td>True</td>\n",
              "    </tr>\n",
              "    <tr>\n",
              "      <th>12</th>\n",
              "      <td>Real-Tests/data/Reals_With_5_Components1.txt</td>\n",
              "      <td>894</td>\n",
              "      <td>16</td>\n",
              "      <td>3573813</td>\n",
              "      <td>192659</td>\n",
              "      <td>75150</td>\n",
              "      <td>502</td>\n",
              "      <td>3648963</td>\n",
              "      <td>193161</td>\n",
              "      <td>2</td>\n",
              "      <td>10793711</td>\n",
              "      <td>140952</td>\n",
              "      <td>2571316</td>\n",
              "      <td>17124</td>\n",
              "      <td>13365027</td>\n",
              "      <td>158076</td>\n",
              "      <td>144</td>\n",
              "      <td>3</td>\n",
              "      <td>13</td>\n",
              "      <td>True</td>\n",
              "    </tr>\n",
              "    <tr>\n",
              "      <th>13</th>\n",
              "      <td>Real-Tests/data/Reals_With_5_Components2.txt</td>\n",
              "      <td>1248</td>\n",
              "      <td>19</td>\n",
              "      <td>16770435</td>\n",
              "      <td>468084</td>\n",
              "      <td>79968</td>\n",
              "      <td>532</td>\n",
              "      <td>16850403</td>\n",
              "      <td>468616</td>\n",
              "      <td>3</td>\n",
              "      <td>9206471</td>\n",
              "      <td>138978</td>\n",
              "      <td>4524659</td>\n",
              "      <td>30172</td>\n",
              "      <td>13731130</td>\n",
              "      <td>169150</td>\n",
              "      <td>239</td>\n",
              "      <td>3</td>\n",
              "      <td>19</td>\n",
              "      <td>True</td>\n",
              "    </tr>\n",
              "    <tr>\n",
              "      <th>14</th>\n",
              "      <td>Real-Tests/data/Reals_With_5_Components3.txt</td>\n",
              "      <td>112</td>\n",
              "      <td>16</td>\n",
              "      <td>192528</td>\n",
              "      <td>28688</td>\n",
              "      <td>74188</td>\n",
              "      <td>500</td>\n",
              "      <td>266716</td>\n",
              "      <td>29188</td>\n",
              "      <td>1</td>\n",
              "      <td>24313</td>\n",
              "      <td>1381</td>\n",
              "      <td>3692424</td>\n",
              "      <td>24595</td>\n",
              "      <td>3716737</td>\n",
              "      <td>25976</td>\n",
              "      <td>149</td>\n",
              "      <td>5</td>\n",
              "      <td>13</td>\n",
              "      <td>True</td>\n",
              "    </tr>\n",
              "    <tr>\n",
              "      <th>16</th>\n",
              "      <td>Real-Tests/data/Reals_With_6_Components1.txt</td>\n",
              "      <td>1248</td>\n",
              "      <td>25</td>\n",
              "      <td>17216250</td>\n",
              "      <td>944919</td>\n",
              "      <td>75307</td>\n",
              "      <td>503</td>\n",
              "      <td>17291557</td>\n",
              "      <td>945422</td>\n",
              "      <td>2</td>\n",
              "      <td>10392270</td>\n",
              "      <td>127108</td>\n",
              "      <td>6946225</td>\n",
              "      <td>46173</td>\n",
              "      <td>17338495</td>\n",
              "      <td>173281</td>\n",
              "      <td>357</td>\n",
              "      <td>6</td>\n",
              "      <td>21</td>\n",
              "      <td>True</td>\n",
              "    </tr>\n",
              "    <tr>\n",
              "      <th>18</th>\n",
              "      <td>Real-Tests/data/Reals_With_6_Components3.txt</td>\n",
              "      <td>384</td>\n",
              "      <td>17</td>\n",
              "      <td>9203882</td>\n",
              "      <td>165150</td>\n",
              "      <td>76323</td>\n",
              "      <td>516</td>\n",
              "      <td>9280205</td>\n",
              "      <td>165666</td>\n",
              "      <td>3</td>\n",
              "      <td>13279598</td>\n",
              "      <td>160352</td>\n",
              "      <td>3482485</td>\n",
              "      <td>23131</td>\n",
              "      <td>16762083</td>\n",
              "      <td>183483</td>\n",
              "      <td>179</td>\n",
              "      <td>4</td>\n",
              "      <td>15</td>\n",
              "      <td>True</td>\n",
              "    </tr>\n",
              "    <tr>\n",
              "      <th>20</th>\n",
              "      <td>Real-Tests/data/Reals_With_7_Components1.txt</td>\n",
              "      <td>2808</td>\n",
              "      <td>27</td>\n",
              "      <td>5913675</td>\n",
              "      <td>734859</td>\n",
              "      <td>73957</td>\n",
              "      <td>500</td>\n",
              "      <td>5987632</td>\n",
              "      <td>735359</td>\n",
              "      <td>1</td>\n",
              "      <td>1118142</td>\n",
              "      <td>15758</td>\n",
              "      <td>8663125</td>\n",
              "      <td>57680</td>\n",
              "      <td>9781267</td>\n",
              "      <td>73438</td>\n",
              "      <td>395</td>\n",
              "      <td>6</td>\n",
              "      <td>22</td>\n",
              "      <td>True</td>\n",
              "    </tr>\n",
              "    <tr>\n",
              "      <th>21</th>\n",
              "      <td>Real-Tests/data/Reals_With_7_Components2.txt</td>\n",
              "      <td>1152</td>\n",
              "      <td>23</td>\n",
              "      <td>16425875</td>\n",
              "      <td>356431</td>\n",
              "      <td>75121</td>\n",
              "      <td>504</td>\n",
              "      <td>16500996</td>\n",
              "      <td>356935</td>\n",
              "      <td>2</td>\n",
              "      <td>20335806</td>\n",
              "      <td>240652</td>\n",
              "      <td>5497912</td>\n",
              "      <td>36680</td>\n",
              "      <td>25833718</td>\n",
              "      <td>277332</td>\n",
              "      <td>303</td>\n",
              "      <td>5</td>\n",
              "      <td>19</td>\n",
              "      <td>True</td>\n",
              "    </tr>\n",
              "    <tr>\n",
              "      <th>22</th>\n",
              "      <td>Real-Tests/data/Reals_With_7_Components3.txt</td>\n",
              "      <td>1248</td>\n",
              "      <td>22</td>\n",
              "      <td>21942378</td>\n",
              "      <td>826896</td>\n",
              "      <td>75750</td>\n",
              "      <td>508</td>\n",
              "      <td>22018128</td>\n",
              "      <td>827404</td>\n",
              "      <td>3</td>\n",
              "      <td>13305768</td>\n",
              "      <td>161125</td>\n",
              "      <td>6564041</td>\n",
              "      <td>43668</td>\n",
              "      <td>19869809</td>\n",
              "      <td>204793</td>\n",
              "      <td>280</td>\n",
              "      <td>6</td>\n",
              "      <td>18</td>\n",
              "      <td>True</td>\n",
              "    </tr>\n",
              "    <tr>\n",
              "      <th>23</th>\n",
              "      <td>Real-Tests/data/Reals_With_7_Components4.txt</td>\n",
              "      <td>1296</td>\n",
              "      <td>23</td>\n",
              "      <td>2970887</td>\n",
              "      <td>457079</td>\n",
              "      <td>75768</td>\n",
              "      <td>500</td>\n",
              "      <td>3046655</td>\n",
              "      <td>457579</td>\n",
              "      <td>1</td>\n",
              "      <td>201634</td>\n",
              "      <td>2769</td>\n",
              "      <td>5795394</td>\n",
              "      <td>38632</td>\n",
              "      <td>5997028</td>\n",
              "      <td>41401</td>\n",
              "      <td>273</td>\n",
              "      <td>7</td>\n",
              "      <td>17</td>\n",
              "      <td>True</td>\n",
              "    </tr>\n",
              "    <tr>\n",
              "      <th>25</th>\n",
              "      <td>Real-Tests/data/Reals_With_8_Components2.txt</td>\n",
              "      <td>1664</td>\n",
              "      <td>23</td>\n",
              "      <td>24286831</td>\n",
              "      <td>1123105</td>\n",
              "      <td>76638</td>\n",
              "      <td>507</td>\n",
              "      <td>24363469</td>\n",
              "      <td>1123612</td>\n",
              "      <td>3</td>\n",
              "      <td>10041596</td>\n",
              "      <td>134127</td>\n",
              "      <td>7075319</td>\n",
              "      <td>47161</td>\n",
              "      <td>17116915</td>\n",
              "      <td>181288</td>\n",
              "      <td>294</td>\n",
              "      <td>7</td>\n",
              "      <td>18</td>\n",
              "      <td>True</td>\n",
              "    </tr>\n",
              "    <tr>\n",
              "      <th>30</th>\n",
              "      <td>Real-Tests/data/Reals_With_9_Components3.txt</td>\n",
              "      <td>2880</td>\n",
              "      <td>23</td>\n",
              "      <td>9699808</td>\n",
              "      <td>633123</td>\n",
              "      <td>76305</td>\n",
              "      <td>507</td>\n",
              "      <td>9776113</td>\n",
              "      <td>633630</td>\n",
              "      <td>2</td>\n",
              "      <td>4550760</td>\n",
              "      <td>52709</td>\n",
              "      <td>9168887</td>\n",
              "      <td>61165</td>\n",
              "      <td>13719647</td>\n",
              "      <td>113874</td>\n",
              "      <td>349</td>\n",
              "      <td>7</td>\n",
              "      <td>21</td>\n",
              "      <td>True</td>\n",
              "    </tr>\n",
              "    <tr>\n",
              "      <th>31</th>\n",
              "      <td>Real-Tests/data/Reals_With_9_Components4.txt</td>\n",
              "      <td>1536</td>\n",
              "      <td>21</td>\n",
              "      <td>4854549</td>\n",
              "      <td>677397</td>\n",
              "      <td>74028</td>\n",
              "      <td>500</td>\n",
              "      <td>4928577</td>\n",
              "      <td>677897</td>\n",
              "      <td>1</td>\n",
              "      <td>5123</td>\n",
              "      <td>645</td>\n",
              "      <td>6101511</td>\n",
              "      <td>40616</td>\n",
              "      <td>6106634</td>\n",
              "      <td>41261</td>\n",
              "      <td>232</td>\n",
              "      <td>9</td>\n",
              "      <td>15</td>\n",
              "      <td>True</td>\n",
              "    </tr>\n",
              "  </tbody>\n",
              "</table>\n",
              "</div>"
            ],
            "text/plain": [
              "                                       FILE_NAME  STATES  INPUTS  \\\n",
              "9   Real-Tests/data/Reals_With_4_Components2.txt     298      13   \n",
              "11  Real-Tests/data/Reals_With_4_Components4.txt     180      18   \n",
              "12  Real-Tests/data/Reals_With_5_Components1.txt     894      16   \n",
              "13  Real-Tests/data/Reals_With_5_Components2.txt    1248      19   \n",
              "14  Real-Tests/data/Reals_With_5_Components3.txt     112      16   \n",
              "16  Real-Tests/data/Reals_With_6_Components1.txt    1248      25   \n",
              "18  Real-Tests/data/Reals_With_6_Components3.txt     384      17   \n",
              "20  Real-Tests/data/Reals_With_7_Components1.txt    2808      27   \n",
              "21  Real-Tests/data/Reals_With_7_Components2.txt    1152      23   \n",
              "22  Real-Tests/data/Reals_With_7_Components3.txt    1248      22   \n",
              "23  Real-Tests/data/Reals_With_7_Components4.txt    1296      23   \n",
              "25  Real-Tests/data/Reals_With_8_Components2.txt    1664      23   \n",
              "30  Real-Tests/data/Reals_With_9_Components3.txt    2880      23   \n",
              "31  Real-Tests/data/Reals_With_9_Components4.txt    1536      21   \n",
              "\n",
              "    LSTAR_MQ_SYM  LSTAR_MQ_RST  LSTAR_EQ_SYM  LSTAR_EQ_RST  LSTAR_TOTAL_SYM  \\\n",
              "9        7732853        127321         76719           513          7809572   \n",
              "11       6671718         97545         76438           501          6748156   \n",
              "12       3573813        192659         75150           502          3648963   \n",
              "13      16770435        468084         79968           532         16850403   \n",
              "14        192528         28688         74188           500           266716   \n",
              "16      17216250        944919         75307           503         17291557   \n",
              "18       9203882        165150         76323           516          9280205   \n",
              "20       5913675        734859         73957           500          5987632   \n",
              "21      16425875        356431         75121           504         16500996   \n",
              "22      21942378        826896         75750           508         22018128   \n",
              "23       2970887        457079         75768           500          3046655   \n",
              "25      24286831       1123105         76638           507         24363469   \n",
              "30       9699808        633123         76305           507          9776113   \n",
              "31       4854549        677397         74028           500          4928577   \n",
              "\n",
              "    LSTAR_TOTAL_RST  LSTAR_EQs  CLSTAR_MQ_SYM  CLSTAR_MQ_RST  CLSTAR_EQ_SYM  \\\n",
              "9            127834          4       10557077         125662        1510612   \n",
              "11            98046          2        3336330          43079        2795371   \n",
              "12           193161          2       10793711         140952        2571316   \n",
              "13           468616          3        9206471         138978        4524659   \n",
              "14            29188          1          24313           1381        3692424   \n",
              "16           945422          2       10392270         127108        6946225   \n",
              "18           165666          3       13279598         160352        3482485   \n",
              "20           735359          1        1118142          15758        8663125   \n",
              "21           356935          2       20335806         240652        5497912   \n",
              "22           827404          3       13305768         161125        6564041   \n",
              "23           457579          1         201634           2769        5795394   \n",
              "25          1123612          3       10041596         134127        7075319   \n",
              "30           633630          2        4550760          52709        9168887   \n",
              "31           677897          1           5123            645        6101511   \n",
              "\n",
              "    CLSTAR_EQ_RST  CLSTAR_TOTAL_SYM  CLSTAR_TOTAL_RST  CLSTAR_EQs  \\\n",
              "9           10083          12067689            135745          99   \n",
              "11          18610           6131701             61689         177   \n",
              "12          17124          13365027            158076         144   \n",
              "13          30172          13731130            169150         239   \n",
              "14          24595           3716737             25976         149   \n",
              "16          46173          17338495            173281         357   \n",
              "18          23131          16762083            183483         179   \n",
              "20          57680           9781267             73438         395   \n",
              "21          36680          25833718            277332         303   \n",
              "22          43668          19869809            204793         280   \n",
              "23          38632           5997028             41401         273   \n",
              "25          47161          17116915            181288         294   \n",
              "30          61165          13719647            113874         349   \n",
              "31          40616           6106634             41261         232   \n",
              "\n",
              "    CLSTAR_COMPONENTS  CLSTAR_ROUNDS  CACHE  \n",
              "9                   2             11   True  \n",
              "11                  3             15   True  \n",
              "12                  3             13   True  \n",
              "13                  3             19   True  \n",
              "14                  5             13   True  \n",
              "16                  6             21   True  \n",
              "18                  4             15   True  \n",
              "20                  6             22   True  \n",
              "21                  5             19   True  \n",
              "22                  6             18   True  \n",
              "23                  7             17   True  \n",
              "25                  7             18   True  \n",
              "30                  7             21   True  \n",
              "31                  9             15   True  "
            ]
          },
          "execution_count": 28,
          "metadata": {},
          "output_type": "execute_result"
        }
      ],
      "source": [
        "df = df.dropna(axis=1, how='all')\n",
        "df = df.dropna()\n",
        "df"
      ]
    },
    {
      "cell_type": "code",
      "execution_count": 29,
      "metadata": {
        "id": "QKY1FHItuvKw"
      },
      "outputs": [],
      "source": [
        "# Calculate mean without outliers\n",
        "from scipy import stats\n",
        "def trimmed_mean(x):\n",
        "  z = stats.zscore(x)\n",
        "  d_z = x.loc[z<3,]\n",
        "  return d_z.mean()"
      ]
    },
    {
      "cell_type": "markdown",
      "metadata": {
        "id": "tNsHq75RuJdH"
      },
      "source": [
        "## Statistical Analysis"
      ]
    },
    {
      "cell_type": "code",
      "execution_count": 30,
      "metadata": {
        "cellView": "form",
        "id": "uWkmVb6WuJdJ"
      },
      "outputs": [],
      "source": [
        "# @title Bins\n",
        "bins = [100,1100,1300,2900]\n",
        "labels = []"
      ]
    },
    {
      "cell_type": "markdown",
      "metadata": {
        "id": "Mj4mmYMl-YvV"
      },
      "source": [
        "We cluster the benchmark into eight categories based on the FSM’s number of states to summerize the results and illusterate them."
      ]
    },
    {
      "cell_type": "code",
      "execution_count": 31,
      "metadata": {
        "colab": {
          "base_uri": "https://localhost:8080/"
        },
        "id": "8CO4kfjiMU3R",
        "outputId": "eac012f0-61c9-4f03-80e3-4f34ad6aae67"
      },
      "outputs": [
        {
          "name": "stdout",
          "output_type": "stream",
          "text": [
            "Count:   14\n",
            "Min:     112\n",
            "Max:     2880\n",
            "mean:    1210.5714285714287\n",
            "std:     857.1133767824072\n"
          ]
        },
        {
          "name": "stderr",
          "output_type": "stream",
          "text": [
            "C:\\Users\\Aryan\\AppData\\Local\\Temp\\ipykernel_15288\\2303827582.py:3: FutureWarning: The provided callable <built-in function min> is currently using DataFrameGroupBy.min. In a future version of pandas, the provided callable will be used directly. To keep current behavior pass the string \"min\" instead.\n",
            "  print(\"Min:    \",df.groupby('FILE_NAME').agg(min)['STATES'].min())\n",
            "C:\\Users\\Aryan\\AppData\\Local\\Temp\\ipykernel_15288\\2303827582.py:4: FutureWarning: The provided callable <built-in function min> is currently using DataFrameGroupBy.min. In a future version of pandas, the provided callable will be used directly. To keep current behavior pass the string \"min\" instead.\n",
            "  print(\"Max:    \",df.groupby('FILE_NAME').agg(min)['STATES'].max())\n",
            "C:\\Users\\Aryan\\AppData\\Local\\Temp\\ipykernel_15288\\2303827582.py:6: FutureWarning: The provided callable <built-in function min> is currently using DataFrameGroupBy.min. In a future version of pandas, the provided callable will be used directly. To keep current behavior pass the string \"min\" instead.\n",
            "  print(\"mean:   \", df.groupby('FILE_NAME').agg(min)['STATES'].mean())\n",
            "C:\\Users\\Aryan\\AppData\\Local\\Temp\\ipykernel_15288\\2303827582.py:8: FutureWarning: The provided callable <built-in function min> is currently using DataFrameGroupBy.min. In a future version of pandas, the provided callable will be used directly. To keep current behavior pass the string \"min\" instead.\n",
            "  print(\"std:    \", df.groupby('FILE_NAME').agg(min)['STATES'].std())\n"
          ]
        }
      ],
      "source": [
        "# Data Distribution\n",
        "print(\"Count:  \",df['FILE_NAME'].unique().size)\n",
        "print(\"Min:    \",df.groupby('FILE_NAME').agg(min)['STATES'].min())\n",
        "print(\"Max:    \",df.groupby('FILE_NAME').agg(min)['STATES'].max())\n",
        "\n",
        "print(\"mean:   \", df.groupby('FILE_NAME').agg(min)['STATES'].mean())\n",
        "\n",
        "print(\"std:    \", df.groupby('FILE_NAME').agg(min)['STATES'].std())"
      ]
    },
    {
      "cell_type": "code",
      "execution_count": 32,
      "metadata": {
        "id": "CvE_-0qeuJdI"
      },
      "outputs": [],
      "source": [
        "# calculate the progress \n",
        "\n",
        "df['CLSTAR_TOTAL_RST_progress'] = (1 - (df['CLSTAR_TOTAL_RST'] / df['CLSTAR_TOTAL_RST']))*100\n",
        "df['CLSTAR_TOTAL_SYM_progress'] = (1 - (df['CLSTAR_TOTAL_SYM'] / df['CLSTAR_TOTAL_SYM']))*100\n",
        "\n",
        "df['CLSTAR_MQ_SYM_progress'] = (1 - (df['CLSTAR_MQ_SYM'] / df['CLSTAR_MQ_SYM']))*100\n",
        "df['CLSTAR_MQ_RST_progress'] = (1 - (df['CLSTAR_MQ_RST'] / df['CLSTAR_MQ_RST']))*100\n",
        "df['CLSTAR_EQ_SYM_progress'] = (1 - (df['CLSTAR_EQ_SYM'] / df['CLSTAR_EQ_SYM']))*100\n",
        "df['CLSTAR_EQ_RST_progress'] = (1 - (df['CLSTAR_EQ_RST'] / df['CLSTAR_EQ_RST']))*100\n"
      ]
    },
    {
      "cell_type": "code",
      "execution_count": 33,
      "metadata": {
        "colab": {
          "base_uri": "https://localhost:8080/"
        },
        "id": "E2d94V5yG1St",
        "outputId": "16d10841-8893-46f3-85c2-017cabb8ffc5"
      },
      "outputs": [
        {
          "name": "stdout",
          "output_type": "stream",
          "text": [
            "100 - 1100\n",
            "KstestResult(statistic=1.0, pvalue=0.0, statistic_location=112, statistic_sign=-1)\n",
            "KstestResult(statistic=1.0, pvalue=0.0, statistic_location=25976, statistic_sign=-1)\n",
            "KstestResult(statistic=1.0, pvalue=0.0, statistic_location=25976, statistic_sign=-1)\n",
            "KstestResult(statistic=1.0, pvalue=0.0, statistic_location=3716737, statistic_sign=-1)\n",
            "KstestResult(statistic=1.0, pvalue=0.0, statistic_location=3716737, statistic_sign=-1)\n",
            "ShapiroResult(statistic=0.8963831780672467, pvalue=0.09995612086299234)\n",
            "ShapiroResult(statistic=0.9410391639815876, pvalue=0.4318025741427914)\n",
            "ShapiroResult(statistic=0.9410391639815876, pvalue=0.4318025741427914)\n",
            "ShapiroResult(statistic=0.9559949006272074, pvalue=0.6569660217221918)\n",
            "ShapiroResult(statistic=0.9559949006272074, pvalue=0.6569660217221918)\n",
            "1100 - 1300\n",
            "KstestResult(statistic=1.0, pvalue=0.0, statistic_location=112, statistic_sign=-1)\n",
            "KstestResult(statistic=1.0, pvalue=0.0, statistic_location=25976, statistic_sign=-1)\n",
            "KstestResult(statistic=1.0, pvalue=0.0, statistic_location=25976, statistic_sign=-1)\n",
            "KstestResult(statistic=1.0, pvalue=0.0, statistic_location=3716737, statistic_sign=-1)\n",
            "KstestResult(statistic=1.0, pvalue=0.0, statistic_location=3716737, statistic_sign=-1)\n",
            "ShapiroResult(statistic=0.8963831780672467, pvalue=0.09995612086299234)\n",
            "ShapiroResult(statistic=0.9410391639815876, pvalue=0.4318025741427914)\n",
            "ShapiroResult(statistic=0.9410391639815876, pvalue=0.4318025741427914)\n",
            "ShapiroResult(statistic=0.9559949006272074, pvalue=0.6569660217221918)\n",
            "ShapiroResult(statistic=0.9559949006272074, pvalue=0.6569660217221918)\n",
            "1300 - 2900\n",
            "KstestResult(statistic=1.0, pvalue=0.0, statistic_location=112, statistic_sign=-1)\n",
            "KstestResult(statistic=1.0, pvalue=0.0, statistic_location=25976, statistic_sign=-1)\n",
            "KstestResult(statistic=1.0, pvalue=0.0, statistic_location=25976, statistic_sign=-1)\n",
            "KstestResult(statistic=1.0, pvalue=0.0, statistic_location=3716737, statistic_sign=-1)\n",
            "KstestResult(statistic=1.0, pvalue=0.0, statistic_location=3716737, statistic_sign=-1)\n",
            "ShapiroResult(statistic=0.8963831780672467, pvalue=0.09995612086299234)\n",
            "ShapiroResult(statistic=0.9410391639815876, pvalue=0.4318025741427914)\n",
            "ShapiroResult(statistic=0.9410391639815876, pvalue=0.4318025741427914)\n",
            "ShapiroResult(statistic=0.9559949006272074, pvalue=0.6569660217221918)\n",
            "ShapiroResult(statistic=0.9559949006272074, pvalue=0.6569660217221918)\n"
          ]
        }
      ],
      "source": [
        "# @title Check for normal\n",
        "for i in range(0, len(bins)-1):\n",
        "    data = df[df['STATES']>bins[i] & (df['STATES']<=bins[i+1])]\n",
        "    states_count = data.loc[:,'STATES']\n",
        "    input_count = data.loc[:,'INPUTS']\n",
        "    lstar_resets_count = data.loc[:,  'CLSTAR_TOTAL_RST']\n",
        "    CLSTAR_resets_count = data.loc[:, 'CLSTAR_TOTAL_RST']\n",
        "    lstar_symbols_count = data.loc[:, 'CLSTAR_TOTAL_SYM']\n",
        "    CLSTAR_symbols_count = data.loc[:,'CLSTAR_TOTAL_SYM']\n",
        "    print(bins[i],  '-', bins[i+1])\n",
        "    print(kstest(states_count,'norm'))\n",
        "    print(kstest(lstar_resets_count,'norm'))\n",
        "    print(kstest(CLSTAR_resets_count,'norm'))\n",
        "    print(kstest(lstar_symbols_count,'norm'))\n",
        "    print(kstest(CLSTAR_symbols_count,'norm'))\n",
        "\n",
        "    print(shapiro(states_count))\n",
        "    print(shapiro(lstar_resets_count))\n",
        "    print(shapiro(CLSTAR_resets_count))\n",
        "    print(shapiro(lstar_symbols_count))\n",
        "    print(shapiro(CLSTAR_symbols_count))\n",
        "\n"
      ]
    },
    {
      "cell_type": "code",
      "execution_count": 34,
      "metadata": {
        "id": "w7n0ExAnuJdJ"
      },
      "outputs": [
        {
          "name": "stderr",
          "output_type": "stream",
          "text": [
            "C:\\Users\\Aryan\\AppData\\Local\\Temp\\ipykernel_15288\\2274064958.py:3: FutureWarning: The default of observed=False is deprecated and will be changed to True in a future version of pandas. Pass observed=False to retain current behavior or observed=True to adopt the future default and silence this warning.\n",
            "  grouped = df.groupby(pd.cut(df[\"STATES\"],bins))\n"
          ]
        },
        {
          "data": {
            "text/html": [
              "<div>\n",
              "<style scoped>\n",
              "    .dataframe tbody tr th:only-of-type {\n",
              "        vertical-align: middle;\n",
              "    }\n",
              "\n",
              "    .dataframe tbody tr th {\n",
              "        vertical-align: top;\n",
              "    }\n",
              "\n",
              "    .dataframe thead th {\n",
              "        text-align: right;\n",
              "    }\n",
              "</style>\n",
              "<table border=\"1\" class=\"dataframe\">\n",
              "  <thead>\n",
              "    <tr style=\"text-align: right;\">\n",
              "      <th></th>\n",
              "      <th>STATES</th>\n",
              "      <th>inputs</th>\n",
              "      <th>LSTAR_total_sym_median</th>\n",
              "      <th>LSTAR_total_sym_mean</th>\n",
              "      <th>LSTAR_total_sym_std</th>\n",
              "      <th>LSTAR_total_reset_median</th>\n",
              "      <th>LSTAR_total_reset_mean</th>\n",
              "      <th>LSTAR_total_reset_std</th>\n",
              "      <th>LSTAR_mq_sym_mean</th>\n",
              "      <th>LSTAR_mq_sym_std</th>\n",
              "      <th>...</th>\n",
              "      <th>CLSTAR_mq_sym_std</th>\n",
              "      <th>CLSTAR_mq_reset_mean</th>\n",
              "      <th>CLSTAR_mq_reset_std</th>\n",
              "      <th>CLSTAR_eq_sym_mean</th>\n",
              "      <th>CLSTAR_eq_sym_std</th>\n",
              "      <th>CLSTAR_eq_reset_mean</th>\n",
              "      <th>CLSTAR_eq_reset_std</th>\n",
              "      <th>CLSTAR_eqs</th>\n",
              "      <th>CLSTAR_components</th>\n",
              "      <th>CLSTAR_rounds</th>\n",
              "    </tr>\n",
              "  </thead>\n",
              "  <tbody>\n",
              "    <tr>\n",
              "      <th>0</th>\n",
              "      <td>(100, 1100]</td>\n",
              "      <td>16.0</td>\n",
              "      <td>6748156.0</td>\n",
              "      <td>5550722.40</td>\n",
              "      <td>3.604952e+06</td>\n",
              "      <td>127834.0</td>\n",
              "      <td>122779.0</td>\n",
              "      <td>63618.924637</td>\n",
              "      <td>6671718.0</td>\n",
              "      <td>3.603943e+06</td>\n",
              "      <td>...</td>\n",
              "      <td>5.629650e+06</td>\n",
              "      <td>125662.0</td>\n",
              "      <td>68520.765391</td>\n",
              "      <td>2795371.0</td>\n",
              "      <td>8.626269e+05</td>\n",
              "      <td>18610.0</td>\n",
              "      <td>5725.578163</td>\n",
              "      <td>149.0</td>\n",
              "      <td>3.0</td>\n",
              "      <td>13.0</td>\n",
              "    </tr>\n",
              "    <tr>\n",
              "      <th>1</th>\n",
              "      <td>(1100, 1300]</td>\n",
              "      <td>23.0</td>\n",
              "      <td>16850403.0</td>\n",
              "      <td>15141547.80</td>\n",
              "      <td>7.123282e+06</td>\n",
              "      <td>468616.0</td>\n",
              "      <td>611191.2</td>\n",
              "      <td>258374.153813</td>\n",
              "      <td>16770435.0</td>\n",
              "      <td>7.123101e+06</td>\n",
              "      <td>...</td>\n",
              "      <td>7.283185e+06</td>\n",
              "      <td>138978.0</td>\n",
              "      <td>85738.250439</td>\n",
              "      <td>5795394.0</td>\n",
              "      <td>9.478682e+05</td>\n",
              "      <td>38632.0</td>\n",
              "      <td>6258.443017</td>\n",
              "      <td>280.0</td>\n",
              "      <td>6.0</td>\n",
              "      <td>19.0</td>\n",
              "    </tr>\n",
              "    <tr>\n",
              "      <th>2</th>\n",
              "      <td>(1300, 2900]</td>\n",
              "      <td>23.0</td>\n",
              "      <td>7881872.5</td>\n",
              "      <td>11263947.75</td>\n",
              "      <td>8.977519e+06</td>\n",
              "      <td>706628.0</td>\n",
              "      <td>792624.5</td>\n",
              "      <td>224554.160455</td>\n",
              "      <td>7806741.5</td>\n",
              "      <td>8.976361e+06</td>\n",
              "      <td>...</td>\n",
              "      <td>4.511029e+06</td>\n",
              "      <td>34233.5</td>\n",
              "      <td>59695.054566</td>\n",
              "      <td>7869222.0</td>\n",
              "      <td>1.416537e+06</td>\n",
              "      <td>52420.5</td>\n",
              "      <td>9465.662171</td>\n",
              "      <td>321.5</td>\n",
              "      <td>7.0</td>\n",
              "      <td>19.5</td>\n",
              "    </tr>\n",
              "  </tbody>\n",
              "</table>\n",
              "<p>3 rows × 34 columns</p>\n",
              "</div>"
            ],
            "text/plain": [
              "         STATES  inputs  LSTAR_total_sym_median  LSTAR_total_sym_mean  \\\n",
              "0   (100, 1100]    16.0               6748156.0            5550722.40   \n",
              "1  (1100, 1300]    23.0              16850403.0           15141547.80   \n",
              "2  (1300, 2900]    23.0               7881872.5           11263947.75   \n",
              "\n",
              "   LSTAR_total_sym_std  LSTAR_total_reset_median  LSTAR_total_reset_mean  \\\n",
              "0         3.604952e+06                  127834.0                122779.0   \n",
              "1         7.123282e+06                  468616.0                611191.2   \n",
              "2         8.977519e+06                  706628.0                792624.5   \n",
              "\n",
              "   LSTAR_total_reset_std  LSTAR_mq_sym_mean  LSTAR_mq_sym_std  ...  \\\n",
              "0           63618.924637          6671718.0      3.603943e+06  ...   \n",
              "1          258374.153813         16770435.0      7.123101e+06  ...   \n",
              "2          224554.160455          7806741.5      8.976361e+06  ...   \n",
              "\n",
              "   CLSTAR_mq_sym_std  CLSTAR_mq_reset_mean  CLSTAR_mq_reset_std  \\\n",
              "0       5.629650e+06              125662.0         68520.765391   \n",
              "1       7.283185e+06              138978.0         85738.250439   \n",
              "2       4.511029e+06               34233.5         59695.054566   \n",
              "\n",
              "   CLSTAR_eq_sym_mean  CLSTAR_eq_sym_std  CLSTAR_eq_reset_mean  \\\n",
              "0           2795371.0       8.626269e+05               18610.0   \n",
              "1           5795394.0       9.478682e+05               38632.0   \n",
              "2           7869222.0       1.416537e+06               52420.5   \n",
              "\n",
              "   CLSTAR_eq_reset_std  CLSTAR_eqs  CLSTAR_components  CLSTAR_rounds  \n",
              "0          5725.578163       149.0                3.0           13.0  \n",
              "1          6258.443017       280.0                6.0           19.0  \n",
              "2          9465.662171       321.5                7.0           19.5  \n",
              "\n",
              "[3 rows x 34 columns]"
            ]
          },
          "execution_count": 34,
          "metadata": {},
          "output_type": "execute_result"
        }
      ],
      "source": [
        "# @title Cluster Items\n",
        "\n",
        "grouped = df.groupby(pd.cut(df[\"STATES\"],bins))\n",
        "df3 = grouped.agg(\n",
        "    # states = pd.NamedAgg(column='STATES', aggfunc=\"min\"),\n",
        "    inputs=pd.NamedAgg(column=\"INPUTS\", aggfunc='median'),\n",
        "\n",
        "    LSTAR_total_sym_median=pd.NamedAgg(column='LSTAR_TOTAL_SYM', aggfunc='median'),\n",
        "    LSTAR_total_sym_mean=pd.NamedAgg(column='LSTAR_TOTAL_SYM', aggfunc='mean'),\n",
        "    LSTAR_total_sym_std=pd.NamedAgg(column='LSTAR_TOTAL_SYM', aggfunc=\"std\"),\n",
        "    LSTAR_total_reset_median=pd.NamedAgg(column='LSTAR_TOTAL_RST', aggfunc='median'),\n",
        "    LSTAR_total_reset_mean=pd.NamedAgg(column='LSTAR_TOTAL_RST', aggfunc='mean'),\n",
        "    LSTAR_total_reset_std=pd.NamedAgg(column='LSTAR_TOTAL_RST', aggfunc=\"std\"),\n",
        "    LSTAR_mq_sym_mean=pd.NamedAgg(column='LSTAR_MQ_SYM', aggfunc='median'),\n",
        "    LSTAR_mq_sym_std=pd.NamedAgg(column='LSTAR_MQ_SYM', aggfunc=\"std\"),\n",
        "    LSTAR_mq_reset_mean=pd.NamedAgg(column='LSTAR_MQ_RST', aggfunc='median'),\n",
        "    LSTAR_mq_reset_std=pd.NamedAgg(column='LSTAR_MQ_RST', aggfunc=\"std\"),\n",
        "    LSTAR_eq_sym_mean=pd.NamedAgg(column='LSTAR_EQ_SYM', aggfunc='median'),\n",
        "    LSTAR_eq_sym_std=pd.NamedAgg(column='LSTAR_EQ_SYM', aggfunc=\"std\"),\n",
        "    LSTAR_eq_reset_mean=pd.NamedAgg(column='LSTAR_EQ_RST', aggfunc='median'),\n",
        "    LSTAR_eq_reset_std=pd.NamedAgg(column='LSTAR_EQ_RST', aggfunc=\"std\"),\n",
        "    LSTAR_eqs=pd.NamedAgg(column='LSTAR_EQs', aggfunc='median'),\n",
        "\n",
        "    CLSTAR_total_sym_median=pd.NamedAgg(column='CLSTAR_TOTAL_SYM', aggfunc='mean'),\n",
        "    CLSTAR_total_sym_mean=pd.NamedAgg(column='CLSTAR_TOTAL_SYM', aggfunc='median'),\n",
        "    CLSTAR_total_sym_std=pd.NamedAgg(column='CLSTAR_TOTAL_SYM', aggfunc=\"std\"),\n",
        "    CLSTAR_total_reset_median=pd.NamedAgg(column='CLSTAR_TOTAL_RST', aggfunc='median'),\n",
        "    CLSTAR_total_reset_mean=pd.NamedAgg(column='CLSTAR_TOTAL_RST', aggfunc='mean'),\n",
        "    CLSTAR_total_reset_std=pd.NamedAgg(column='CLSTAR_TOTAL_RST', aggfunc=\"std\"),\n",
        "    CLSTAR_mq_sym_mean=pd.NamedAgg(column='CLSTAR_MQ_SYM', aggfunc='median'),\n",
        "    CLSTAR_mq_sym_std=pd.NamedAgg(column='CLSTAR_MQ_SYM', aggfunc=\"std\"),\n",
        "    CLSTAR_mq_reset_mean=pd.NamedAgg(column='CLSTAR_MQ_RST', aggfunc='median'),\n",
        "    CLSTAR_mq_reset_std=pd.NamedAgg(column='CLSTAR_MQ_RST', aggfunc=\"std\"),\n",
        "    CLSTAR_eq_sym_mean=pd.NamedAgg(column='CLSTAR_EQ_SYM', aggfunc='median'),\n",
        "    CLSTAR_eq_sym_std=pd.NamedAgg(column='CLSTAR_EQ_SYM', aggfunc=\"std\"),\n",
        "    CLSTAR_eq_reset_mean=pd.NamedAgg(column='CLSTAR_EQ_RST', aggfunc='median'),\n",
        "    CLSTAR_eq_reset_std=pd.NamedAgg(column='CLSTAR_EQ_RST', aggfunc=\"std\"),\n",
        "    CLSTAR_eqs=pd.NamedAgg(column='CLSTAR_EQs', aggfunc='median'),\n",
        "    CLSTAR_components=pd.NamedAgg(column='CLSTAR_COMPONENTS', aggfunc='median'),\n",
        "    CLSTAR_rounds=pd.NamedAgg(column='CLSTAR_ROUNDS', aggfunc='median'),\n",
        "\n",
        ").reset_index()\n",
        "\n",
        "df3"
      ]
    },
    {
      "cell_type": "code",
      "execution_count": 35,
      "metadata": {
        "id": "fC8Ltq73uJdL"
      },
      "outputs": [],
      "source": [
        "# Progress\n",
        "df3['CLSTAR_TOTAL_SYM_progress'] = (1 - (df3['CLSTAR_total_sym_mean'] / df3['LSTAR_total_sym_mean']))*100\n",
        "df3['CLSTAR_TOTAL_RST_progress'] = (1 - (df3['CLSTAR_total_reset_mean'] / df3['LSTAR_total_reset_mean']))*100\n",
        "df3['CLSTAR_MQ_SYM_progress'] = (1 - (df3['CLSTAR_mq_sym_mean'] / df3['LSTAR_mq_sym_mean']))*100\n",
        "df3['CLSTAR_MQ_RST_progress'] = (1 - (df3['CLSTAR_mq_reset_mean'] / df3['LSTAR_mq_reset_mean']))*100\n",
        "df3['CLSTAR_EQ_SYM_progress'] = (1 - (df3['CLSTAR_eq_sym_mean'] / df3['LSTAR_eq_sym_mean']))*100\n",
        "df3['CLSTAR_EQ_RST_progress'] = (1 - (df3['CLSTAR_eq_reset_mean'] / df3['LSTAR_eq_reset_mean']))*100"
      ]
    },
    {
      "cell_type": "code",
      "execution_count": 36,
      "metadata": {
        "id": "lxfU3vgRuJdL"
      },
      "outputs": [],
      "source": [
        "# @title Pvalue \n",
        "pvalue_info = {'STATES':[],\n",
        "'CLSTAR_TOTAL_SYM_pvalue':[],\n",
        "'CLSTAR_TOTAL_RST_pvalue':[],\n",
        "              }\n",
        "for index, row in df3.iterrows():\n",
        "  data_range = row['STATES']\n",
        "  filtered_df = df[(df['STATES']<data_range.right) & (df['STATES']>=data_range.left)]\n",
        "  mq_sym_ttest = ttest_rel(filtered_df.loc[:,'CLSTAR_TOTAL_SYM'], filtered_df.loc[:,'LSTAR_TOTAL_SYM'], alternative='less').pvalue\n",
        "  eq_reset_ttest = ttest_rel(filtered_df.loc[:,'CLSTAR_TOTAL_RST'], filtered_df.loc[:,'LSTAR_TOTAL_RST'], alternative='less').pvalue\n",
        "  pvalue_info['STATES'].append(data_range)\n",
        "  pvalue_info['CLSTAR_TOTAL_SYM_pvalue'].append(mq_sym_ttest)\n",
        "  pvalue_info['CLSTAR_TOTAL_RST_pvalue'].append(eq_reset_ttest)\n",
        "\n",
        "pvalue_df = pd.DataFrame(pvalue_info)\n",
        "final_df = pd.merge(df3, pvalue_df,how='right', on='STATES')"
      ]
    },
    {
      "cell_type": "code",
      "execution_count": 37,
      "metadata": {
        "colab": {
          "base_uri": "https://localhost:8080/"
        },
        "id": "LaNhxK4KGGQw",
        "outputId": "82cc29de-22f5-499b-9a74-6dd4cf8e41e2"
      },
      "outputs": [
        {
          "data": {
            "text/plain": [
              "0    0.974088\n",
              "1    0.718889\n",
              "2    0.557927\n",
              "Name: CLSTAR_TOTAL_SYM_pvalue, dtype: float64"
            ]
          },
          "execution_count": 37,
          "metadata": {},
          "output_type": "execute_result"
        }
      ],
      "source": [
        "final_df['CLSTAR_TOTAL_SYM_pvalue']"
      ]
    },
    {
      "cell_type": "code",
      "execution_count": 38,
      "metadata": {
        "colab": {
          "base_uri": "https://localhost:8080/"
        },
        "id": "uDW5NqDDDkQh",
        "outputId": "44a7896c-4fd9-4846-831e-1e13a7a88351"
      },
      "outputs": [
        {
          "data": {
            "text/plain": [
              "Index(['STATES', 'inputs', 'LSTAR_total_sym_median', 'LSTAR_total_sym_mean',\n",
              "       'LSTAR_total_sym_std', 'LSTAR_total_reset_median',\n",
              "       'LSTAR_total_reset_mean', 'LSTAR_total_reset_std', 'LSTAR_mq_sym_mean',\n",
              "       'LSTAR_mq_sym_std', 'LSTAR_mq_reset_mean', 'LSTAR_mq_reset_std',\n",
              "       'LSTAR_eq_sym_mean', 'LSTAR_eq_sym_std', 'LSTAR_eq_reset_mean',\n",
              "       'LSTAR_eq_reset_std', 'LSTAR_eqs', 'CLSTAR_total_sym_median',\n",
              "       'CLSTAR_total_sym_mean', 'CLSTAR_total_sym_std',\n",
              "       'CLSTAR_total_reset_median', 'CLSTAR_total_reset_mean',\n",
              "       'CLSTAR_total_reset_std', 'CLSTAR_mq_sym_mean', 'CLSTAR_mq_sym_std',\n",
              "       'CLSTAR_mq_reset_mean', 'CLSTAR_mq_reset_std', 'CLSTAR_eq_sym_mean',\n",
              "       'CLSTAR_eq_sym_std', 'CLSTAR_eq_reset_mean', 'CLSTAR_eq_reset_std',\n",
              "       'CLSTAR_eqs', 'CLSTAR_components', 'CLSTAR_rounds',\n",
              "       'CLSTAR_TOTAL_SYM_progress', 'CLSTAR_TOTAL_RST_progress',\n",
              "       'CLSTAR_MQ_SYM_progress', 'CLSTAR_MQ_RST_progress',\n",
              "       'CLSTAR_EQ_SYM_progress', 'CLSTAR_EQ_RST_progress',\n",
              "       'CLSTAR_TOTAL_SYM_pvalue', 'CLSTAR_TOTAL_RST_pvalue'],\n",
              "      dtype='object')"
            ]
          },
          "execution_count": 38,
          "metadata": {},
          "output_type": "execute_result"
        }
      ],
      "source": [
        "final_df.columns"
      ]
    },
    {
      "cell_type": "markdown",
      "metadata": {
        "id": "M2Dwz9LWgVw-"
      },
      "source": [
        "## Tables "
      ]
    },
    {
      "cell_type": "code",
      "execution_count": null,
      "metadata": {
        "id": "3tmWpTGhgUs3"
      },
      "outputs": [],
      "source": []
    },
    {
      "cell_type": "code",
      "execution_count": 39,
      "metadata": {
        "colab": {
          "base_uri": "https://localhost:8080/",
          "height": 344
        },
        "id": "S2hvFZf2Dp3Q",
        "outputId": "6dcca3ac-1c72-4dbd-a4c5-df6ff714a593"
      },
      "outputs": [
        {
          "data": {
            "text/html": [
              "<div>\n",
              "<style scoped>\n",
              "    .dataframe tbody tr th:only-of-type {\n",
              "        vertical-align: middle;\n",
              "    }\n",
              "\n",
              "    .dataframe tbody tr th {\n",
              "        vertical-align: top;\n",
              "    }\n",
              "\n",
              "    .dataframe thead th {\n",
              "        text-align: right;\n",
              "    }\n",
              "</style>\n",
              "<table border=\"1\" class=\"dataframe\">\n",
              "  <thead>\n",
              "    <tr style=\"text-align: right;\">\n",
              "      <th></th>\n",
              "      <th>STATES</th>\n",
              "      <th>LSTAR_total_reset_mean</th>\n",
              "      <th>LSTAR_total_reset_std</th>\n",
              "      <th>CLSTAR_total_reset_mean</th>\n",
              "      <th>CLSTAR_total_reset_std</th>\n",
              "      <th>CLSTAR_TOTAL_RST_progress</th>\n",
              "      <th>CLSTAR_TOTAL_RST_pvalue</th>\n",
              "    </tr>\n",
              "  </thead>\n",
              "  <tbody>\n",
              "    <tr>\n",
              "      <th>0</th>\n",
              "      <td>(100, 1100]</td>\n",
              "      <td>122779.0</td>\n",
              "      <td>63618.924637</td>\n",
              "      <td>112993.80</td>\n",
              "      <td>66563.933918</td>\n",
              "      <td>7.969767</td>\n",
              "      <td>0.213912</td>\n",
              "    </tr>\n",
              "    <tr>\n",
              "      <th>1</th>\n",
              "      <td>(1100, 1300]</td>\n",
              "      <td>611191.2</td>\n",
              "      <td>258374.153813</td>\n",
              "      <td>173191.40</td>\n",
              "      <td>85482.419487</td>\n",
              "      <td>71.663303</td>\n",
              "      <td>0.011243</td>\n",
              "    </tr>\n",
              "    <tr>\n",
              "      <th>2</th>\n",
              "      <td>(1300, 2900]</td>\n",
              "      <td>792624.5</td>\n",
              "      <td>224554.160455</td>\n",
              "      <td>102465.25</td>\n",
              "      <td>60364.799220</td>\n",
              "      <td>87.072662</td>\n",
              "      <td>0.002272</td>\n",
              "    </tr>\n",
              "  </tbody>\n",
              "</table>\n",
              "</div>"
            ],
            "text/plain": [
              "         STATES  LSTAR_total_reset_mean  LSTAR_total_reset_std  \\\n",
              "0   (100, 1100]                122779.0           63618.924637   \n",
              "1  (1100, 1300]                611191.2          258374.153813   \n",
              "2  (1300, 2900]                792624.5          224554.160455   \n",
              "\n",
              "   CLSTAR_total_reset_mean  CLSTAR_total_reset_std  CLSTAR_TOTAL_RST_progress  \\\n",
              "0                112993.80            66563.933918                   7.969767   \n",
              "1                173191.40            85482.419487                  71.663303   \n",
              "2                102465.25            60364.799220                  87.072662   \n",
              "\n",
              "   CLSTAR_TOTAL_RST_pvalue  \n",
              "0                 0.213912  \n",
              "1                 0.011243  \n",
              "2                 0.002272  "
            ]
          },
          "execution_count": 39,
          "metadata": {},
          "output_type": "execute_result"
        }
      ],
      "source": [
        "# @title Table 1\n",
        "final_df[[\"STATES\", \"LSTAR_total_reset_mean\", \"LSTAR_total_reset_std\", \"CLSTAR_total_reset_mean\", \"CLSTAR_total_reset_std\", \"CLSTAR_TOTAL_RST_progress\" ,\"CLSTAR_TOTAL_RST_pvalue\" ]]"
      ]
    },
    {
      "cell_type": "code",
      "execution_count": 40,
      "metadata": {
        "colab": {
          "base_uri": "https://localhost:8080/",
          "height": 300
        },
        "id": "y30255hDFR7f",
        "outputId": "c3e4d3ce-878b-40aa-86c2-bab5ebffc90c"
      },
      "outputs": [
        {
          "data": {
            "text/html": [
              "<div>\n",
              "<style scoped>\n",
              "    .dataframe tbody tr th:only-of-type {\n",
              "        vertical-align: middle;\n",
              "    }\n",
              "\n",
              "    .dataframe tbody tr th {\n",
              "        vertical-align: top;\n",
              "    }\n",
              "\n",
              "    .dataframe thead th {\n",
              "        text-align: right;\n",
              "    }\n",
              "</style>\n",
              "<table border=\"1\" class=\"dataframe\">\n",
              "  <thead>\n",
              "    <tr style=\"text-align: right;\">\n",
              "      <th></th>\n",
              "      <th>STATES</th>\n",
              "      <th>LSTAR_total_sym_mean</th>\n",
              "      <th>LSTAR_total_sym_std</th>\n",
              "      <th>CLSTAR_total_sym_mean</th>\n",
              "      <th>CLSTAR_total_sym_std</th>\n",
              "      <th>CLSTAR_TOTAL_SYM_progress</th>\n",
              "      <th>CLSTAR_TOTAL_SYM_pvalue</th>\n",
              "    </tr>\n",
              "  </thead>\n",
              "  <tbody>\n",
              "    <tr>\n",
              "      <th>0</th>\n",
              "      <td>(100, 1100]</td>\n",
              "      <td>5550722.40</td>\n",
              "      <td>3.604952e+06</td>\n",
              "      <td>12067689.0</td>\n",
              "      <td>5.360333e+06</td>\n",
              "      <td>-117.407540</td>\n",
              "      <td>0.974088</td>\n",
              "    </tr>\n",
              "    <tr>\n",
              "      <th>1</th>\n",
              "      <td>(1100, 1300]</td>\n",
              "      <td>15141547.80</td>\n",
              "      <td>7.123282e+06</td>\n",
              "      <td>17338495.0</td>\n",
              "      <td>7.367860e+06</td>\n",
              "      <td>-14.509396</td>\n",
              "      <td>0.718889</td>\n",
              "    </tr>\n",
              "    <tr>\n",
              "      <th>2</th>\n",
              "      <td>(1300, 2900]</td>\n",
              "      <td>11263947.75</td>\n",
              "      <td>8.977519e+06</td>\n",
              "      <td>11750457.0</td>\n",
              "      <td>4.774509e+06</td>\n",
              "      <td>-4.319172</td>\n",
              "      <td>0.557927</td>\n",
              "    </tr>\n",
              "  </tbody>\n",
              "</table>\n",
              "</div>"
            ],
            "text/plain": [
              "         STATES  LSTAR_total_sym_mean  LSTAR_total_sym_std  \\\n",
              "0   (100, 1100]            5550722.40         3.604952e+06   \n",
              "1  (1100, 1300]           15141547.80         7.123282e+06   \n",
              "2  (1300, 2900]           11263947.75         8.977519e+06   \n",
              "\n",
              "   CLSTAR_total_sym_mean  CLSTAR_total_sym_std  CLSTAR_TOTAL_SYM_progress  \\\n",
              "0             12067689.0          5.360333e+06                -117.407540   \n",
              "1             17338495.0          7.367860e+06                 -14.509396   \n",
              "2             11750457.0          4.774509e+06                  -4.319172   \n",
              "\n",
              "   CLSTAR_TOTAL_SYM_pvalue  \n",
              "0                 0.974088  \n",
              "1                 0.718889  \n",
              "2                 0.557927  "
            ]
          },
          "execution_count": 40,
          "metadata": {},
          "output_type": "execute_result"
        }
      ],
      "source": [
        "# @title Table 2\n",
        "final_df[[\"STATES\", \"LSTAR_total_sym_mean\", \"LSTAR_total_sym_std\", \"CLSTAR_total_sym_mean\", \"CLSTAR_total_sym_std\", \"CLSTAR_TOTAL_SYM_progress\" ,\"CLSTAR_TOTAL_SYM_pvalue\" ]]"
      ]
    },
    {
      "cell_type": "code",
      "execution_count": 41,
      "metadata": {
        "id": "T_BU62CauJdM"
      },
      "outputs": [],
      "source": [
        "final_df.to_csv(\"Results_summerized.csv\")"
      ]
    },
    {
      "cell_type": "markdown",
      "metadata": {
        "id": "RxAucIl5U88a"
      },
      "source": [
        "# Plots"
      ]
    },
    {
      "cell_type": "code",
      "execution_count": 42,
      "metadata": {
        "id": "AO-SzabauJdO"
      },
      "outputs": [],
      "source": [
        "sns.set(rc={'figure.figsize':(15,6)})"
      ]
    },
    {
      "cell_type": "code",
      "execution_count": 43,
      "metadata": {
        "colab": {
          "base_uri": "https://localhost:8080/",
          "height": 621
        },
        "id": "OecefKIHuJdO",
        "outputId": "18bf7846-2622-490c-cf60-b717c2baee03"
      },
      "outputs": [
        {
          "name": "stderr",
          "output_type": "stream",
          "text": [
            "C:\\Users\\Aryan\\AppData\\Local\\Temp\\ipykernel_15288\\2437269616.py:5: SettingWithCopyWarning: \n",
            "A value is trying to be set on a copy of a slice from a DataFrame.\n",
            "Try using .loc[row_indexer,col_indexer] = value instead\n",
            "\n",
            "See the caveats in the documentation: https://pandas.pydata.org/pandas-docs/stable/user_guide/indexing.html#returning-a-view-versus-a-copy\n",
            "  d2['state_range'] = pd.cut(d2['STATES'], bins= bins)\n"
          ]
        },
        {
          "name": "stderr",
          "output_type": "stream",
          "text": [
            "C:\\Users\\Aryan\\AppData\\Local\\Temp\\ipykernel_15288\\2437269616.py:20: SettingWithCopyWarning: \n",
            "A value is trying to be set on a copy of a slice from a DataFrame.\n",
            "Try using .loc[row_indexer,col_indexer] = value instead\n",
            "\n",
            "See the caveats in the documentation: https://pandas.pydata.org/pandas-docs/stable/user_guide/indexing.html#returning-a-view-versus-a-copy\n",
            "  d1['state_range'] = pd.cut(d1['STATES'], bins= bins)\n"
          ]
        },
        {
          "data": {
            "image/png": "[encoded data removed]",
            "text/plain": [
              "<Figure size 1500x600 with 2 Axes>"
            ]
          },
          "metadata": {},
          "output_type": "display_data"
        }
      ],
      "source": [
        "#  @title Fig 2. The total number of input symbols and resets in the CL∗ and L∗ methods\n",
        "fig, axs = plt.subplots(ncols=2)\n",
        "\n",
        "d2 = df[['STATES', 'LSTAR_TOTAL_RST', 'CLSTAR_TOTAL_RST']]\n",
        "d2['state_range'] = pd.cut(d2['STATES'], bins= bins)\n",
        "d2 = d2.set_index('state_range')\n",
        "\n",
        "d2[['L*',  'SCL*']] = d2[['LSTAR_TOTAL_RST',  'CLSTAR_TOTAL_RST']] \n",
        "\n",
        "d2 = d2[['L*',  'SCL*']].stack().reset_index()\n",
        "d2 = d2.rename(columns={\"level_1\": \"method\", 0: \"total number of resets\"})\n",
        "\n",
        "g1 = sns.boxplot(y = d2['state_range'],\n",
        "\t\t\tx = d2['total number of resets'],\n",
        "\t\t\thue = d2['method'],\n",
        "       showcaps=True,orient=\"h\", ax=axs[0]).set_xscale('log')\n",
        "\n",
        "\n",
        "d1 = df[['STATES', 'LSTAR_TOTAL_SYM', 'CLSTAR_TOTAL_SYM']]\n",
        "d1['state_range'] = pd.cut(d1['STATES'], bins= bins)\n",
        "d1 = d1.set_index('state_range')\n",
        "d1[['L*',  'SCL*']] = d1[['LSTAR_TOTAL_SYM',  'CLSTAR_TOTAL_SYM']] \n",
        "d1 = d1[['L*',  'SCL*']].stack().reset_index()\n",
        "d1 = d1.rename(columns={\"level_1\": \"method\", 0: \"total number of symbols\"})\n",
        "\n",
        "g2 = sns.boxplot(y = d1['state_range'],\n",
        "\t\t\tx = d1['total number of symbols'],\n",
        "\t\t\thue = d1['method'],\n",
        "       showcaps=True,orient=\"h\", ax=axs[1])\n",
        "g2.set_xscale('log')\n",
        "\n",
        "g2.set(yticklabels=[])\n",
        "g2.set(ylabel=None)\n",
        "g2.tick_params(bottom=False) \n",
        "# plt.grid()\n",
        "# plt.show()\n"
      ]
    },
    {
      "cell_type": "code",
      "execution_count": 44,
      "metadata": {
        "colab": {
          "base_uri": "https://localhost:8080/",
          "height": 472
        },
        "id": "jJ40oDO04wBX",
        "outputId": "da7d669e-ead9-40ff-b375-b153a35e53aa"
      },
      "outputs": [
        {
          "name": "stderr",
          "output_type": "stream",
          "text": [
            "C:\\Users\\Aryan\\AppData\\Local\\Temp\\ipykernel_15288\\3181691031.py:4: SettingWithCopyWarning: \n",
            "A value is trying to be set on a copy of a slice from a DataFrame.\n",
            "Try using .loc[row_indexer,col_indexer] = value instead\n",
            "\n",
            "See the caveats in the documentation: https://pandas.pydata.org/pandas-docs/stable/user_guide/indexing.html#returning-a-view-versus-a-copy\n",
            "  d2[['L*',  'SCL*', '#components', '#states']] = d2[['LSTAR_TOTAL_SYM',  'CLSTAR_TOTAL_SYM', 'CLSTAR_COMPONENTS', 'STATES']]\n",
            "C:\\Users\\Aryan\\AppData\\Local\\Temp\\ipykernel_15288\\3181691031.py:4: SettingWithCopyWarning: \n",
            "A value is trying to be set on a copy of a slice from a DataFrame.\n",
            "Try using .loc[row_indexer,col_indexer] = value instead\n",
            "\n",
            "See the caveats in the documentation: https://pandas.pydata.org/pandas-docs/stable/user_guide/indexing.html#returning-a-view-versus-a-copy\n",
            "  d2[['L*',  'SCL*', '#components', '#states']] = d2[['LSTAR_TOTAL_SYM',  'CLSTAR_TOTAL_SYM', 'CLSTAR_COMPONENTS', 'STATES']]\n",
            "C:\\Users\\Aryan\\AppData\\Local\\Temp\\ipykernel_15288\\3181691031.py:4: SettingWithCopyWarning: \n",
            "A value is trying to be set on a copy of a slice from a DataFrame.\n",
            "Try using .loc[row_indexer,col_indexer] = value instead\n",
            "\n",
            "See the caveats in the documentation: https://pandas.pydata.org/pandas-docs/stable/user_guide/indexing.html#returning-a-view-versus-a-copy\n",
            "  d2[['L*',  'SCL*', '#components', '#states']] = d2[['LSTAR_TOTAL_SYM',  'CLSTAR_TOTAL_SYM', 'CLSTAR_COMPONENTS', 'STATES']]\n",
            "C:\\Users\\Aryan\\AppData\\Local\\Temp\\ipykernel_15288\\3181691031.py:4: SettingWithCopyWarning: \n",
            "A value is trying to be set on a copy of a slice from a DataFrame.\n",
            "Try using .loc[row_indexer,col_indexer] = value instead\n",
            "\n",
            "See the caveats in the documentation: https://pandas.pydata.org/pandas-docs/stable/user_guide/indexing.html#returning-a-view-versus-a-copy\n",
            "  d2[['L*',  'SCL*', '#components', '#states']] = d2[['LSTAR_TOTAL_SYM',  'CLSTAR_TOTAL_SYM', 'CLSTAR_COMPONENTS', 'STATES']]\n"
          ]
        },
        {
          "data": {
            "image/png": "[encoded data removed]",
            "text/plain": [
              "<Figure size 1290.5x500 with 2 Axes>"
            ]
          },
          "metadata": {},
          "output_type": "display_data"
        }
      ],
      "source": [
        "# @title Fig.3: The effect of FSM size in terms of number of components and states on total number of input symbols.\n",
        "d2 = df[['STATES','CLSTAR_COMPONENTS', 'LSTAR_TOTAL_SYM', 'CLSTAR_TOTAL_SYM']]\n",
        "\n",
        "d2[['L*',  'SCL*', '#components', '#states']] = d2[['LSTAR_TOTAL_SYM',  'CLSTAR_TOTAL_SYM', 'CLSTAR_COMPONENTS', 'STATES']] \n",
        "d2 = d2.set_index(['#states','#components'])\n",
        "\n",
        "d2 = d2[['L*',  'SCL*']].stack().reset_index()\n",
        "d2 = d2.rename(columns={\"level_2\": \"method\", 0: \"total number of input symbols\"})\n",
        "\n",
        "sns.pairplot(d2, x_vars=[\"#states\", \"#components\"], y_vars=[\"total number of input symbols\"],\n",
        "             hue=\"method\", height=5, aspect=1.2, kind=\"reg\" );\n",
        "plt.yscale('log')\n"
      ]
    },
    {
      "cell_type": "code",
      "execution_count": 45,
      "metadata": {
        "colab": {
          "base_uri": "https://localhost:8080/",
          "height": 472
        },
        "id": "j4fbzVuspqdR",
        "outputId": "9a7641c2-e80f-45df-b677-04310f72b2b1"
      },
      "outputs": [
        {
          "name": "stderr",
          "output_type": "stream",
          "text": [
            "C:\\Users\\Aryan\\AppData\\Local\\Temp\\ipykernel_15288\\752197651.py:5: SettingWithCopyWarning: \n",
            "A value is trying to be set on a copy of a slice from a DataFrame.\n",
            "Try using .loc[row_indexer,col_indexer] = value instead\n",
            "\n",
            "See the caveats in the documentation: https://pandas.pydata.org/pandas-docs/stable/user_guide/indexing.html#returning-a-view-versus-a-copy\n",
            "  d2[['L*',  'SCL*', '#components', '#states']] = d2[['LSTAR_TOTAL_RST',  'CLSTAR_TOTAL_RST', 'CLSTAR_COMPONENTS', 'STATES']]\n",
            "C:\\Users\\Aryan\\AppData\\Local\\Temp\\ipykernel_15288\\752197651.py:5: SettingWithCopyWarning: \n",
            "A value is trying to be set on a copy of a slice from a DataFrame.\n",
            "Try using .loc[row_indexer,col_indexer] = value instead\n",
            "\n",
            "See the caveats in the documentation: https://pandas.pydata.org/pandas-docs/stable/user_guide/indexing.html#returning-a-view-versus-a-copy\n",
            "  d2[['L*',  'SCL*', '#components', '#states']] = d2[['LSTAR_TOTAL_RST',  'CLSTAR_TOTAL_RST', 'CLSTAR_COMPONENTS', 'STATES']]\n",
            "C:\\Users\\Aryan\\AppData\\Local\\Temp\\ipykernel_15288\\752197651.py:5: SettingWithCopyWarning: \n",
            "A value is trying to be set on a copy of a slice from a DataFrame.\n",
            "Try using .loc[row_indexer,col_indexer] = value instead\n",
            "\n",
            "See the caveats in the documentation: https://pandas.pydata.org/pandas-docs/stable/user_guide/indexing.html#returning-a-view-versus-a-copy\n",
            "  d2[['L*',  'SCL*', '#components', '#states']] = d2[['LSTAR_TOTAL_RST',  'CLSTAR_TOTAL_RST', 'CLSTAR_COMPONENTS', 'STATES']]\n",
            "C:\\Users\\Aryan\\AppData\\Local\\Temp\\ipykernel_15288\\752197651.py:5: SettingWithCopyWarning: \n",
            "A value is trying to be set on a copy of a slice from a DataFrame.\n",
            "Try using .loc[row_indexer,col_indexer] = value instead\n",
            "\n",
            "See the caveats in the documentation: https://pandas.pydata.org/pandas-docs/stable/user_guide/indexing.html#returning-a-view-versus-a-copy\n",
            "  d2[['L*',  'SCL*', '#components', '#states']] = d2[['LSTAR_TOTAL_RST',  'CLSTAR_TOTAL_RST', 'CLSTAR_COMPONENTS', 'STATES']]\n"
          ]
        },
        {
          "data": {
            "image/png": "[encoded data removed]",
            "text/plain": [
              "<Figure size 1290.5x500 with 2 Axes>"
            ]
          },
          "metadata": {},
          "output_type": "display_data"
        }
      ],
      "source": [
        "# @title Fig.4: The effect of FSM size in terms of number of components and states on total number of input resets.\n",
        "\n",
        "d2 = df[['STATES','CLSTAR_COMPONENTS', 'LSTAR_TOTAL_RST', 'CLSTAR_TOTAL_RST']]\n",
        "\n",
        "d2[['L*',  'SCL*', '#components', '#states']] = d2[['LSTAR_TOTAL_RST',  'CLSTAR_TOTAL_RST', 'CLSTAR_COMPONENTS', 'STATES']] \n",
        "d2 = d2.set_index(['#states','#components'])\n",
        "\n",
        "d2 = d2[['L*',  'SCL*']].stack().reset_index()\n",
        "d2 = d2.rename(columns={\"level_2\": \"method\", 0: \"total number of resets\"})\n",
        "\n",
        "sns.pairplot(d2, x_vars=[\"#states\", \"#components\"], y_vars=[\"total number of resets\"],\n",
        "             hue=\"method\", height=5, aspect=1.2, kind=\"reg\" );\n",
        "plt.yscale('log')\n"
      ]
    },
    {
      "cell_type": "code",
      "execution_count": 46,
      "metadata": {
        "id": "gsYcIkao152k"
      },
      "outputs": [
        {
          "name": "stderr",
          "output_type": "stream",
          "text": [
            "C:\\Users\\Aryan\\AppData\\Local\\Temp\\ipykernel_15288\\3879016189.py:4: SettingWithCopyWarning: \n",
            "A value is trying to be set on a copy of a slice from a DataFrame.\n",
            "Try using .loc[row_indexer,col_indexer] = value instead\n",
            "\n",
            "See the caveats in the documentation: https://pandas.pydata.org/pandas-docs/stable/user_guide/indexing.html#returning-a-view-versus-a-copy\n",
            "  d2[['L*',  'SCL*', '#components', '#states']] = d2[['LSTAR_EQs', 'CLSTAR_EQs', 'CLSTAR_COMPONENTS', 'STATES']]\n",
            "C:\\Users\\Aryan\\AppData\\Local\\Temp\\ipykernel_15288\\3879016189.py:4: SettingWithCopyWarning: \n",
            "A value is trying to be set on a copy of a slice from a DataFrame.\n",
            "Try using .loc[row_indexer,col_indexer] = value instead\n",
            "\n",
            "See the caveats in the documentation: https://pandas.pydata.org/pandas-docs/stable/user_guide/indexing.html#returning-a-view-versus-a-copy\n",
            "  d2[['L*',  'SCL*', '#components', '#states']] = d2[['LSTAR_EQs', 'CLSTAR_EQs', 'CLSTAR_COMPONENTS', 'STATES']]\n",
            "C:\\Users\\Aryan\\AppData\\Local\\Temp\\ipykernel_15288\\3879016189.py:4: SettingWithCopyWarning: \n",
            "A value is trying to be set on a copy of a slice from a DataFrame.\n",
            "Try using .loc[row_indexer,col_indexer] = value instead\n",
            "\n",
            "See the caveats in the documentation: https://pandas.pydata.org/pandas-docs/stable/user_guide/indexing.html#returning-a-view-versus-a-copy\n",
            "  d2[['L*',  'SCL*', '#components', '#states']] = d2[['LSTAR_EQs', 'CLSTAR_EQs', 'CLSTAR_COMPONENTS', 'STATES']]\n",
            "C:\\Users\\Aryan\\AppData\\Local\\Temp\\ipykernel_15288\\3879016189.py:4: SettingWithCopyWarning: \n",
            "A value is trying to be set on a copy of a slice from a DataFrame.\n",
            "Try using .loc[row_indexer,col_indexer] = value instead\n",
            "\n",
            "See the caveats in the documentation: https://pandas.pydata.org/pandas-docs/stable/user_guide/indexing.html#returning-a-view-versus-a-copy\n",
            "  d2[['L*',  'SCL*', '#components', '#states']] = d2[['LSTAR_EQs', 'CLSTAR_EQs', 'CLSTAR_COMPONENTS', 'STATES']]\n"
          ]
        },
        {
          "data": {
            "image/png": "[encoded data removed]",
            "text/plain": [
              "<Figure size 1290.5x500 with 2 Axes>"
            ]
          },
          "metadata": {},
          "output_type": "display_data"
        }
      ],
      "source": [
        "# @title Fig.3: The effect of FSM size in terms of number of components and states on total number of input symbols.\n",
        "d2 = df[['STATES','CLSTAR_COMPONENTS', 'LSTAR_EQs', 'CLSTAR_EQs']]\n",
        "\n",
        "d2[['L*',  'SCL*', '#components', '#states']] = d2[['LSTAR_EQs', 'CLSTAR_EQs', 'CLSTAR_COMPONENTS', 'STATES']] \n",
        "d2 = d2.set_index(['#states','#components'])\n",
        "\n",
        "d2 = d2[['L*',  'SCL*']].stack().reset_index()\n",
        "d2 = d2.rename(columns={\"level_2\": \"method\", 0: \"total number of Equivanlence Queries\"})\n",
        "\n",
        "sns.pairplot(d2, x_vars=[\"#states\", \"#components\"], y_vars=[\"total number of Equivanlence Queries\"],\n",
        "             hue=\"method\", height=5, aspect=1.2, kind=\"reg\" );\n",
        "plt.yscale('log')"
      ]
    }
  ],
  "metadata": {
    "colab": {
      "provenance": [],
      "toc_visible": true
    },
    "kernelspec": {
      "display_name": "Python 3",
      "name": "python3"
    },
    "language_info": {
      "codemirror_mode": {
        "name": "ipython",
        "version": 3
      },
      "file_extension": ".py",
      "mimetype": "text/x-python",
      "name": "python",
      "nbconvert_exporter": "python",
      "pygments_lexer": "ipython3",
      "version": "3.12.3"
    }
  },
  "nbformat": 4,
  "nbformat_minor": 0
}
