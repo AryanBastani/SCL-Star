{
  "cells": [
    {
      "cell_type": "markdown",
      "metadata": {
        "id": "HO3vsG-iJS7J"
      },
      "source": [
        "# Decomposed_Learning_Results (CL* Algorithm)\n"
      ]
    },
    {
      "cell_type": "code",
      "execution_count": 351,
      "metadata": {
        "id": "ID8mpaGl1OBO"
      },
      "outputs": [],
      "source": [
        "import pandas as pd\n",
        "import numpy as np\n",
        "import matplotlib.pyplot as plt\n",
        "from scipy.stats import ttest_ind, ttest_rel, ttest_1samp, kstest, shapiro, pearsonr\n",
        "import matplotlib.pyplot as plt\n",
        "import seaborn as sns"
      ]
    },
    {
      "cell_type": "code",
      "execution_count": 352,
      "metadata": {
        "id": "U5zYrqSVgF-J"
      },
      "outputs": [],
      "source": [
        "# don't run this if you use google colab \n",
        "df =  pd.read_csv('data/Results.csv',index_col=False)"
      ]
    },
    {
      "cell_type": "markdown",
      "metadata": {
        "id": "W2xprhe1tdH4"
      },
      "source": [
        "## Clean data"
      ]
    },
    {
      "cell_type": "code",
      "execution_count": 353,
      "metadata": {
        "id": "j1XvSLn4tdH5"
      },
      "outputs": [],
      "source": [
        "def round_data(data):\n",
        "  return round(data, 3)"
      ]
    },
    {
      "cell_type": "code",
      "execution_count": 354,
      "metadata": {
        "id": "i0nfyfH8YvwI"
      },
      "outputs": [],
      "source": [
        "df = df[(df[\"STATES\"]<=3840) & (df[\"STATES\"]>500) ]"
      ]
    },
    {
      "cell_type": "code",
      "execution_count": 355,
      "metadata": {
        "id": "hlwW2zNvtdH7"
      },
      "outputs": [
        {
          "data": {
            "text/html": [
              "<div>\n",
              "<style scoped>\n",
              "    .dataframe tbody tr th:only-of-type {\n",
              "        vertical-align: middle;\n",
              "    }\n",
              "\n",
              "    .dataframe tbody tr th {\n",
              "        vertical-align: top;\n",
              "    }\n",
              "\n",
              "    .dataframe thead th {\n",
              "        text-align: right;\n",
              "    }\n",
              "</style>\n",
              "<table border=\"1\" class=\"dataframe\">\n",
              "  <thead>\n",
              "    <tr style=\"text-align: right;\">\n",
              "      <th></th>\n",
              "      <th>FILE_NAME</th>\n",
              "      <th>STATES</th>\n",
              "      <th>INPUTS</th>\n",
              "      <th>LSTAR_MQ_SYM</th>\n",
              "      <th>LSTAR_MQ_RST</th>\n",
              "      <th>LSTAR_EQ_SYM</th>\n",
              "      <th>LSTAR_EQ_RST</th>\n",
              "      <th>LSTAR_TOTAL_SYM</th>\n",
              "      <th>LSTAR_TOTAL_RST</th>\n",
              "      <th>LSTAR_EQs</th>\n",
              "      <th>CLSTAR_MQ_SYM</th>\n",
              "      <th>CLSTAR_MQ_RST</th>\n",
              "      <th>CLSTAR_EQ_SYM</th>\n",
              "      <th>CLSTAR_EQ_RST</th>\n",
              "      <th>CLSTAR_TOTAL_SYM</th>\n",
              "      <th>CLSTAR_TOTAL_RST</th>\n",
              "      <th>CLSTAR_EQs</th>\n",
              "      <th>CLSTAR_COMPONENTS</th>\n",
              "      <th>CLSTAR_ROUNDS</th>\n",
              "      <th>CACHE</th>\n",
              "    </tr>\n",
              "  </thead>\n",
              "  <tbody>\n",
              "    <tr>\n",
              "      <th>12</th>\n",
              "      <td>Real-Tests/data/Reals_With_5_Components1.txt</td>\n",
              "      <td>894</td>\n",
              "      <td>16</td>\n",
              "      <td>3573813</td>\n",
              "      <td>192659</td>\n",
              "      <td>75150</td>\n",
              "      <td>502</td>\n",
              "      <td>3648963</td>\n",
              "      <td>193161</td>\n",
              "      <td>2</td>\n",
              "      <td>10793711</td>\n",
              "      <td>140952</td>\n",
              "      <td>2571316</td>\n",
              "      <td>17124</td>\n",
              "      <td>13365027</td>\n",
              "      <td>158076</td>\n",
              "      <td>144</td>\n",
              "      <td>3</td>\n",
              "      <td>13</td>\n",
              "      <td>True</td>\n",
              "    </tr>\n",
              "    <tr>\n",
              "      <th>13</th>\n",
              "      <td>Real-Tests/data/Reals_With_5_Components2.txt</td>\n",
              "      <td>1248</td>\n",
              "      <td>19</td>\n",
              "      <td>16770435</td>\n",
              "      <td>468084</td>\n",
              "      <td>79968</td>\n",
              "      <td>532</td>\n",
              "      <td>16850403</td>\n",
              "      <td>468616</td>\n",
              "      <td>3</td>\n",
              "      <td>9206471</td>\n",
              "      <td>138978</td>\n",
              "      <td>4524659</td>\n",
              "      <td>30172</td>\n",
              "      <td>13731130</td>\n",
              "      <td>169150</td>\n",
              "      <td>239</td>\n",
              "      <td>3</td>\n",
              "      <td>19</td>\n",
              "      <td>True</td>\n",
              "    </tr>\n",
              "    <tr>\n",
              "      <th>16</th>\n",
              "      <td>Real-Tests/data/Reals_With_6_Components1.txt</td>\n",
              "      <td>1248</td>\n",
              "      <td>25</td>\n",
              "      <td>17216250</td>\n",
              "      <td>944919</td>\n",
              "      <td>75307</td>\n",
              "      <td>503</td>\n",
              "      <td>17291557</td>\n",
              "      <td>945422</td>\n",
              "      <td>2</td>\n",
              "      <td>10392270</td>\n",
              "      <td>127108</td>\n",
              "      <td>6946225</td>\n",
              "      <td>46173</td>\n",
              "      <td>17338495</td>\n",
              "      <td>173281</td>\n",
              "      <td>357</td>\n",
              "      <td>6</td>\n",
              "      <td>21</td>\n",
              "      <td>True</td>\n",
              "    </tr>\n",
              "    <tr>\n",
              "      <th>20</th>\n",
              "      <td>Real-Tests/data/Reals_With_7_Components1.txt</td>\n",
              "      <td>2808</td>\n",
              "      <td>27</td>\n",
              "      <td>5913675</td>\n",
              "      <td>734859</td>\n",
              "      <td>73957</td>\n",
              "      <td>500</td>\n",
              "      <td>5987632</td>\n",
              "      <td>735359</td>\n",
              "      <td>1</td>\n",
              "      <td>1118142</td>\n",
              "      <td>15758</td>\n",
              "      <td>8663125</td>\n",
              "      <td>57680</td>\n",
              "      <td>9781267</td>\n",
              "      <td>73438</td>\n",
              "      <td>395</td>\n",
              "      <td>6</td>\n",
              "      <td>22</td>\n",
              "      <td>True</td>\n",
              "    </tr>\n",
              "    <tr>\n",
              "      <th>21</th>\n",
              "      <td>Real-Tests/data/Reals_With_7_Components2.txt</td>\n",
              "      <td>1152</td>\n",
              "      <td>23</td>\n",
              "      <td>16425875</td>\n",
              "      <td>356431</td>\n",
              "      <td>75121</td>\n",
              "      <td>504</td>\n",
              "      <td>16500996</td>\n",
              "      <td>356935</td>\n",
              "      <td>2</td>\n",
              "      <td>20335806</td>\n",
              "      <td>240652</td>\n",
              "      <td>5497912</td>\n",
              "      <td>36680</td>\n",
              "      <td>25833718</td>\n",
              "      <td>277332</td>\n",
              "      <td>303</td>\n",
              "      <td>5</td>\n",
              "      <td>19</td>\n",
              "      <td>True</td>\n",
              "    </tr>\n",
              "    <tr>\n",
              "      <th>22</th>\n",
              "      <td>Real-Tests/data/Reals_With_7_Components3.txt</td>\n",
              "      <td>1248</td>\n",
              "      <td>22</td>\n",
              "      <td>21942378</td>\n",
              "      <td>826896</td>\n",
              "      <td>75750</td>\n",
              "      <td>508</td>\n",
              "      <td>22018128</td>\n",
              "      <td>827404</td>\n",
              "      <td>3</td>\n",
              "      <td>13305768</td>\n",
              "      <td>161125</td>\n",
              "      <td>6564041</td>\n",
              "      <td>43668</td>\n",
              "      <td>19869809</td>\n",
              "      <td>204793</td>\n",
              "      <td>280</td>\n",
              "      <td>6</td>\n",
              "      <td>18</td>\n",
              "      <td>True</td>\n",
              "    </tr>\n",
              "    <tr>\n",
              "      <th>23</th>\n",
              "      <td>Real-Tests/data/Reals_With_7_Components4.txt</td>\n",
              "      <td>1296</td>\n",
              "      <td>23</td>\n",
              "      <td>2970887</td>\n",
              "      <td>457079</td>\n",
              "      <td>75768</td>\n",
              "      <td>500</td>\n",
              "      <td>3046655</td>\n",
              "      <td>457579</td>\n",
              "      <td>1</td>\n",
              "      <td>201634</td>\n",
              "      <td>2769</td>\n",
              "      <td>5795394</td>\n",
              "      <td>38632</td>\n",
              "      <td>5997028</td>\n",
              "      <td>41401</td>\n",
              "      <td>273</td>\n",
              "      <td>7</td>\n",
              "      <td>17</td>\n",
              "      <td>True</td>\n",
              "    </tr>\n",
              "    <tr>\n",
              "      <th>25</th>\n",
              "      <td>Real-Tests/data/Reals_With_8_Components2.txt</td>\n",
              "      <td>1664</td>\n",
              "      <td>23</td>\n",
              "      <td>24286831</td>\n",
              "      <td>1123105</td>\n",
              "      <td>76638</td>\n",
              "      <td>507</td>\n",
              "      <td>24363469</td>\n",
              "      <td>1123612</td>\n",
              "      <td>3</td>\n",
              "      <td>10041596</td>\n",
              "      <td>134127</td>\n",
              "      <td>7075319</td>\n",
              "      <td>47161</td>\n",
              "      <td>17116915</td>\n",
              "      <td>181288</td>\n",
              "      <td>294</td>\n",
              "      <td>7</td>\n",
              "      <td>18</td>\n",
              "      <td>True</td>\n",
              "    </tr>\n",
              "    <tr>\n",
              "      <th>30</th>\n",
              "      <td>Real-Tests/data/Reals_With_9_Components3.txt</td>\n",
              "      <td>2880</td>\n",
              "      <td>23</td>\n",
              "      <td>9699808</td>\n",
              "      <td>633123</td>\n",
              "      <td>76305</td>\n",
              "      <td>507</td>\n",
              "      <td>9776113</td>\n",
              "      <td>633630</td>\n",
              "      <td>2</td>\n",
              "      <td>4550760</td>\n",
              "      <td>52709</td>\n",
              "      <td>9168887</td>\n",
              "      <td>61165</td>\n",
              "      <td>13719647</td>\n",
              "      <td>113874</td>\n",
              "      <td>349</td>\n",
              "      <td>7</td>\n",
              "      <td>21</td>\n",
              "      <td>True</td>\n",
              "    </tr>\n",
              "    <tr>\n",
              "      <th>31</th>\n",
              "      <td>Real-Tests/data/Reals_With_9_Components4.txt</td>\n",
              "      <td>1536</td>\n",
              "      <td>21</td>\n",
              "      <td>4854549</td>\n",
              "      <td>677397</td>\n",
              "      <td>74028</td>\n",
              "      <td>500</td>\n",
              "      <td>4928577</td>\n",
              "      <td>677897</td>\n",
              "      <td>1</td>\n",
              "      <td>5123</td>\n",
              "      <td>645</td>\n",
              "      <td>6101511</td>\n",
              "      <td>40616</td>\n",
              "      <td>6106634</td>\n",
              "      <td>41261</td>\n",
              "      <td>232</td>\n",
              "      <td>9</td>\n",
              "      <td>15</td>\n",
              "      <td>True</td>\n",
              "    </tr>\n",
              "  </tbody>\n",
              "</table>\n",
              "</div>"
            ],
            "text/plain": [
              "                                       FILE_NAME  STATES  INPUTS  \\\n",
              "12  Real-Tests/data/Reals_With_5_Components1.txt     894      16   \n",
              "13  Real-Tests/data/Reals_With_5_Components2.txt    1248      19   \n",
              "16  Real-Tests/data/Reals_With_6_Components1.txt    1248      25   \n",
              "20  Real-Tests/data/Reals_With_7_Components1.txt    2808      27   \n",
              "21  Real-Tests/data/Reals_With_7_Components2.txt    1152      23   \n",
              "22  Real-Tests/data/Reals_With_7_Components3.txt    1248      22   \n",
              "23  Real-Tests/data/Reals_With_7_Components4.txt    1296      23   \n",
              "25  Real-Tests/data/Reals_With_8_Components2.txt    1664      23   \n",
              "30  Real-Tests/data/Reals_With_9_Components3.txt    2880      23   \n",
              "31  Real-Tests/data/Reals_With_9_Components4.txt    1536      21   \n",
              "\n",
              "    LSTAR_MQ_SYM  LSTAR_MQ_RST  LSTAR_EQ_SYM  LSTAR_EQ_RST  LSTAR_TOTAL_SYM  \\\n",
              "12       3573813        192659         75150           502          3648963   \n",
              "13      16770435        468084         79968           532         16850403   \n",
              "16      17216250        944919         75307           503         17291557   \n",
              "20       5913675        734859         73957           500          5987632   \n",
              "21      16425875        356431         75121           504         16500996   \n",
              "22      21942378        826896         75750           508         22018128   \n",
              "23       2970887        457079         75768           500          3046655   \n",
              "25      24286831       1123105         76638           507         24363469   \n",
              "30       9699808        633123         76305           507          9776113   \n",
              "31       4854549        677397         74028           500          4928577   \n",
              "\n",
              "    LSTAR_TOTAL_RST  LSTAR_EQs  CLSTAR_MQ_SYM  CLSTAR_MQ_RST  CLSTAR_EQ_SYM  \\\n",
              "12           193161          2       10793711         140952        2571316   \n",
              "13           468616          3        9206471         138978        4524659   \n",
              "16           945422          2       10392270         127108        6946225   \n",
              "20           735359          1        1118142          15758        8663125   \n",
              "21           356935          2       20335806         240652        5497912   \n",
              "22           827404          3       13305768         161125        6564041   \n",
              "23           457579          1         201634           2769        5795394   \n",
              "25          1123612          3       10041596         134127        7075319   \n",
              "30           633630          2        4550760          52709        9168887   \n",
              "31           677897          1           5123            645        6101511   \n",
              "\n",
              "    CLSTAR_EQ_RST  CLSTAR_TOTAL_SYM  CLSTAR_TOTAL_RST  CLSTAR_EQs  \\\n",
              "12          17124          13365027            158076         144   \n",
              "13          30172          13731130            169150         239   \n",
              "16          46173          17338495            173281         357   \n",
              "20          57680           9781267             73438         395   \n",
              "21          36680          25833718            277332         303   \n",
              "22          43668          19869809            204793         280   \n",
              "23          38632           5997028             41401         273   \n",
              "25          47161          17116915            181288         294   \n",
              "30          61165          13719647            113874         349   \n",
              "31          40616           6106634             41261         232   \n",
              "\n",
              "    CLSTAR_COMPONENTS  CLSTAR_ROUNDS  CACHE  \n",
              "12                  3             13   True  \n",
              "13                  3             19   True  \n",
              "16                  6             21   True  \n",
              "20                  6             22   True  \n",
              "21                  5             19   True  \n",
              "22                  6             18   True  \n",
              "23                  7             17   True  \n",
              "25                  7             18   True  \n",
              "30                  7             21   True  \n",
              "31                  9             15   True  "
            ]
          },
          "execution_count": 355,
          "metadata": {},
          "output_type": "execute_result"
        }
      ],
      "source": [
        "df = df.dropna(axis=1, how='all')\n",
        "df = df.dropna()\n",
        "df"
      ]
    },
    {
      "cell_type": "code",
      "execution_count": 356,
      "metadata": {
        "id": "QKY1FHItuvKw"
      },
      "outputs": [],
      "source": [
        "# Calculate mean without outliers\n",
        "from scipy import stats\n",
        "def trimmed_mean(x):\n",
        "  z = stats.zscore(x)\n",
        "  d_z = x.loc[z<3,]\n",
        "  return d_z.mean()\n"
      ]
    },
    {
      "cell_type": "markdown",
      "metadata": {
        "id": "tNsHq75RuJdH"
      },
      "source": [
        "## Statistical Analysis"
      ]
    },
    {
      "cell_type": "code",
      "execution_count": 357,
      "metadata": {
        "cellView": "form",
        "id": "uWkmVb6WuJdJ"
      },
      "outputs": [],
      "source": [
        "# @title Bins\n",
        "bins = [500,1000,1500,2000,2500,3000]\n",
        "labels = []"
      ]
    },
    {
      "cell_type": "markdown",
      "metadata": {
        "id": "Mj4mmYMl-YvV"
      },
      "source": [
        "We cluster the benchmark into eight categories based on the FSM’s number of states to summerize the results and illusterate them."
      ]
    },
    {
      "cell_type": "code",
      "execution_count": 358,
      "metadata": {
        "colab": {
          "base_uri": "https://localhost:8080/"
        },
        "id": "8CO4kfjiMU3R",
        "outputId": "eac012f0-61c9-4f03-80e3-4f34ad6aae67"
      },
      "outputs": [
        {
          "name": "stdout",
          "output_type": "stream",
          "text": [
            "Count:   10\n",
            "Min:     894\n",
            "Max:     2880\n",
            "mean:    1597.4\n",
            "std:     688.7231664464322\n"
          ]
        },
        {
          "name": "stderr",
          "output_type": "stream",
          "text": [
            "C:\\Users\\Aryan\\AppData\\Local\\Temp\\ipykernel_11136\\2303827582.py:3: FutureWarning: The provided callable <built-in function min> is currently using DataFrameGroupBy.min. In a future version of pandas, the provided callable will be used directly. To keep current behavior pass the string \"min\" instead.\n",
            "  print(\"Min:    \",df.groupby('FILE_NAME').agg(min)['STATES'].min())\n",
            "C:\\Users\\Aryan\\AppData\\Local\\Temp\\ipykernel_11136\\2303827582.py:4: FutureWarning: The provided callable <built-in function min> is currently using DataFrameGroupBy.min. In a future version of pandas, the provided callable will be used directly. To keep current behavior pass the string \"min\" instead.\n",
            "  print(\"Max:    \",df.groupby('FILE_NAME').agg(min)['STATES'].max())\n",
            "C:\\Users\\Aryan\\AppData\\Local\\Temp\\ipykernel_11136\\2303827582.py:6: FutureWarning: The provided callable <built-in function min> is currently using DataFrameGroupBy.min. In a future version of pandas, the provided callable will be used directly. To keep current behavior pass the string \"min\" instead.\n",
            "  print(\"mean:   \", df.groupby('FILE_NAME').agg(min)['STATES'].mean())\n",
            "C:\\Users\\Aryan\\AppData\\Local\\Temp\\ipykernel_11136\\2303827582.py:8: FutureWarning: The provided callable <built-in function min> is currently using DataFrameGroupBy.min. In a future version of pandas, the provided callable will be used directly. To keep current behavior pass the string \"min\" instead.\n",
            "  print(\"std:    \", df.groupby('FILE_NAME').agg(min)['STATES'].std())\n"
          ]
        }
      ],
      "source": [
        "# Data Distribution\n",
        "print(\"Count:  \",df['FILE_NAME'].unique().size)\n",
        "print(\"Min:    \",df.groupby('FILE_NAME').agg(min)['STATES'].min())\n",
        "print(\"Max:    \",df.groupby('FILE_NAME').agg(min)['STATES'].max())\n",
        "\n",
        "print(\"mean:   \", df.groupby('FILE_NAME').agg(min)['STATES'].mean())\n",
        "\n",
        "print(\"std:    \", df.groupby('FILE_NAME').agg(min)['STATES'].std())"
      ]
    },
    {
      "cell_type": "code",
      "execution_count": 359,
      "metadata": {
        "id": "CvE_-0qeuJdI"
      },
      "outputs": [],
      "source": [
        "# calculate the progress \n",
        "\n",
        "df['CLSTAR_TOTAL_RST_progress'] = (1 - (df['CLSTAR_TOTAL_RST'] / df['CLSTAR_TOTAL_RST']))*100\n",
        "df['CLSTAR_TOTAL_SYM_progress'] = (1 - (df['CLSTAR_TOTAL_SYM'] / df['CLSTAR_TOTAL_SYM']))*100\n",
        "\n",
        "df['CLSTAR_MQ_SYM_progress'] = (1 - (df['CLSTAR_MQ_SYM'] / df['CLSTAR_MQ_SYM']))*100\n",
        "df['CLSTAR_MQ_RST_progress'] = (1 - (df['CLSTAR_MQ_RST'] / df['CLSTAR_MQ_RST']))*100\n",
        "df['CLSTAR_EQ_SYM_progress'] = (1 - (df['CLSTAR_EQ_SYM'] / df['CLSTAR_EQ_SYM']))*100\n",
        "df['CLSTAR_EQ_RST_progress'] = (1 - (df['CLSTAR_EQ_RST'] / df['CLSTAR_EQ_RST']))*100\n"
      ]
    },
    {
      "cell_type": "code",
      "execution_count": 360,
      "metadata": {
        "colab": {
          "base_uri": "https://localhost:8080/"
        },
        "id": "E2d94V5yG1St",
        "outputId": "16d10841-8893-46f3-85c2-017cabb8ffc5"
      },
      "outputs": [
        {
          "name": "stdout",
          "output_type": "stream",
          "text": [
            "500 - 1000\n",
            "KstestResult(statistic=1.0, pvalue=0.0, statistic_location=894, statistic_sign=-1)\n",
            "KstestResult(statistic=1.0, pvalue=0.0, statistic_location=41261, statistic_sign=-1)\n",
            "KstestResult(statistic=1.0, pvalue=0.0, statistic_location=41261, statistic_sign=-1)\n",
            "KstestResult(statistic=1.0, pvalue=0.0, statistic_location=5997028, statistic_sign=-1)\n",
            "KstestResult(statistic=1.0, pvalue=0.0, statistic_location=5997028, statistic_sign=-1)\n",
            "ShapiroResult(statistic=0.7679395401396794, pvalue=0.005902577702416774)\n",
            "ShapiroResult(statistic=0.9398885825758383, pvalue=0.5517742578665523)\n",
            "ShapiroResult(statistic=0.9398885825758383, pvalue=0.5517742578665523)\n",
            "ShapiroResult(statistic=0.9539451171983561, pvalue=0.7152407973688752)\n",
            "ShapiroResult(statistic=0.9539451171983561, pvalue=0.7152407973688752)\n",
            "1000 - 1500\n",
            "KstestResult(statistic=1.0, pvalue=0.0, statistic_location=894, statistic_sign=-1)\n",
            "KstestResult(statistic=1.0, pvalue=0.0, statistic_location=41261, statistic_sign=-1)\n",
            "KstestResult(statistic=1.0, pvalue=0.0, statistic_location=41261, statistic_sign=-1)\n",
            "KstestResult(statistic=1.0, pvalue=0.0, statistic_location=5997028, statistic_sign=-1)\n",
            "KstestResult(statistic=1.0, pvalue=0.0, statistic_location=5997028, statistic_sign=-1)\n",
            "ShapiroResult(statistic=0.7679395401396794, pvalue=0.005902577702416774)\n",
            "ShapiroResult(statistic=0.9398885825758383, pvalue=0.5517742578665523)\n",
            "ShapiroResult(statistic=0.9398885825758383, pvalue=0.5517742578665523)\n",
            "ShapiroResult(statistic=0.9539451171983561, pvalue=0.7152407973688752)\n",
            "ShapiroResult(statistic=0.9539451171983561, pvalue=0.7152407973688752)\n",
            "1500 - 2000\n",
            "KstestResult(statistic=1.0, pvalue=0.0, statistic_location=894, statistic_sign=-1)\n",
            "KstestResult(statistic=1.0, pvalue=0.0, statistic_location=41261, statistic_sign=-1)\n",
            "KstestResult(statistic=1.0, pvalue=0.0, statistic_location=41261, statistic_sign=-1)\n",
            "KstestResult(statistic=1.0, pvalue=0.0, statistic_location=5997028, statistic_sign=-1)\n",
            "KstestResult(statistic=1.0, pvalue=0.0, statistic_location=5997028, statistic_sign=-1)\n",
            "ShapiroResult(statistic=0.7679395401396794, pvalue=0.005902577702416774)\n",
            "ShapiroResult(statistic=0.9398885825758383, pvalue=0.5517742578665523)\n",
            "ShapiroResult(statistic=0.9398885825758383, pvalue=0.5517742578665523)\n",
            "ShapiroResult(statistic=0.9539451171983561, pvalue=0.7152407973688752)\n",
            "ShapiroResult(statistic=0.9539451171983561, pvalue=0.7152407973688752)\n",
            "2000 - 2500\n",
            "KstestResult(statistic=1.0, pvalue=0.0, statistic_location=894, statistic_sign=-1)\n",
            "KstestResult(statistic=1.0, pvalue=0.0, statistic_location=41261, statistic_sign=-1)\n",
            "KstestResult(statistic=1.0, pvalue=0.0, statistic_location=41261, statistic_sign=-1)\n",
            "KstestResult(statistic=1.0, pvalue=0.0, statistic_location=5997028, statistic_sign=-1)\n",
            "KstestResult(statistic=1.0, pvalue=0.0, statistic_location=5997028, statistic_sign=-1)\n",
            "ShapiroResult(statistic=0.7679395401396794, pvalue=0.005902577702416774)\n",
            "ShapiroResult(statistic=0.9398885825758383, pvalue=0.5517742578665523)\n",
            "ShapiroResult(statistic=0.9398885825758383, pvalue=0.5517742578665523)\n",
            "ShapiroResult(statistic=0.9539451171983561, pvalue=0.7152407973688752)\n",
            "ShapiroResult(statistic=0.9539451171983561, pvalue=0.7152407973688752)\n",
            "2500 - 3000\n",
            "KstestResult(statistic=1.0, pvalue=0.0, statistic_location=894, statistic_sign=-1)\n",
            "KstestResult(statistic=1.0, pvalue=0.0, statistic_location=41261, statistic_sign=-1)\n",
            "KstestResult(statistic=1.0, pvalue=0.0, statistic_location=41261, statistic_sign=-1)\n",
            "KstestResult(statistic=1.0, pvalue=0.0, statistic_location=5997028, statistic_sign=-1)\n",
            "KstestResult(statistic=1.0, pvalue=0.0, statistic_location=5997028, statistic_sign=-1)\n",
            "ShapiroResult(statistic=0.7679395401396794, pvalue=0.005902577702416774)\n",
            "ShapiroResult(statistic=0.9398885825758383, pvalue=0.5517742578665523)\n",
            "ShapiroResult(statistic=0.9398885825758383, pvalue=0.5517742578665523)\n",
            "ShapiroResult(statistic=0.9539451171983561, pvalue=0.7152407973688752)\n",
            "ShapiroResult(statistic=0.9539451171983561, pvalue=0.7152407973688752)\n"
          ]
        }
      ],
      "source": [
        "# @title Check for normal\n",
        "for i in range(0, len(bins)-1):\n",
        "    data = df[df['STATES']>bins[i] & (df['STATES']<=bins[i+1])]\n",
        "    states_count = data.loc[:,'STATES']\n",
        "    input_count = data.loc[:,'INPUTS']\n",
        "    lstar_resets_count = data.loc[:,  'CLSTAR_TOTAL_RST']\n",
        "    CLSTAR_resets_count = data.loc[:, 'CLSTAR_TOTAL_RST']\n",
        "    lstar_symbols_count = data.loc[:, 'CLSTAR_TOTAL_SYM']\n",
        "    CLSTAR_symbols_count = data.loc[:,'CLSTAR_TOTAL_SYM']\n",
        "    print(bins[i],  '-', bins[i+1])\n",
        "    print(kstest(states_count,'norm'))\n",
        "    print(kstest(lstar_resets_count,'norm'))\n",
        "    print(kstest(CLSTAR_resets_count,'norm'))\n",
        "    print(kstest(lstar_symbols_count,'norm'))\n",
        "    print(kstest(CLSTAR_symbols_count,'norm'))\n",
        "\n",
        "    print(shapiro(states_count))\n",
        "    print(shapiro(lstar_resets_count))\n",
        "    print(shapiro(CLSTAR_resets_count))\n",
        "    print(shapiro(lstar_symbols_count))\n",
        "    print(shapiro(CLSTAR_symbols_count))\n",
        "\n"
      ]
    },
    {
      "cell_type": "code",
      "execution_count": 361,
      "metadata": {
        "id": "w7n0ExAnuJdJ"
      },
      "outputs": [
        {
          "name": "stderr",
          "output_type": "stream",
          "text": [
            "C:\\Users\\Aryan\\AppData\\Local\\Temp\\ipykernel_11136\\1729249584.py:3: FutureWarning: The default of observed=False is deprecated and will be changed to True in a future version of pandas. Pass observed=False to retain current behavior or observed=True to adopt the future default and silence this warning.\n",
            "  grouped = df.groupby(pd.cut(df[\"STATES\"],bins))\n"
          ]
        }
      ],
      "source": [
        "# @title Cluster Items\n",
        "\n",
        "grouped = df.groupby(pd.cut(df[\"STATES\"],bins))\n",
        "df3 = grouped.agg(\n",
        "    # states = pd.NamedAgg(column='STATES', aggfunc=\"min\"),\n",
        "    inputs=pd.NamedAgg(column=\"INPUTS\", aggfunc='median'),\n",
        "\n",
        "    LSTAR_total_sym_median=pd.NamedAgg(column='LSTAR_TOTAL_SYM', aggfunc='median'),\n",
        "    LSTAR_total_sym_mean=pd.NamedAgg(column='LSTAR_TOTAL_SYM', aggfunc='mean'),\n",
        "    LSTAR_total_sym_std=pd.NamedAgg(column='LSTAR_TOTAL_SYM', aggfunc=\"std\"),\n",
        "    LSTAR_total_reset_median=pd.NamedAgg(column='LSTAR_TOTAL_RST', aggfunc='median'),\n",
        "    LSTAR_total_reset_mean=pd.NamedAgg(column='LSTAR_TOTAL_RST', aggfunc='mean'),\n",
        "    LSTAR_total_reset_std=pd.NamedAgg(column='LSTAR_TOTAL_RST', aggfunc=\"std\"),\n",
        "    LSTAR_mq_sym_mean=pd.NamedAgg(column='LSTAR_MQ_SYM', aggfunc='median'),\n",
        "    LSTAR_mq_sym_std=pd.NamedAgg(column='LSTAR_MQ_SYM', aggfunc=\"std\"),\n",
        "    LSTAR_mq_reset_mean=pd.NamedAgg(column='LSTAR_MQ_RST', aggfunc='median'),\n",
        "    LSTAR_mq_reset_std=pd.NamedAgg(column='LSTAR_MQ_RST', aggfunc=\"std\"),\n",
        "    LSTAR_eq_sym_mean=pd.NamedAgg(column='LSTAR_EQ_SYM', aggfunc='median'),\n",
        "    LSTAR_eq_sym_std=pd.NamedAgg(column='LSTAR_EQ_SYM', aggfunc=\"std\"),\n",
        "    LSTAR_eq_reset_mean=pd.NamedAgg(column='LSTAR_EQ_RST', aggfunc='median'),\n",
        "    LSTAR_eq_reset_std=pd.NamedAgg(column='LSTAR_EQ_RST', aggfunc=\"std\"),\n",
        "    LSTAR_eqs=pd.NamedAgg(column='LSTAR_EQs', aggfunc='median'),\n",
        "\n",
        "    CLSTAR_total_sym_median=pd.NamedAgg(column='CLSTAR_TOTAL_SYM', aggfunc='mean'),\n",
        "    CLSTAR_total_sym_mean=pd.NamedAgg(column='CLSTAR_TOTAL_SYM', aggfunc='median'),\n",
        "    CLSTAR_total_sym_std=pd.NamedAgg(column='CLSTAR_TOTAL_SYM', aggfunc=\"std\"),\n",
        "    CLSTAR_total_reset_median=pd.NamedAgg(column='CLSTAR_TOTAL_RST', aggfunc='median'),\n",
        "    CLSTAR_total_reset_mean=pd.NamedAgg(column='CLSTAR_TOTAL_RST', aggfunc='mean'),\n",
        "    CLSTAR_total_reset_std=pd.NamedAgg(column='CLSTAR_TOTAL_RST', aggfunc=\"std\"),\n",
        "    CLSTAR_mq_sym_mean=pd.NamedAgg(column='CLSTAR_MQ_SYM', aggfunc='median'),\n",
        "    CLSTAR_mq_sym_std=pd.NamedAgg(column='CLSTAR_MQ_SYM', aggfunc=\"std\"),\n",
        "    CLSTAR_mq_reset_mean=pd.NamedAgg(column='CLSTAR_MQ_RST', aggfunc='median'),\n",
        "    CLSTAR_mq_reset_std=pd.NamedAgg(column='CLSTAR_MQ_RST', aggfunc=\"std\"),\n",
        "    CLSTAR_eq_sym_mean=pd.NamedAgg(column='CLSTAR_EQ_SYM', aggfunc='median'),\n",
        "    CLSTAR_eq_sym_std=pd.NamedAgg(column='CLSTAR_EQ_SYM', aggfunc=\"std\"),\n",
        "    CLSTAR_eq_reset_mean=pd.NamedAgg(column='CLSTAR_EQ_RST', aggfunc='median'),\n",
        "    CLSTAR_eq_reset_std=pd.NamedAgg(column='CLSTAR_EQ_RST', aggfunc=\"std\"),\n",
        "    CLSTAR_eqs=pd.NamedAgg(column='CLSTAR_EQs', aggfunc='median'),\n",
        "    CLSTAR_components=pd.NamedAgg(column='CLSTAR_COMPONENTS', aggfunc='median'),\n",
        "    CLSTAR_rounds=pd.NamedAgg(column='CLSTAR_ROUNDS', aggfunc='median'),\n",
        "\n",
        ").reset_index()"
      ]
    },
    {
      "cell_type": "code",
      "execution_count": 362,
      "metadata": {
        "id": "fC8Ltq73uJdL"
      },
      "outputs": [],
      "source": [
        "# Progress\n",
        "df3['CLSTAR_TOTAL_SYM_progress'] = (1 - (df3['CLSTAR_total_sym_mean'] / df3['LSTAR_total_sym_mean']))*100\n",
        "df3['CLSTAR_TOTAL_RST_progress'] = (1 - (df3['CLSTAR_total_reset_mean'] / df3['LSTAR_total_reset_mean']))*100\n",
        "df3['CLSTAR_MQ_SYM_progress'] = (1 - (df3['CLSTAR_mq_sym_mean'] / df3['LSTAR_mq_sym_mean']))*100\n",
        "df3['CLSTAR_MQ_RST_progress'] = (1 - (df3['CLSTAR_mq_reset_mean'] / df3['LSTAR_mq_reset_mean']))*100\n",
        "df3['CLSTAR_EQ_SYM_progress'] = (1 - (df3['CLSTAR_eq_sym_mean'] / df3['LSTAR_eq_sym_mean']))*100\n",
        "df3['CLSTAR_EQ_RST_progress'] = (1 - (df3['CLSTAR_eq_reset_mean'] / df3['LSTAR_eq_reset_mean']))*100"
      ]
    },
    {
      "cell_type": "code",
      "execution_count": 374,
      "metadata": {
        "id": "lxfU3vgRuJdL"
      },
      "outputs": [
        {
          "name": "stdout",
          "output_type": "stream",
          "text": [
            "STATES                       (500, 1000]\n",
            "inputs                              16.0\n",
            "LSTAR_total_sym_median         3648963.0\n",
            "LSTAR_total_sym_mean           3648963.0\n",
            "LSTAR_total_sym_std                  NaN\n",
            "LSTAR_total_reset_median        193161.0\n",
            "LSTAR_total_reset_mean          193161.0\n",
            "LSTAR_total_reset_std                NaN\n",
            "LSTAR_mq_sym_mean              3573813.0\n",
            "LSTAR_mq_sym_std                     NaN\n",
            "LSTAR_mq_reset_mean             192659.0\n",
            "LSTAR_mq_reset_std                   NaN\n",
            "LSTAR_eq_sym_mean                75150.0\n",
            "LSTAR_eq_sym_std                     NaN\n",
            "LSTAR_eq_reset_mean                502.0\n",
            "LSTAR_eq_reset_std                   NaN\n",
            "LSTAR_eqs                            2.0\n",
            "CLSTAR_total_sym_median       13365027.0\n",
            "CLSTAR_total_sym_mean         13365027.0\n",
            "CLSTAR_total_sym_std                 NaN\n",
            "CLSTAR_total_reset_median       158076.0\n",
            "CLSTAR_total_reset_mean         158076.0\n",
            "CLSTAR_total_reset_std               NaN\n",
            "CLSTAR_mq_sym_mean            10793711.0\n",
            "CLSTAR_mq_sym_std                    NaN\n",
            "CLSTAR_mq_reset_mean            140952.0\n",
            "CLSTAR_mq_reset_std                  NaN\n",
            "CLSTAR_eq_sym_mean             2571316.0\n",
            "CLSTAR_eq_sym_std                    NaN\n",
            "CLSTAR_eq_reset_mean             17124.0\n",
            "CLSTAR_eq_reset_std                  NaN\n",
            "CLSTAR_eqs                         144.0\n",
            "CLSTAR_components                    3.0\n",
            "CLSTAR_rounds                       13.0\n",
            "CLSTAR_TOTAL_SYM_progress    -266.269184\n",
            "CLSTAR_TOTAL_RST_progress      18.163604\n",
            "CLSTAR_MQ_SYM_progress       -202.022266\n",
            "CLSTAR_MQ_RST_progress         26.838611\n",
            "CLSTAR_EQ_SYM_progress      -3321.578177\n",
            "CLSTAR_EQ_RST_progress      -3311.155378\n",
            "Name: 0, dtype: object\n",
            "STATES                         (1000, 1500]\n",
            "inputs                                 23.0\n",
            "LSTAR_total_sym_median           16850403.0\n",
            "LSTAR_total_sym_mean             15141547.8\n",
            "LSTAR_total_sym_std          7123282.462349\n",
            "LSTAR_total_reset_median           468616.0\n",
            "LSTAR_total_reset_mean             611191.2\n",
            "LSTAR_total_reset_std         258374.153813\n",
            "LSTAR_mq_sym_mean                16770435.0\n",
            "LSTAR_mq_sym_std             7123100.854664\n",
            "LSTAR_mq_reset_mean                468084.0\n",
            "LSTAR_mq_reset_std            258376.908884\n",
            "LSTAR_eq_sym_mean                   75750.0\n",
            "LSTAR_eq_sym_std                 2023.70692\n",
            "LSTAR_eq_reset_mean                   504.0\n",
            "LSTAR_eq_reset_std                12.953764\n",
            "LSTAR_eqs                               2.0\n",
            "CLSTAR_total_sym_median          16554036.0\n",
            "CLSTAR_total_sym_mean            17338495.0\n",
            "CLSTAR_total_sym_std         7367859.945877\n",
            "CLSTAR_total_reset_median          173281.0\n",
            "CLSTAR_total_reset_mean            173191.4\n",
            "CLSTAR_total_reset_std         85482.419487\n",
            "CLSTAR_mq_sym_mean               10392270.0\n",
            "CLSTAR_mq_sym_std            7283184.836533\n",
            "CLSTAR_mq_reset_mean               138978.0\n",
            "CLSTAR_mq_reset_std            85738.250439\n",
            "CLSTAR_eq_sym_mean                5795394.0\n",
            "CLSTAR_eq_sym_std             947868.176976\n",
            "CLSTAR_eq_reset_mean                38632.0\n",
            "CLSTAR_eq_reset_std             6258.443017\n",
            "CLSTAR_eqs                            280.0\n",
            "CLSTAR_components                       6.0\n",
            "CLSTAR_rounds                          19.0\n",
            "CLSTAR_TOTAL_SYM_progress        -14.509396\n",
            "CLSTAR_TOTAL_RST_progress         71.663303\n",
            "CLSTAR_MQ_SYM_progress            38.032198\n",
            "CLSTAR_MQ_RST_progress            70.309175\n",
            "CLSTAR_EQ_SYM_progress         -7550.685149\n",
            "CLSTAR_EQ_RST_progress         -7565.079365\n",
            "Name: 1, dtype: object\n",
            "STATES                          (1500, 2000]\n",
            "inputs                                  22.0\n",
            "LSTAR_total_sym_median            14646023.0\n",
            "LSTAR_total_sym_mean              14646023.0\n",
            "LSTAR_total_sym_std          13742543.924828\n",
            "LSTAR_total_reset_median            900754.5\n",
            "LSTAR_total_reset_mean              900754.5\n",
            "LSTAR_total_reset_std          315168.098977\n",
            "LSTAR_mq_sym_mean                 14570690.0\n",
            "LSTAR_mq_sym_std             13740698.376129\n",
            "LSTAR_mq_reset_mean                 900251.0\n",
            "LSTAR_mq_reset_std             315163.149229\n",
            "LSTAR_eq_sym_mean                    75333.0\n",
            "LSTAR_eq_sym_std                 1845.548699\n",
            "LSTAR_eq_reset_mean                    503.5\n",
            "LSTAR_eq_reset_std                  4.949747\n",
            "LSTAR_eqs                                2.0\n",
            "CLSTAR_total_sym_median           11611774.5\n",
            "CLSTAR_total_sym_mean             11611774.5\n",
            "CLSTAR_total_sym_std          7785444.357869\n",
            "CLSTAR_total_reset_median           111274.5\n",
            "CLSTAR_total_reset_mean             111274.5\n",
            "CLSTAR_total_reset_std          99014.041249\n",
            "CLSTAR_mq_sym_mean                 5023359.5\n",
            "CLSTAR_mq_sym_std             7096858.117496\n",
            "CLSTAR_mq_reset_mean                 67386.0\n",
            "CLSTAR_mq_reset_std             94386.027366\n",
            "CLSTAR_eq_sym_mean                 6588415.0\n",
            "CLSTAR_eq_sym_std              688586.240374\n",
            "CLSTAR_eq_reset_mean                 43888.5\n",
            "CLSTAR_eq_reset_std              4628.013883\n",
            "CLSTAR_eqs                             263.0\n",
            "CLSTAR_components                        8.0\n",
            "CLSTAR_rounds                           16.5\n",
            "CLSTAR_TOTAL_SYM_progress          20.717218\n",
            "CLSTAR_TOTAL_RST_progress          87.646523\n",
            "CLSTAR_MQ_SYM_progress             65.524217\n",
            "CLSTAR_MQ_RST_progress             92.514754\n",
            "CLSTAR_EQ_SYM_progress          -8645.722326\n",
            "CLSTAR_EQ_RST_progress          -8616.683217\n",
            "Name: 2, dtype: object\n",
            "STATES                       (2000.0, 2500.0]\n",
            "inputs                                    NaN\n",
            "LSTAR_total_sym_median                    NaN\n",
            "LSTAR_total_sym_mean                      NaN\n",
            "LSTAR_total_sym_std                       NaN\n",
            "LSTAR_total_reset_median                  NaN\n",
            "LSTAR_total_reset_mean                    NaN\n",
            "LSTAR_total_reset_std                     NaN\n",
            "LSTAR_mq_sym_mean                         NaN\n",
            "LSTAR_mq_sym_std                          NaN\n",
            "LSTAR_mq_reset_mean                       NaN\n",
            "LSTAR_mq_reset_std                        NaN\n",
            "LSTAR_eq_sym_mean                         NaN\n",
            "LSTAR_eq_sym_std                          NaN\n",
            "LSTAR_eq_reset_mean                       NaN\n",
            "LSTAR_eq_reset_std                        NaN\n",
            "LSTAR_eqs                                 NaN\n",
            "CLSTAR_total_sym_median                   NaN\n",
            "CLSTAR_total_sym_mean                     NaN\n",
            "CLSTAR_total_sym_std                      NaN\n",
            "CLSTAR_total_reset_median                 NaN\n",
            "CLSTAR_total_reset_mean                   NaN\n",
            "CLSTAR_total_reset_std                    NaN\n",
            "CLSTAR_mq_sym_mean                        NaN\n",
            "CLSTAR_mq_sym_std                         NaN\n",
            "CLSTAR_mq_reset_mean                      NaN\n",
            "CLSTAR_mq_reset_std                       NaN\n",
            "CLSTAR_eq_sym_mean                        NaN\n",
            "CLSTAR_eq_sym_std                         NaN\n",
            "CLSTAR_eq_reset_mean                      NaN\n",
            "CLSTAR_eq_reset_std                       NaN\n",
            "CLSTAR_eqs                                NaN\n",
            "CLSTAR_components                         NaN\n",
            "CLSTAR_rounds                             NaN\n",
            "CLSTAR_TOTAL_SYM_progress                 NaN\n",
            "CLSTAR_TOTAL_RST_progress                 NaN\n",
            "CLSTAR_MQ_SYM_progress                    NaN\n",
            "CLSTAR_MQ_RST_progress                    NaN\n",
            "CLSTAR_EQ_SYM_progress                    NaN\n",
            "CLSTAR_EQ_RST_progress                    NaN\n",
            "Name: 3, dtype: interval\n",
            "STATES                         (2500, 3000]\n",
            "inputs                                 25.0\n",
            "LSTAR_total_sym_median            7881872.5\n",
            "LSTAR_total_sym_mean              7881872.5\n",
            "LSTAR_total_sym_std          2678860.605496\n",
            "LSTAR_total_reset_median           684494.5\n",
            "LSTAR_total_reset_mean             684494.5\n",
            "LSTAR_total_reset_std          71933.265743\n",
            "LSTAR_mq_sym_mean                 7806741.5\n",
            "LSTAR_mq_sym_std             2677200.318774\n",
            "LSTAR_mq_reset_mean                683991.0\n",
            "LSTAR_mq_reset_std             71938.215491\n",
            "LSTAR_eq_sym_mean                   75131.0\n",
            "LSTAR_eq_sym_std                1660.286722\n",
            "LSTAR_eq_reset_mean                   503.5\n",
            "LSTAR_eq_reset_std                 4.949747\n",
            "LSTAR_eqs                               1.5\n",
            "CLSTAR_total_sym_median          11750457.0\n",
            "CLSTAR_total_sym_mean            11750457.0\n",
            "CLSTAR_total_sym_std         2784855.204889\n",
            "CLSTAR_total_reset_median           93656.0\n",
            "CLSTAR_total_reset_mean             93656.0\n",
            "CLSTAR_total_reset_std         28592.569804\n",
            "CLSTAR_mq_sym_mean                2834451.0\n",
            "CLSTAR_mq_sym_std            2427227.465023\n",
            "CLSTAR_mq_reset_mean                34233.5\n",
            "CLSTAR_mq_reset_std            26128.302672\n",
            "CLSTAR_eq_sym_mean                8916006.0\n",
            "CLSTAR_eq_sym_std             357627.739866\n",
            "CLSTAR_eq_reset_mean                59422.5\n",
            "CLSTAR_eq_reset_std             2464.267132\n",
            "CLSTAR_eqs                            372.0\n",
            "CLSTAR_components                       6.5\n",
            "CLSTAR_rounds                          21.5\n",
            "CLSTAR_TOTAL_SYM_progress        -49.082049\n",
            "CLSTAR_TOTAL_RST_progress         86.317494\n",
            "CLSTAR_MQ_SYM_progress            63.692265\n",
            "CLSTAR_MQ_RST_progress            94.995036\n",
            "CLSTAR_EQ_SYM_progress        -11767.279818\n",
            "CLSTAR_EQ_RST_progress        -11701.886792\n",
            "Name: 4, dtype: object\n"
          ]
        },
        {
          "name": "stderr",
          "output_type": "stream",
          "text": [
            "C:\\Users\\Aryan\\AppData\\Local\\Packages\\PythonSoftwareFoundation.Python.3.12_qbz5n2kfra8p0\\LocalCache\\local-packages\\Python312\\site-packages\\scipy\\stats\\_stats_py.py:1087: RuntimeWarning: divide by zero encountered in divide\n",
            "  var *= np.divide(n, n-ddof)  # to avoid error on division by zero\n",
            "C:\\Users\\Aryan\\AppData\\Local\\Packages\\PythonSoftwareFoundation.Python.3.12_qbz5n2kfra8p0\\LocalCache\\local-packages\\Python312\\site-packages\\scipy\\stats\\_stats_py.py:1087: RuntimeWarning: invalid value encountered in scalar multiply\n",
            "  var *= np.divide(n, n-ddof)  # to avoid error on division by zero\n"
          ]
        }
      ],
      "source": [
        "# @title Pvalue \n",
        "pvalue_info = {'STATES':[],\n",
        "'CLSTAR_TOTAL_SYM_pvalue':[],\n",
        "'CLSTAR_TOTAL_RST_pvalue':[],\n",
        "              }\n",
        "for index, row in df3.iterrows():\n",
        "  data_range = row['STATES']\n",
        "  filtered_df = df[(df['STATES']<data_range.right) & (df['STATES']>=data_range.left)]\n",
        "  mq_sym_ttest = ttest_rel(filtered_df.loc[:,'CLSTAR_TOTAL_SYM'], filtered_df.loc[:,'LSTAR_TOTAL_SYM'], alternative='less').pvalue\n",
        "  eq_reset_ttest = ttest_rel(filtered_df.loc[:,'CLSTAR_TOTAL_RST'], filtered_df.loc[:,'LSTAR_TOTAL_RST'], alternative='less').pvalue\n",
        "  pvalue_info['STATES'].append(data_range)\n",
        "  pvalue_info['CLSTAR_TOTAL_SYM_pvalue'].append(mq_sym_ttest)\n",
        "  pvalue_info['CLSTAR_TOTAL_RST_pvalue'].append(eq_reset_ttest)\n",
        "\n",
        "pvalue_df = pd.DataFrame(pvalue_info)\n",
        "final_df = pd.merge(df3, pvalue_df,how='right', on='STATES')"
      ]
    },
    {
      "cell_type": "code",
      "execution_count": 364,
      "metadata": {
        "colab": {
          "base_uri": "https://localhost:8080/"
        },
        "id": "LaNhxK4KGGQw",
        "outputId": "82cc29de-22f5-499b-9a74-6dd4cf8e41e2"
      },
      "outputs": [
        {
          "data": {
            "text/plain": [
              "0         NaN\n",
              "1    0.718889\n",
              "2    0.301298\n",
              "3         NaN\n",
              "4    0.993834\n",
              "Name: CLSTAR_TOTAL_SYM_pvalue, dtype: float64"
            ]
          },
          "execution_count": 364,
          "metadata": {},
          "output_type": "execute_result"
        }
      ],
      "source": [
        "final_df['CLSTAR_TOTAL_SYM_pvalue']"
      ]
    },
    {
      "cell_type": "code",
      "execution_count": 365,
      "metadata": {
        "colab": {
          "base_uri": "https://localhost:8080/"
        },
        "id": "uDW5NqDDDkQh",
        "outputId": "44a7896c-4fd9-4846-831e-1e13a7a88351"
      },
      "outputs": [
        {
          "data": {
            "text/plain": [
              "Index(['STATES', 'inputs', 'LSTAR_total_sym_median', 'LSTAR_total_sym_mean',\n",
              "       'LSTAR_total_sym_std', 'LSTAR_total_reset_median',\n",
              "       'LSTAR_total_reset_mean', 'LSTAR_total_reset_std', 'LSTAR_mq_sym_mean',\n",
              "       'LSTAR_mq_sym_std', 'LSTAR_mq_reset_mean', 'LSTAR_mq_reset_std',\n",
              "       'LSTAR_eq_sym_mean', 'LSTAR_eq_sym_std', 'LSTAR_eq_reset_mean',\n",
              "       'LSTAR_eq_reset_std', 'LSTAR_eqs', 'CLSTAR_total_sym_median',\n",
              "       'CLSTAR_total_sym_mean', 'CLSTAR_total_sym_std',\n",
              "       'CLSTAR_total_reset_median', 'CLSTAR_total_reset_mean',\n",
              "       'CLSTAR_total_reset_std', 'CLSTAR_mq_sym_mean', 'CLSTAR_mq_sym_std',\n",
              "       'CLSTAR_mq_reset_mean', 'CLSTAR_mq_reset_std', 'CLSTAR_eq_sym_mean',\n",
              "       'CLSTAR_eq_sym_std', 'CLSTAR_eq_reset_mean', 'CLSTAR_eq_reset_std',\n",
              "       'CLSTAR_eqs', 'CLSTAR_components', 'CLSTAR_rounds',\n",
              "       'CLSTAR_TOTAL_SYM_progress', 'CLSTAR_TOTAL_RST_progress',\n",
              "       'CLSTAR_MQ_SYM_progress', 'CLSTAR_MQ_RST_progress',\n",
              "       'CLSTAR_EQ_SYM_progress', 'CLSTAR_EQ_RST_progress',\n",
              "       'CLSTAR_TOTAL_SYM_pvalue', 'CLSTAR_TOTAL_RST_pvalue'],\n",
              "      dtype='object')"
            ]
          },
          "execution_count": 365,
          "metadata": {},
          "output_type": "execute_result"
        }
      ],
      "source": [
        "final_df.columns"
      ]
    },
    {
      "cell_type": "markdown",
      "metadata": {
        "id": "M2Dwz9LWgVw-"
      },
      "source": [
        "## Tables "
      ]
    },
    {
      "cell_type": "code",
      "execution_count": null,
      "metadata": {
        "id": "3tmWpTGhgUs3"
      },
      "outputs": [],
      "source": []
    },
    {
      "cell_type": "code",
      "execution_count": 366,
      "metadata": {
        "colab": {
          "base_uri": "https://localhost:8080/",
          "height": 344
        },
        "id": "S2hvFZf2Dp3Q",
        "outputId": "6dcca3ac-1c72-4dbd-a4c5-df6ff714a593"
      },
      "outputs": [
        {
          "data": {
            "text/html": [
              "<div>\n",
              "<style scoped>\n",
              "    .dataframe tbody tr th:only-of-type {\n",
              "        vertical-align: middle;\n",
              "    }\n",
              "\n",
              "    .dataframe tbody tr th {\n",
              "        vertical-align: top;\n",
              "    }\n",
              "\n",
              "    .dataframe thead th {\n",
              "        text-align: right;\n",
              "    }\n",
              "</style>\n",
              "<table border=\"1\" class=\"dataframe\">\n",
              "  <thead>\n",
              "    <tr style=\"text-align: right;\">\n",
              "      <th></th>\n",
              "      <th>STATES</th>\n",
              "      <th>LSTAR_total_reset_mean</th>\n",
              "      <th>LSTAR_total_reset_std</th>\n",
              "      <th>CLSTAR_total_reset_mean</th>\n",
              "      <th>CLSTAR_total_reset_std</th>\n",
              "      <th>CLSTAR_TOTAL_RST_progress</th>\n",
              "      <th>CLSTAR_TOTAL_RST_pvalue</th>\n",
              "    </tr>\n",
              "  </thead>\n",
              "  <tbody>\n",
              "    <tr>\n",
              "      <th>0</th>\n",
              "      <td>(500, 1000]</td>\n",
              "      <td>193161.0</td>\n",
              "      <td>NaN</td>\n",
              "      <td>158076.0</td>\n",
              "      <td>NaN</td>\n",
              "      <td>18.163604</td>\n",
              "      <td>NaN</td>\n",
              "    </tr>\n",
              "    <tr>\n",
              "      <th>1</th>\n",
              "      <td>(1000, 1500]</td>\n",
              "      <td>611191.2</td>\n",
              "      <td>258374.153813</td>\n",
              "      <td>173191.4</td>\n",
              "      <td>85482.419487</td>\n",
              "      <td>71.663303</td>\n",
              "      <td>0.011243</td>\n",
              "    </tr>\n",
              "    <tr>\n",
              "      <th>2</th>\n",
              "      <td>(1500, 2000]</td>\n",
              "      <td>900754.5</td>\n",
              "      <td>315168.098977</td>\n",
              "      <td>111274.5</td>\n",
              "      <td>99014.041249</td>\n",
              "      <td>87.646523</td>\n",
              "      <td>0.060872</td>\n",
              "    </tr>\n",
              "    <tr>\n",
              "      <th>3</th>\n",
              "      <td>(2000, 2500]</td>\n",
              "      <td>NaN</td>\n",
              "      <td>NaN</td>\n",
              "      <td>NaN</td>\n",
              "      <td>NaN</td>\n",
              "      <td>NaN</td>\n",
              "      <td>NaN</td>\n",
              "    </tr>\n",
              "    <tr>\n",
              "      <th>4</th>\n",
              "      <td>(2500, 3000]</td>\n",
              "      <td>684494.5</td>\n",
              "      <td>71933.265743</td>\n",
              "      <td>93656.0</td>\n",
              "      <td>28592.569804</td>\n",
              "      <td>86.317494</td>\n",
              "      <td>0.038112</td>\n",
              "    </tr>\n",
              "  </tbody>\n",
              "</table>\n",
              "</div>"
            ],
            "text/plain": [
              "         STATES  LSTAR_total_reset_mean  LSTAR_total_reset_std  \\\n",
              "0   (500, 1000]                193161.0                    NaN   \n",
              "1  (1000, 1500]                611191.2          258374.153813   \n",
              "2  (1500, 2000]                900754.5          315168.098977   \n",
              "3  (2000, 2500]                     NaN                    NaN   \n",
              "4  (2500, 3000]                684494.5           71933.265743   \n",
              "\n",
              "   CLSTAR_total_reset_mean  CLSTAR_total_reset_std  CLSTAR_TOTAL_RST_progress  \\\n",
              "0                 158076.0                     NaN                  18.163604   \n",
              "1                 173191.4            85482.419487                  71.663303   \n",
              "2                 111274.5            99014.041249                  87.646523   \n",
              "3                      NaN                     NaN                        NaN   \n",
              "4                  93656.0            28592.569804                  86.317494   \n",
              "\n",
              "   CLSTAR_TOTAL_RST_pvalue  \n",
              "0                      NaN  \n",
              "1                 0.011243  \n",
              "2                 0.060872  \n",
              "3                      NaN  \n",
              "4                 0.038112  "
            ]
          },
          "execution_count": 366,
          "metadata": {},
          "output_type": "execute_result"
        }
      ],
      "source": [
        "# @title Table 1\n",
        "final_df[[\"STATES\", \"LSTAR_total_reset_mean\", \"LSTAR_total_reset_std\", \"CLSTAR_total_reset_mean\", \"CLSTAR_total_reset_std\", \"CLSTAR_TOTAL_RST_progress\" ,\"CLSTAR_TOTAL_RST_pvalue\" ]]"
      ]
    },
    {
      "cell_type": "code",
      "execution_count": 367,
      "metadata": {
        "colab": {
          "base_uri": "https://localhost:8080/",
          "height": 300
        },
        "id": "y30255hDFR7f",
        "outputId": "c3e4d3ce-878b-40aa-86c2-bab5ebffc90c"
      },
      "outputs": [
        {
          "data": {
            "text/html": [
              "<div>\n",
              "<style scoped>\n",
              "    .dataframe tbody tr th:only-of-type {\n",
              "        vertical-align: middle;\n",
              "    }\n",
              "\n",
              "    .dataframe tbody tr th {\n",
              "        vertical-align: top;\n",
              "    }\n",
              "\n",
              "    .dataframe thead th {\n",
              "        text-align: right;\n",
              "    }\n",
              "</style>\n",
              "<table border=\"1\" class=\"dataframe\">\n",
              "  <thead>\n",
              "    <tr style=\"text-align: right;\">\n",
              "      <th></th>\n",
              "      <th>STATES</th>\n",
              "      <th>LSTAR_total_sym_mean</th>\n",
              "      <th>LSTAR_total_sym_std</th>\n",
              "      <th>CLSTAR_total_sym_mean</th>\n",
              "      <th>CLSTAR_total_sym_std</th>\n",
              "      <th>CLSTAR_TOTAL_SYM_progress</th>\n",
              "      <th>CLSTAR_TOTAL_SYM_pvalue</th>\n",
              "    </tr>\n",
              "  </thead>\n",
              "  <tbody>\n",
              "    <tr>\n",
              "      <th>0</th>\n",
              "      <td>(500, 1000]</td>\n",
              "      <td>3648963.0</td>\n",
              "      <td>NaN</td>\n",
              "      <td>13365027.0</td>\n",
              "      <td>NaN</td>\n",
              "      <td>-266.269184</td>\n",
              "      <td>NaN</td>\n",
              "    </tr>\n",
              "    <tr>\n",
              "      <th>1</th>\n",
              "      <td>(1000, 1500]</td>\n",
              "      <td>15141547.8</td>\n",
              "      <td>7.123282e+06</td>\n",
              "      <td>17338495.0</td>\n",
              "      <td>7.367860e+06</td>\n",
              "      <td>-14.509396</td>\n",
              "      <td>0.718889</td>\n",
              "    </tr>\n",
              "    <tr>\n",
              "      <th>2</th>\n",
              "      <td>(1500, 2000]</td>\n",
              "      <td>14646023.0</td>\n",
              "      <td>1.374254e+07</td>\n",
              "      <td>11611774.5</td>\n",
              "      <td>7.785444e+06</td>\n",
              "      <td>20.717218</td>\n",
              "      <td>0.301298</td>\n",
              "    </tr>\n",
              "    <tr>\n",
              "      <th>3</th>\n",
              "      <td>(2000, 2500]</td>\n",
              "      <td>NaN</td>\n",
              "      <td>NaN</td>\n",
              "      <td>NaN</td>\n",
              "      <td>NaN</td>\n",
              "      <td>NaN</td>\n",
              "      <td>NaN</td>\n",
              "    </tr>\n",
              "    <tr>\n",
              "      <th>4</th>\n",
              "      <td>(2500, 3000]</td>\n",
              "      <td>7881872.5</td>\n",
              "      <td>2.678861e+06</td>\n",
              "      <td>11750457.0</td>\n",
              "      <td>2.784855e+06</td>\n",
              "      <td>-49.082049</td>\n",
              "      <td>0.993834</td>\n",
              "    </tr>\n",
              "  </tbody>\n",
              "</table>\n",
              "</div>"
            ],
            "text/plain": [
              "         STATES  LSTAR_total_sym_mean  LSTAR_total_sym_std  \\\n",
              "0   (500, 1000]             3648963.0                  NaN   \n",
              "1  (1000, 1500]            15141547.8         7.123282e+06   \n",
              "2  (1500, 2000]            14646023.0         1.374254e+07   \n",
              "3  (2000, 2500]                   NaN                  NaN   \n",
              "4  (2500, 3000]             7881872.5         2.678861e+06   \n",
              "\n",
              "   CLSTAR_total_sym_mean  CLSTAR_total_sym_std  CLSTAR_TOTAL_SYM_progress  \\\n",
              "0             13365027.0                   NaN                -266.269184   \n",
              "1             17338495.0          7.367860e+06                 -14.509396   \n",
              "2             11611774.5          7.785444e+06                  20.717218   \n",
              "3                    NaN                   NaN                        NaN   \n",
              "4             11750457.0          2.784855e+06                 -49.082049   \n",
              "\n",
              "   CLSTAR_TOTAL_SYM_pvalue  \n",
              "0                      NaN  \n",
              "1                 0.718889  \n",
              "2                 0.301298  \n",
              "3                      NaN  \n",
              "4                 0.993834  "
            ]
          },
          "execution_count": 367,
          "metadata": {},
          "output_type": "execute_result"
        }
      ],
      "source": [
        "# @title Table 2\n",
        "final_df[[\"STATES\", \"LSTAR_total_sym_mean\", \"LSTAR_total_sym_std\", \"CLSTAR_total_sym_mean\", \"CLSTAR_total_sym_std\", \"CLSTAR_TOTAL_SYM_progress\" ,\"CLSTAR_TOTAL_SYM_pvalue\" ]]"
      ]
    },
    {
      "cell_type": "code",
      "execution_count": 368,
      "metadata": {
        "id": "T_BU62CauJdM"
      },
      "outputs": [],
      "source": [
        "final_df.to_csv(\"Results_summerized.csv\")"
      ]
    },
    {
      "cell_type": "markdown",
      "metadata": {
        "id": "RxAucIl5U88a"
      },
      "source": [
        "# Plots"
      ]
    },
    {
      "cell_type": "code",
      "execution_count": 369,
      "metadata": {
        "id": "AO-SzabauJdO"
      },
      "outputs": [],
      "source": [
        "sns.set(rc={'figure.figsize':(15,6)})"
      ]
    },
    {
      "cell_type": "code",
      "execution_count": 370,
      "metadata": {
        "colab": {
          "base_uri": "https://localhost:8080/",
          "height": 621
        },
        "id": "OecefKIHuJdO",
        "outputId": "18bf7846-2622-490c-cf60-b717c2baee03"
      },
      "outputs": [
        {
          "name": "stderr",
          "output_type": "stream",
          "text": [
            "C:\\Users\\Aryan\\AppData\\Local\\Temp\\ipykernel_11136\\1459455666.py:5: SettingWithCopyWarning: \n",
            "A value is trying to be set on a copy of a slice from a DataFrame.\n",
            "Try using .loc[row_indexer,col_indexer] = value instead\n",
            "\n",
            "See the caveats in the documentation: https://pandas.pydata.org/pandas-docs/stable/user_guide/indexing.html#returning-a-view-versus-a-copy\n",
            "  d2['state_range'] = pd.cut(d2['STATES'], bins= bins)\n",
            "C:\\Users\\Aryan\\AppData\\Local\\Temp\\ipykernel_11136\\1459455666.py:20: SettingWithCopyWarning: \n",
            "A value is trying to be set on a copy of a slice from a DataFrame.\n",
            "Try using .loc[row_indexer,col_indexer] = value instead\n",
            "\n",
            "See the caveats in the documentation: https://pandas.pydata.org/pandas-docs/stable/user_guide/indexing.html#returning-a-view-versus-a-copy\n",
            "  d1['state_range'] = pd.cut(d1['STATES'], bins= bins)\n"
          ]
        },
        {
          "data": {
            "image/png": "[encoded data removed]",
            "text/plain": [
              "<Figure size 1500x600 with 2 Axes>"
            ]
          },
          "metadata": {},
          "output_type": "display_data"
        }
      ],
      "source": [
        "#  @title Fig 2. The total number of input symbols and resets in the CL∗ and L∗ methods\n",
        "fig, axs = plt.subplots(ncols=2)\n",
        "\n",
        "d2 = df[['STATES', 'LSTAR_TOTAL_RST', 'CLSTAR_TOTAL_RST']]\n",
        "d2['state_range'] = pd.cut(d2['STATES'], bins= bins)\n",
        "d2 = d2.set_index('state_range')\n",
        "\n",
        "d2[['L*',  'CL*']] = d2[['LSTAR_TOTAL_RST',  'CLSTAR_TOTAL_RST']] \n",
        "\n",
        "d2 = d2[['L*',  'CL*']].stack().reset_index()\n",
        "d2 = d2.rename(columns={\"level_1\": \"method\", 0: \"total number of resets\"})\n",
        "\n",
        "g1 = sns.boxplot(y = d2['state_range'],\n",
        "\t\t\tx = d2['total number of resets'],\n",
        "\t\t\thue = d2['method'],\n",
        "       showcaps=True,orient=\"h\", ax=axs[0]).set_xscale('log')\n",
        "\n",
        "\n",
        "d1 = df[['STATES', 'LSTAR_TOTAL_SYM', 'CLSTAR_TOTAL_SYM']]\n",
        "d1['state_range'] = pd.cut(d1['STATES'], bins= bins)\n",
        "d1 = d1.set_index('state_range')\n",
        "d1[['L*',  'CL*']] = d1[['LSTAR_TOTAL_SYM',  'CLSTAR_TOTAL_SYM']] \n",
        "d1 = d1[['L*',  'CL*']].stack().reset_index()\n",
        "d1 = d1.rename(columns={\"level_1\": \"method\", 0: \"total number of symbols\"})\n",
        "\n",
        "g2 = sns.boxplot(y = d1['state_range'],\n",
        "\t\t\tx = d1['total number of symbols'],\n",
        "\t\t\thue = d1['method'],\n",
        "       showcaps=True,orient=\"h\", ax=axs[1])\n",
        "g2.set_xscale('log')\n",
        "\n",
        "g2.set(yticklabels=[])\n",
        "g2.set(ylabel=None)\n",
        "g2.tick_params(bottom=False) \n",
        "# plt.grid()\n",
        "# plt.show()\n"
      ]
    },
    {
      "cell_type": "code",
      "execution_count": 371,
      "metadata": {
        "colab": {
          "base_uri": "https://localhost:8080/",
          "height": 472
        },
        "id": "jJ40oDO04wBX",
        "outputId": "da7d669e-ead9-40ff-b375-b153a35e53aa"
      },
      "outputs": [
        {
          "name": "stderr",
          "output_type": "stream",
          "text": [
            "C:\\Users\\Aryan\\AppData\\Local\\Temp\\ipykernel_11136\\440006197.py:4: SettingWithCopyWarning: \n",
            "A value is trying to be set on a copy of a slice from a DataFrame.\n",
            "Try using .loc[row_indexer,col_indexer] = value instead\n",
            "\n",
            "See the caveats in the documentation: https://pandas.pydata.org/pandas-docs/stable/user_guide/indexing.html#returning-a-view-versus-a-copy\n",
            "  d2[['L*',  'CL*', '#components', '#states']] = d2[['LSTAR_TOTAL_SYM',  'CLSTAR_TOTAL_SYM', 'CLSTAR_COMPONENTS', 'STATES']]\n",
            "C:\\Users\\Aryan\\AppData\\Local\\Temp\\ipykernel_11136\\440006197.py:4: SettingWithCopyWarning: \n",
            "A value is trying to be set on a copy of a slice from a DataFrame.\n",
            "Try using .loc[row_indexer,col_indexer] = value instead\n",
            "\n",
            "See the caveats in the documentation: https://pandas.pydata.org/pandas-docs/stable/user_guide/indexing.html#returning-a-view-versus-a-copy\n",
            "  d2[['L*',  'CL*', '#components', '#states']] = d2[['LSTAR_TOTAL_SYM',  'CLSTAR_TOTAL_SYM', 'CLSTAR_COMPONENTS', 'STATES']]\n",
            "C:\\Users\\Aryan\\AppData\\Local\\Temp\\ipykernel_11136\\440006197.py:4: SettingWithCopyWarning: \n",
            "A value is trying to be set on a copy of a slice from a DataFrame.\n",
            "Try using .loc[row_indexer,col_indexer] = value instead\n",
            "\n",
            "See the caveats in the documentation: https://pandas.pydata.org/pandas-docs/stable/user_guide/indexing.html#returning-a-view-versus-a-copy\n",
            "  d2[['L*',  'CL*', '#components', '#states']] = d2[['LSTAR_TOTAL_SYM',  'CLSTAR_TOTAL_SYM', 'CLSTAR_COMPONENTS', 'STATES']]\n",
            "C:\\Users\\Aryan\\AppData\\Local\\Temp\\ipykernel_11136\\440006197.py:4: SettingWithCopyWarning: \n",
            "A value is trying to be set on a copy of a slice from a DataFrame.\n",
            "Try using .loc[row_indexer,col_indexer] = value instead\n",
            "\n",
            "See the caveats in the documentation: https://pandas.pydata.org/pandas-docs/stable/user_guide/indexing.html#returning-a-view-versus-a-copy\n",
            "  d2[['L*',  'CL*', '#components', '#states']] = d2[['LSTAR_TOTAL_SYM',  'CLSTAR_TOTAL_SYM', 'CLSTAR_COMPONENTS', 'STATES']]\n"
          ]
        },
        {
          "data": {
            "image/png": "[encoded data removed]",
            "text/plain": [
              "<Figure size 1280.38x500 with 2 Axes>"
            ]
          },
          "metadata": {},
          "output_type": "display_data"
        }
      ],
      "source": [
        "# @title Fig.3: The effect of FSM size in terms of number of components and states on total number of input symbols.\n",
        "d2 = df[['STATES','CLSTAR_COMPONENTS', 'LSTAR_TOTAL_SYM', 'CLSTAR_TOTAL_SYM']]\n",
        "\n",
        "d2[['L*',  'CL*', '#components', '#states']] = d2[['LSTAR_TOTAL_SYM',  'CLSTAR_TOTAL_SYM', 'CLSTAR_COMPONENTS', 'STATES']] \n",
        "d2 = d2.set_index(['#states','#components'])\n",
        "\n",
        "d2 = d2[['L*',  'CL*']].stack().reset_index()\n",
        "d2 = d2.rename(columns={\"level_2\": \"method\", 0: \"total number of input symbols\"})\n",
        "\n",
        "sns.pairplot(d2, x_vars=[\"#states\", \"#components\"], y_vars=[\"total number of input symbols\"],\n",
        "             hue=\"method\", height=5, aspect=1.2, kind=\"reg\" );\n",
        "plt.yscale('log')\n"
      ]
    },
    {
      "cell_type": "code",
      "execution_count": 372,
      "metadata": {
        "colab": {
          "base_uri": "https://localhost:8080/",
          "height": 472
        },
        "id": "j4fbzVuspqdR",
        "outputId": "9a7641c2-e80f-45df-b677-04310f72b2b1"
      },
      "outputs": [
        {
          "name": "stderr",
          "output_type": "stream",
          "text": [
            "C:\\Users\\Aryan\\AppData\\Local\\Temp\\ipykernel_11136\\1651643529.py:5: SettingWithCopyWarning: \n",
            "A value is trying to be set on a copy of a slice from a DataFrame.\n",
            "Try using .loc[row_indexer,col_indexer] = value instead\n",
            "\n",
            "See the caveats in the documentation: https://pandas.pydata.org/pandas-docs/stable/user_guide/indexing.html#returning-a-view-versus-a-copy\n",
            "  d2[['L*',  'CL*', '#components', '#states']] = d2[['LSTAR_TOTAL_RST',  'CLSTAR_TOTAL_RST', 'CLSTAR_COMPONENTS', 'STATES']]\n",
            "C:\\Users\\Aryan\\AppData\\Local\\Temp\\ipykernel_11136\\1651643529.py:5: SettingWithCopyWarning: \n",
            "A value is trying to be set on a copy of a slice from a DataFrame.\n",
            "Try using .loc[row_indexer,col_indexer] = value instead\n",
            "\n",
            "See the caveats in the documentation: https://pandas.pydata.org/pandas-docs/stable/user_guide/indexing.html#returning-a-view-versus-a-copy\n",
            "  d2[['L*',  'CL*', '#components', '#states']] = d2[['LSTAR_TOTAL_RST',  'CLSTAR_TOTAL_RST', 'CLSTAR_COMPONENTS', 'STATES']]\n",
            "C:\\Users\\Aryan\\AppData\\Local\\Temp\\ipykernel_11136\\1651643529.py:5: SettingWithCopyWarning: \n",
            "A value is trying to be set on a copy of a slice from a DataFrame.\n",
            "Try using .loc[row_indexer,col_indexer] = value instead\n",
            "\n",
            "See the caveats in the documentation: https://pandas.pydata.org/pandas-docs/stable/user_guide/indexing.html#returning-a-view-versus-a-copy\n",
            "  d2[['L*',  'CL*', '#components', '#states']] = d2[['LSTAR_TOTAL_RST',  'CLSTAR_TOTAL_RST', 'CLSTAR_COMPONENTS', 'STATES']]\n",
            "C:\\Users\\Aryan\\AppData\\Local\\Temp\\ipykernel_11136\\1651643529.py:5: SettingWithCopyWarning: \n",
            "A value is trying to be set on a copy of a slice from a DataFrame.\n",
            "Try using .loc[row_indexer,col_indexer] = value instead\n",
            "\n",
            "See the caveats in the documentation: https://pandas.pydata.org/pandas-docs/stable/user_guide/indexing.html#returning-a-view-versus-a-copy\n",
            "  d2[['L*',  'CL*', '#components', '#states']] = d2[['LSTAR_TOTAL_RST',  'CLSTAR_TOTAL_RST', 'CLSTAR_COMPONENTS', 'STATES']]\n"
          ]
        },
        {
          "data": {
            "image/png": "[encoded data removed]",
            "text/plain": [
              "<Figure size 1280.38x500 with 2 Axes>"
            ]
          },
          "metadata": {},
          "output_type": "display_data"
        }
      ],
      "source": [
        "# @title Fig.4: The effect of FSM size in terms of number of components and states on total number of input resets.\n",
        "\n",
        "d2 = df[['STATES','CLSTAR_COMPONENTS', 'LSTAR_TOTAL_RST', 'CLSTAR_TOTAL_RST']]\n",
        "\n",
        "d2[['L*',  'CL*', '#components', '#states']] = d2[['LSTAR_TOTAL_RST',  'CLSTAR_TOTAL_RST', 'CLSTAR_COMPONENTS', 'STATES']] \n",
        "d2 = d2.set_index(['#states','#components'])\n",
        "\n",
        "d2 = d2[['L*',  'CL*']].stack().reset_index()\n",
        "d2 = d2.rename(columns={\"level_2\": \"method\", 0: \"total number of resets\"})\n",
        "\n",
        "sns.pairplot(d2, x_vars=[\"#states\", \"#components\"], y_vars=[\"total number of resets\"],\n",
        "             hue=\"method\", height=5, aspect=1.2, kind=\"reg\" );\n",
        "plt.yscale('log')\n"
      ]
    },
    {
      "cell_type": "code",
      "execution_count": null,
      "metadata": {
        "id": "gsYcIkao152k"
      },
      "outputs": [],
      "source": []
    }
  ],
  "metadata": {
    "colab": {
      "provenance": [],
      "toc_visible": true
    },
    "kernelspec": {
      "display_name": "Python 3",
      "name": "python3"
    },
    "language_info": {
      "codemirror_mode": {
        "name": "ipython",
        "version": 3
      },
      "file_extension": ".py",
      "mimetype": "text/x-python",
      "name": "python",
      "nbconvert_exporter": "python",
      "pygments_lexer": "ipython3",
      "version": "3.12.3"
    }
  },
  "nbformat": 4,
  "nbformat_minor": 0
}
