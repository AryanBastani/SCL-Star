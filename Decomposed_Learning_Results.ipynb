{
  "nbformat": 4,
  "nbformat_minor": 0,
  "metadata": {
    "colab": {
      "provenance": [],
      "toc_visible": true
    },
    "kernelspec": {
      "name": "python3",
      "display_name": "Python 3"
    },
    "language_info": {
      "name": "python"
    }
  },
  "cells": [
    {
      "cell_type": "markdown",
      "source": [
        "# Decomposed_Learning_Results (CL* Algorithm)\n"
      ],
      "metadata": {
        "id": "HO3vsG-iJS7J"
      }
    },
    {
      "cell_type": "code",
      "execution_count": null,
      "metadata": {
        "id": "ID8mpaGl1OBO"
      },
      "outputs": [],
      "source": [
        "import pandas as pd\n",
        "import numpy as np\n",
        "import matplotlib.pyplot as plt\n",
        "from scipy.stats import ttest_ind, ttest_rel, ttest_1samp, kstest, shapiro, pearsonr\n",
        "import matplotlib.pyplot as plt\n",
        "import seaborn as sns"
      ]
    },
    {
      "cell_type": "code",
      "execution_count": null,
      "metadata": {
        "id": "QeRPdMuR1r0B"
      },
      "outputs": [],
      "source": [
        "# don't run this if you use jupyter notebook \n",
        "df =  pd.read_csv('/content/Results.csv',index_col=False)"
      ]
    },
    {
      "cell_type": "code",
      "source": [
        "# don't run this if you use google colab \n",
        "df =  pd.read_csv('/Results.csv',index_col=False)"
      ],
      "metadata": {
        "id": "U5zYrqSVgF-J"
      },
      "execution_count": null,
      "outputs": []
    },
    {
      "cell_type": "markdown",
      "metadata": {
        "id": "W2xprhe1tdH4"
      },
      "source": [
        "## Clean data"
      ]
    },
    {
      "cell_type": "code",
      "execution_count": null,
      "metadata": {
        "id": "j1XvSLn4tdH5"
      },
      "outputs": [],
      "source": [
        "def round_data(data):\n",
        "  return round(data, 3)"
      ]
    },
    {
      "cell_type": "code",
      "source": [
        "df = df[(df[\"STATES\"]<=3840) & (df[\"STATES\"]>300) ]"
      ],
      "metadata": {
        "id": "i0nfyfH8YvwI"
      },
      "execution_count": null,
      "outputs": []
    },
    {
      "cell_type": "code",
      "execution_count": null,
      "metadata": {
        "id": "hlwW2zNvtdH7"
      },
      "outputs": [],
      "source": [
        "df = df.dropna(axis=1, how='all')\n",
        "df = df.dropna()"
      ]
    },
    {
      "cell_type": "code",
      "execution_count": null,
      "metadata": {
        "id": "QKY1FHItuvKw"
      },
      "outputs": [],
      "source": [
        "# Calculate mean without outliers\n",
        "from scipy import stats\n",
        "def trimmed_mean(x):\n",
        "  z = stats.zscore(x)\n",
        "  d_z = x.loc[z<3,]\n",
        "  return d_z.mean()"
      ]
    },
    {
      "cell_type": "markdown",
      "metadata": {
        "id": "tNsHq75RuJdH"
      },
      "source": [
        "## Statistical Analysis"
      ]
    },
    {
      "cell_type": "code",
      "execution_count": null,
      "metadata": {
        "id": "uWkmVb6WuJdJ",
        "cellView": "form"
      },
      "outputs": [],
      "source": [
        "# @title Bins\n",
        "bins = [300,600,900,1200,1500,1800,2100,2400, 3840]\n",
        "labels = []"
      ]
    },
    {
      "cell_type": "markdown",
      "source": [
        "We cluster the benchmark into eight categories based on the FSM’s number of states to summerize the results and illusterate them."
      ],
      "metadata": {
        "id": "Mj4mmYMl-YvV"
      }
    },
    {
      "cell_type": "code",
      "source": [
        "# Data Distribution\n",
        "print(\"Count:  \",df['FILE_NAME'].unique().size)\n",
        "print(\"Min:    \",df.groupby('FILE_NAME').agg(min)['STATES'].min())\n",
        "print(\"Max:    \",df.groupby('FILE_NAME').agg(min)['STATES'].max())\n",
        "\n",
        "print(\"mean:   \", df.groupby('FILE_NAME').agg(min)['STATES'].mean())\n",
        "\n",
        "print(\"std:    \", df.groupby('FILE_NAME').agg(min)['STATES'].std())"
      ],
      "metadata": {
        "colab": {
          "base_uri": "https://localhost:8080/"
        },
        "id": "8CO4kfjiMU3R",
        "outputId": "eac012f0-61c9-4f03-80e3-4f34ad6aae67"
      },
      "execution_count": null,
      "outputs": [
        {
          "output_type": "stream",
          "name": "stdout",
          "text": [
            "Count:   99\n",
            "Min:     312\n",
            "Max:     3840\n",
            "mean:    1270.2222222222222\n",
            "std:     847.5170885707857\n"
          ]
        }
      ]
    },
    {
      "cell_type": "code",
      "execution_count": null,
      "metadata": {
        "id": "CvE_-0qeuJdI"
      },
      "outputs": [],
      "source": [
        "# calculate the progress \n",
        "\n",
        "df['CLSTAR_TOTAL_RST_progress'] = (1 - (df['CLSTAR_TOTAL_RST'] / df['CLSTAR_TOTAL_RST']))*100\n",
        "df['CLSTAR_TOTAL_SYM_progress'] = (1 - (df['CLSTAR_TOTAL_SYM'] / df['CLSTAR_TOTAL_SYM']))*100\n",
        "\n",
        "df['CLSTAR_MQ_SYM_progress'] = (1 - (df['CLSTAR_MQ_SYM'] / df['CLSTAR_MQ_SYM']))*100\n",
        "df['CLSTAR_MQ_RST_progress'] = (1 - (df['CLSTAR_MQ_RST'] / df['CLSTAR_MQ_RST']))*100\n",
        "df['CLSTAR_EQ_SYM_progress'] = (1 - (df['CLSTAR_EQ_SYM'] / df['CLSTAR_EQ_SYM']))*100\n",
        "df['CLSTAR_EQ_RST_progress'] = (1 - (df['CLSTAR_EQ_RST'] / df['CLSTAR_EQ_RST']))*100\n"
      ]
    },
    {
      "cell_type": "code",
      "source": [
        "# @title Check for normal\n",
        "for i in range(0, len(bins)-1):\n",
        "    data = df[df['STATES']>bins[i] & (df['STATES']<=bins[i+1])]\n",
        "    states_count = data.loc[:,'STATES']\n",
        "    input_count = data.loc[:,'INPUTS']\n",
        "    # print(len(data))\n",
        "    lstar_resets_count = data.loc[:,  'CLSTAR_TOTAL_RST']\n",
        "    CLSTAR_resets_count = data.loc[:, 'CLSTAR_TOTAL_RST']\n",
        "    lstar_symbols_count = data.loc[:, 'CLSTAR_TOTAL_SYM']\n",
        "    CLSTAR_symbols_count = data.loc[:,'CLSTAR_TOTAL_SYM']\n",
        "    print(bins[i],  '-', bins[i+1])\n",
        "    print(kstest(states_count,'norm'))\n",
        "    print(kstest(lstar_resets_count,'norm'))\n",
        "    print(kstest(CLSTAR_resets_count,'norm'))\n",
        "    print(kstest(lstar_symbols_count,'norm'))\n",
        "    print(kstest(CLSTAR_symbols_count,'norm'))\n",
        "\n",
        "    print(shapiro(states_count))\n",
        "    print(shapiro(lstar_resets_count))\n",
        "    print(shapiro(CLSTAR_resets_count))\n",
        "    print(shapiro(lstar_symbols_count))\n",
        "    print(shapiro(CLSTAR_symbols_count))\n",
        "\n",
        "\n"
      ],
      "metadata": {
        "colab": {
          "base_uri": "https://localhost:8080/"
        },
        "id": "E2d94V5yG1St",
        "outputId": "16d10841-8893-46f3-85c2-017cabb8ffc5"
      },
      "execution_count": null,
      "outputs": [
        {
          "output_type": "stream",
          "name": "stdout",
          "text": [
            "300 - 600\n",
            "KstestResult(statistic=1.0, pvalue=0.0)\n",
            "KstestResult(statistic=1.0, pvalue=0.0)\n",
            "KstestResult(statistic=1.0, pvalue=0.0)\n",
            "KstestResult(statistic=1.0, pvalue=0.0)\n",
            "KstestResult(statistic=1.0, pvalue=0.0)\n",
            "ShapiroResult(statistic=0.8899503946304321, pvalue=5.465050776365388e-07)\n",
            "ShapiroResult(statistic=0.4499932527542114, pvalue=1.5664201800269703e-17)\n",
            "ShapiroResult(statistic=0.4499932527542114, pvalue=1.5664201800269703e-17)\n",
            "ShapiroResult(statistic=0.49176621437072754, pvalue=6.904820018370454e-17)\n",
            "ShapiroResult(statistic=0.49176621437072754, pvalue=6.904820018370454e-17)\n",
            "600 - 900\n",
            "KstestResult(statistic=1.0, pvalue=0.0)\n",
            "KstestResult(statistic=1.0, pvalue=0.0)\n",
            "KstestResult(statistic=1.0, pvalue=0.0)\n",
            "KstestResult(statistic=1.0, pvalue=0.0)\n",
            "KstestResult(statistic=1.0, pvalue=0.0)\n",
            "ShapiroResult(statistic=0.8899503946304321, pvalue=5.465050776365388e-07)\n",
            "ShapiroResult(statistic=0.4499932527542114, pvalue=1.5664201800269703e-17)\n",
            "ShapiroResult(statistic=0.4499932527542114, pvalue=1.5664201800269703e-17)\n",
            "ShapiroResult(statistic=0.49176621437072754, pvalue=6.904820018370454e-17)\n",
            "ShapiroResult(statistic=0.49176621437072754, pvalue=6.904820018370454e-17)\n",
            "900 - 1200\n",
            "KstestResult(statistic=1.0, pvalue=0.0)\n",
            "KstestResult(statistic=1.0, pvalue=0.0)\n",
            "KstestResult(statistic=1.0, pvalue=0.0)\n",
            "KstestResult(statistic=1.0, pvalue=0.0)\n",
            "KstestResult(statistic=1.0, pvalue=0.0)\n",
            "ShapiroResult(statistic=0.8899503946304321, pvalue=5.465050776365388e-07)\n",
            "ShapiroResult(statistic=0.4499932527542114, pvalue=1.5664201800269703e-17)\n",
            "ShapiroResult(statistic=0.4499932527542114, pvalue=1.5664201800269703e-17)\n",
            "ShapiroResult(statistic=0.49176621437072754, pvalue=6.904820018370454e-17)\n",
            "ShapiroResult(statistic=0.49176621437072754, pvalue=6.904820018370454e-17)\n",
            "1200 - 1500\n",
            "KstestResult(statistic=1.0, pvalue=0.0)\n",
            "KstestResult(statistic=1.0, pvalue=0.0)\n",
            "KstestResult(statistic=1.0, pvalue=0.0)\n",
            "KstestResult(statistic=1.0, pvalue=0.0)\n",
            "KstestResult(statistic=1.0, pvalue=0.0)\n",
            "ShapiroResult(statistic=0.8899503946304321, pvalue=5.465050776365388e-07)\n",
            "ShapiroResult(statistic=0.4499932527542114, pvalue=1.5664201800269703e-17)\n",
            "ShapiroResult(statistic=0.4499932527542114, pvalue=1.5664201800269703e-17)\n",
            "ShapiroResult(statistic=0.49176621437072754, pvalue=6.904820018370454e-17)\n",
            "ShapiroResult(statistic=0.49176621437072754, pvalue=6.904820018370454e-17)\n",
            "1500 - 1800\n",
            "KstestResult(statistic=1.0, pvalue=0.0)\n",
            "KstestResult(statistic=1.0, pvalue=0.0)\n",
            "KstestResult(statistic=1.0, pvalue=0.0)\n",
            "KstestResult(statistic=1.0, pvalue=0.0)\n",
            "KstestResult(statistic=1.0, pvalue=0.0)\n",
            "ShapiroResult(statistic=0.8899503946304321, pvalue=5.465050776365388e-07)\n",
            "ShapiroResult(statistic=0.4499932527542114, pvalue=1.5664201800269703e-17)\n",
            "ShapiroResult(statistic=0.4499932527542114, pvalue=1.5664201800269703e-17)\n",
            "ShapiroResult(statistic=0.49176621437072754, pvalue=6.904820018370454e-17)\n",
            "ShapiroResult(statistic=0.49176621437072754, pvalue=6.904820018370454e-17)\n",
            "1800 - 2100\n",
            "KstestResult(statistic=1.0, pvalue=0.0)\n",
            "KstestResult(statistic=1.0, pvalue=0.0)\n",
            "KstestResult(statistic=1.0, pvalue=0.0)\n",
            "KstestResult(statistic=1.0, pvalue=0.0)\n",
            "KstestResult(statistic=1.0, pvalue=0.0)\n",
            "ShapiroResult(statistic=0.8899503946304321, pvalue=5.465050776365388e-07)\n",
            "ShapiroResult(statistic=0.4499932527542114, pvalue=1.5664201800269703e-17)\n",
            "ShapiroResult(statistic=0.4499932527542114, pvalue=1.5664201800269703e-17)\n",
            "ShapiroResult(statistic=0.49176621437072754, pvalue=6.904820018370454e-17)\n",
            "ShapiroResult(statistic=0.49176621437072754, pvalue=6.904820018370454e-17)\n",
            "2100 - 2400\n",
            "KstestResult(statistic=1.0, pvalue=0.0)\n",
            "KstestResult(statistic=1.0, pvalue=0.0)\n",
            "KstestResult(statistic=1.0, pvalue=0.0)\n",
            "KstestResult(statistic=1.0, pvalue=0.0)\n",
            "KstestResult(statistic=1.0, pvalue=0.0)\n",
            "ShapiroResult(statistic=0.8899503946304321, pvalue=5.465050776365388e-07)\n",
            "ShapiroResult(statistic=0.4499932527542114, pvalue=1.5664201800269703e-17)\n",
            "ShapiroResult(statistic=0.4499932527542114, pvalue=1.5664201800269703e-17)\n",
            "ShapiroResult(statistic=0.49176621437072754, pvalue=6.904820018370454e-17)\n",
            "ShapiroResult(statistic=0.49176621437072754, pvalue=6.904820018370454e-17)\n",
            "2400 - 3840\n",
            "KstestResult(statistic=1.0, pvalue=0.0)\n",
            "KstestResult(statistic=1.0, pvalue=0.0)\n",
            "KstestResult(statistic=1.0, pvalue=0.0)\n",
            "KstestResult(statistic=1.0, pvalue=0.0)\n",
            "KstestResult(statistic=1.0, pvalue=0.0)\n",
            "ShapiroResult(statistic=0.8899503946304321, pvalue=5.465050776365388e-07)\n",
            "ShapiroResult(statistic=0.4499932527542114, pvalue=1.5664201800269703e-17)\n",
            "ShapiroResult(statistic=0.4499932527542114, pvalue=1.5664201800269703e-17)\n",
            "ShapiroResult(statistic=0.49176621437072754, pvalue=6.904820018370454e-17)\n",
            "ShapiroResult(statistic=0.49176621437072754, pvalue=6.904820018370454e-17)\n"
          ]
        }
      ]
    },
    {
      "cell_type": "code",
      "execution_count": null,
      "metadata": {
        "id": "w7n0ExAnuJdJ"
      },
      "outputs": [],
      "source": [
        "# @title Cluster Items\n",
        "\n",
        "grouped = df.groupby(pd.cut(df[\"STATES\"],bins))\n",
        "df3 = grouped.agg(\n",
        "    # states = pd.NamedAgg(column='STATES', aggfunc=\"min\"),\n",
        "    inputs=pd.NamedAgg(column=\"INPUTS\", aggfunc='median'),\n",
        "\n",
        "    LSTAR_total_sym_median=pd.NamedAgg(column='LSTAR_TOTAL_SYM', aggfunc='median'),\n",
        "    LSTAR_total_sym_mean=pd.NamedAgg(column='LSTAR_TOTAL_SYM', aggfunc='mean'),\n",
        "    LSTAR_total_sym_std=pd.NamedAgg(column='LSTAR_TOTAL_SYM', aggfunc=\"std\"),\n",
        "    LSTAR_total_reset_median=pd.NamedAgg(column='LSTAR_TOTAL_RST', aggfunc='median'),\n",
        "    LSTAR_total_reset_mean=pd.NamedAgg(column='LSTAR_TOTAL_RST', aggfunc='mean'),\n",
        "    LSTAR_total_reset_std=pd.NamedAgg(column='LSTAR_TOTAL_RST', aggfunc=\"std\"),\n",
        "    LSTAR_mq_sym_mean=pd.NamedAgg(column='LSTAR_MQ_SYM', aggfunc='median'),\n",
        "    LSTAR_mq_sym_std=pd.NamedAgg(column='LSTAR_MQ_SYM', aggfunc=\"std\"),\n",
        "    LSTAR_mq_reset_mean=pd.NamedAgg(column='LSTAR_MQ_RST', aggfunc='median'),\n",
        "    LSTAR_mq_reset_std=pd.NamedAgg(column='LSTAR_MQ_RST', aggfunc=\"std\"),\n",
        "    LSTAR_eq_sym_mean=pd.NamedAgg(column='LSTAR_EQ_SYM', aggfunc='median'),\n",
        "    LSTAR_eq_sym_std=pd.NamedAgg(column='LSTAR_EQ_SYM', aggfunc=\"std\"),\n",
        "    LSTAR_eq_reset_mean=pd.NamedAgg(column='LSTAR_EQ_RST', aggfunc='median'),\n",
        "    LSTAR_eq_reset_std=pd.NamedAgg(column='LSTAR_EQ_RST', aggfunc=\"std\"),\n",
        "    LSTAR_eqs=pd.NamedAgg(column='LSTAR_EQs', aggfunc='median'),\n",
        "\n",
        "    CLSTAR_total_sym_median=pd.NamedAgg(column='CLSTAR_TOTAL_SYM', aggfunc='mean'),\n",
        "    CLSTAR_total_sym_mean=pd.NamedAgg(column='CLSTAR_TOTAL_SYM', aggfunc='median'),\n",
        "    CLSTAR_total_sym_std=pd.NamedAgg(column='CLSTAR_TOTAL_SYM', aggfunc=\"std\"),\n",
        "    CLSTAR_total_reset_median=pd.NamedAgg(column='CLSTAR_TOTAL_RST', aggfunc='median'),\n",
        "    CLSTAR_total_reset_mean=pd.NamedAgg(column='CLSTAR_TOTAL_RST', aggfunc='mean'),\n",
        "    CLSTAR_total_reset_std=pd.NamedAgg(column='CLSTAR_TOTAL_RST', aggfunc=\"std\"),\n",
        "    CLSTAR_mq_sym_mean=pd.NamedAgg(column='CLSTAR_MQ_SYM', aggfunc='median'),\n",
        "    CLSTAR_mq_sym_std=pd.NamedAgg(column='CLSTAR_MQ_SYM', aggfunc=\"std\"),\n",
        "    CLSTAR_mq_reset_mean=pd.NamedAgg(column='CLSTAR_MQ_RST', aggfunc='median'),\n",
        "    CLSTAR_mq_reset_std=pd.NamedAgg(column='CLSTAR_MQ_RST', aggfunc=\"std\"),\n",
        "    CLSTAR_eq_sym_mean=pd.NamedAgg(column='CLSTAR_EQ_SYM', aggfunc='median'),\n",
        "    CLSTAR_eq_sym_std=pd.NamedAgg(column='CLSTAR_EQ_SYM', aggfunc=\"std\"),\n",
        "    CLSTAR_eq_reset_mean=pd.NamedAgg(column='CLSTAR_EQ_RST', aggfunc='median'),\n",
        "    CLSTAR_eq_reset_std=pd.NamedAgg(column='CLSTAR_EQ_RST', aggfunc=\"std\"),\n",
        "    CLSTAR_eqs=pd.NamedAgg(column='CLSTAR_EQs', aggfunc='median'),\n",
        "    CLSTAR_components=pd.NamedAgg(column='CLSTAR_COMPONENTS', aggfunc='median'),\n",
        "    CLSTAR_rounds=pd.NamedAgg(column='CLSTAR_ROUNDS', aggfunc='median'),\n",
        "\n",
        ").reset_index()\n"
      ]
    },
    {
      "cell_type": "code",
      "execution_count": null,
      "metadata": {
        "id": "fC8Ltq73uJdL"
      },
      "outputs": [],
      "source": [
        "# Progress\n",
        "df3['CLSTAR_TOTAL_SYM_progress'] = (1 - (df3['CLSTAR_total_sym_mean'] / df3['LSTAR_total_sym_mean']))*100\n",
        "df3['CLSTAR_TOTAL_RST_progress'] = (1 - (df3['CLSTAR_total_reset_mean'] / df3['LSTAR_total_reset_mean']))*100\n",
        "df3['CLSTAR_MQ_SYM_progress'] = (1 - (df3['CLSTAR_mq_sym_mean'] / df3['LSTAR_mq_sym_mean']))*100\n",
        "df3['CLSTAR_MQ_RST_progress'] = (1 - (df3['CLSTAR_mq_reset_mean'] / df3['LSTAR_mq_reset_mean']))*100\n",
        "df3['CLSTAR_EQ_SYM_progress'] = (1 - (df3['CLSTAR_eq_sym_mean'] / df3['LSTAR_eq_sym_mean']))*100\n",
        "df3['CLSTAR_EQ_RST_progress'] = (1 - (df3['CLSTAR_eq_reset_mean'] / df3['LSTAR_eq_reset_mean']))*100"
      ]
    },
    {
      "cell_type": "code",
      "execution_count": null,
      "metadata": {
        "id": "lxfU3vgRuJdL"
      },
      "outputs": [],
      "source": [
        "# @title Pvalue \n",
        "pvalue_info = {'STATES':[],\n",
        "'CLSTAR_TOTAL_SYM_pvalue':[],\n",
        "'CLSTAR_TOTAL_RST_pvalue':[],\n",
        "              }\n",
        "for index, row in df3.iterrows():\n",
        "  data_range = row['STATES']\n",
        "  filtered_df = df[(df['STATES']<data_range.right) & (df['STATES']>=data_range.left)]\n",
        "  mq_sym_ttest = ttest_rel(filtered_df.loc[:,'CLSTAR_TOTAL_SYM'], filtered_df.loc[:,'LSTAR_TOTAL_SYM'], alternative='less').pvalue\n",
        "  eq_reset_ttest = ttest_rel(filtered_df.loc[:,'CLSTAR_TOTAL_RST'], filtered_df.loc[:,'LSTAR_TOTAL_RST'], alternative='less').pvalue\n",
        "\n",
        "  pvalue_info['STATES'].append(data_range)\n",
        "  pvalue_info['CLSTAR_TOTAL_SYM_pvalue'].append(mq_sym_ttest)\n",
        "  pvalue_info['CLSTAR_TOTAL_RST_pvalue'].append(eq_reset_ttest)\n",
        "\n",
        "pvalue_df = pd.DataFrame(pvalue_info)\n",
        "final_df = pd.merge(df3, pvalue_df,how='right', on='STATES')\n",
        "\n"
      ]
    },
    {
      "cell_type": "code",
      "source": [
        "final_df['CLSTAR_TOTAL_SYM_pvalue']"
      ],
      "metadata": {
        "colab": {
          "base_uri": "https://localhost:8080/"
        },
        "id": "LaNhxK4KGGQw",
        "outputId": "82cc29de-22f5-499b-9a74-6dd4cf8e41e2"
      },
      "execution_count": null,
      "outputs": [
        {
          "output_type": "execute_result",
          "data": {
            "text/plain": [
              "0    0.288210\n",
              "1    0.016979\n",
              "2    0.002906\n",
              "3    0.003283\n",
              "4    0.023974\n",
              "5    0.008143\n",
              "6    0.011124\n",
              "7    0.002087\n",
              "Name: CLSTAR_TOTAL_SYM_pvalue, dtype: float64"
            ]
          },
          "metadata": {},
          "execution_count": 70
        }
      ]
    },
    {
      "cell_type": "code",
      "source": [
        "final_df.columns"
      ],
      "metadata": {
        "colab": {
          "base_uri": "https://localhost:8080/"
        },
        "id": "uDW5NqDDDkQh",
        "outputId": "44a7896c-4fd9-4846-831e-1e13a7a88351"
      },
      "execution_count": null,
      "outputs": [
        {
          "output_type": "execute_result",
          "data": {
            "text/plain": [
              "Index(['STATES', 'inputs', 'LSTAR_total_sym_median', 'LSTAR_total_sym_mean',\n",
              "       'LSTAR_total_sym_std', 'LSTAR_total_reset_median',\n",
              "       'LSTAR_total_reset_mean', 'LSTAR_total_reset_std', 'LSTAR_mq_sym_mean',\n",
              "       'LSTAR_mq_sym_std', 'LSTAR_mq_reset_mean', 'LSTAR_mq_reset_std',\n",
              "       'LSTAR_eq_sym_mean', 'LSTAR_eq_sym_std', 'LSTAR_eq_reset_mean',\n",
              "       'LSTAR_eq_reset_std', 'LSTAR_eqs', 'CLSTAR_total_sym_median',\n",
              "       'CLSTAR_total_sym_mean', 'CLSTAR_total_sym_std',\n",
              "       'CLSTAR_total_reset_median', 'CLSTAR_total_reset_mean',\n",
              "       'CLSTAR_total_reset_std', 'CLSTAR_mq_sym_mean', 'CLSTAR_mq_sym_std',\n",
              "       'CLSTAR_mq_reset_mean', 'CLSTAR_mq_reset_std', 'CLSTAR_eq_sym_mean',\n",
              "       'CLSTAR_eq_sym_std', 'CLSTAR_eq_reset_mean', 'CLSTAR_eq_reset_std',\n",
              "       'CLSTAR_eqs', 'CLSTAR_components', 'CLSTAR_rounds',\n",
              "       'CLSTAR_TOTAL_SYM_progress', 'CLSTAR_TOTAL_RST_progress',\n",
              "       'CLSTAR_MQ_SYM_progress', 'CLSTAR_MQ_RST_progress',\n",
              "       'CLSTAR_EQ_SYM_progress', 'CLSTAR_EQ_RST_progress',\n",
              "       'CLSTAR_TOTAL_SYM_pvalue', 'CLSTAR_TOTAL_RST_pvalue'],\n",
              "      dtype='object')"
            ]
          },
          "metadata": {},
          "execution_count": 71
        }
      ]
    },
    {
      "cell_type": "markdown",
      "source": [
        "## Tables "
      ],
      "metadata": {
        "id": "M2Dwz9LWgVw-"
      }
    },
    {
      "cell_type": "code",
      "source": [],
      "metadata": {
        "id": "3tmWpTGhgUs3"
      },
      "execution_count": null,
      "outputs": []
    },
    {
      "cell_type": "code",
      "source": [
        "# @title Table 1\n",
        "final_df[[\"STATES\", \"LSTAR_total_reset_mean\", \"LSTAR_total_reset_std\", \"CLSTAR_total_reset_mean\", \"CLSTAR_total_reset_std\", \"CLSTAR_TOTAL_RST_progress\" ,\"CLSTAR_TOTAL_RST_pvalue\" ]]"
      ],
      "metadata": {
        "colab": {
          "base_uri": "https://localhost:8080/",
          "height": 344
        },
        "id": "S2hvFZf2Dp3Q",
        "outputId": "6dcca3ac-1c72-4dbd-a4c5-df6ff714a593"
      },
      "execution_count": null,
      "outputs": [
        {
          "output_type": "execute_result",
          "data": {
            "text/plain": [
              "         STATES  LSTAR_total_reset_mean  LSTAR_total_reset_std  \\\n",
              "0    (300, 600]            1.839137e+05           76190.179802   \n",
              "1    (600, 900]            4.158387e+05          119647.867176   \n",
              "2   (900, 1200]            5.780183e+05          138664.228397   \n",
              "3  (1200, 1500]            7.116730e+05          156977.366991   \n",
              "4  (1500, 1800]            9.114340e+05          216329.497779   \n",
              "5  (1800, 2100]            1.082066e+06          220877.009428   \n",
              "6  (2100, 2400]            1.448906e+06          348332.349014   \n",
              "7  (2400, 3840]            1.929013e+06          448011.627599   \n",
              "\n",
              "   CLSTAR_total_reset_mean  CLSTAR_total_reset_std  CLSTAR_TOTAL_RST_progress  \\\n",
              "0             20141.785714            36295.961940                  89.048242   \n",
              "1             59675.444444            68547.172842                  85.649378   \n",
              "2             29732.461538            39938.359701                  94.856138   \n",
              "3             51577.714286            53350.913390                  92.752610   \n",
              "4             52288.200000            79793.931267                  94.263084   \n",
              "5             56324.000000            63868.504660                  94.794772   \n",
              "6             53275.600000            59253.231995                  96.323045   \n",
              "7            132254.769231           223938.501428                  93.143916   \n",
              "\n",
              "   CLSTAR_TOTAL_RST_pvalue  \n",
              "0             1.081857e-13  \n",
              "1             7.012891e-11  \n",
              "2             5.704933e-09  \n",
              "3             8.728401e-06  \n",
              "4             5.030828e-07  \n",
              "5             5.461332e-04  \n",
              "6             3.760497e-04  \n",
              "7             2.062577e-07  "
            ],
            "text/html": [
              "\n",
              "  <div id=\"df-245f6cbf-39ac-4a52-95f3-e0219e4b0a71\">\n",
              "    <div class=\"colab-df-container\">\n",
              "      <div>\n",
              "<style scoped>\n",
              "    .dataframe tbody tr th:only-of-type {\n",
              "        vertical-align: middle;\n",
              "    }\n",
              "\n",
              "    .dataframe tbody tr th {\n",
              "        vertical-align: top;\n",
              "    }\n",
              "\n",
              "    .dataframe thead th {\n",
              "        text-align: right;\n",
              "    }\n",
              "</style>\n",
              "<table border=\"1\" class=\"dataframe\">\n",
              "  <thead>\n",
              "    <tr style=\"text-align: right;\">\n",
              "      <th></th>\n",
              "      <th>STATES</th>\n",
              "      <th>LSTAR_total_reset_mean</th>\n",
              "      <th>LSTAR_total_reset_std</th>\n",
              "      <th>CLSTAR_total_reset_mean</th>\n",
              "      <th>CLSTAR_total_reset_std</th>\n",
              "      <th>CLSTAR_TOTAL_RST_progress</th>\n",
              "      <th>CLSTAR_TOTAL_RST_pvalue</th>\n",
              "    </tr>\n",
              "  </thead>\n",
              "  <tbody>\n",
              "    <tr>\n",
              "      <th>0</th>\n",
              "      <td>(300, 600]</td>\n",
              "      <td>1.839137e+05</td>\n",
              "      <td>76190.179802</td>\n",
              "      <td>20141.785714</td>\n",
              "      <td>36295.961940</td>\n",
              "      <td>89.048242</td>\n",
              "      <td>1.081857e-13</td>\n",
              "    </tr>\n",
              "    <tr>\n",
              "      <th>1</th>\n",
              "      <td>(600, 900]</td>\n",
              "      <td>4.158387e+05</td>\n",
              "      <td>119647.867176</td>\n",
              "      <td>59675.444444</td>\n",
              "      <td>68547.172842</td>\n",
              "      <td>85.649378</td>\n",
              "      <td>7.012891e-11</td>\n",
              "    </tr>\n",
              "    <tr>\n",
              "      <th>2</th>\n",
              "      <td>(900, 1200]</td>\n",
              "      <td>5.780183e+05</td>\n",
              "      <td>138664.228397</td>\n",
              "      <td>29732.461538</td>\n",
              "      <td>39938.359701</td>\n",
              "      <td>94.856138</td>\n",
              "      <td>5.704933e-09</td>\n",
              "    </tr>\n",
              "    <tr>\n",
              "      <th>3</th>\n",
              "      <td>(1200, 1500]</td>\n",
              "      <td>7.116730e+05</td>\n",
              "      <td>156977.366991</td>\n",
              "      <td>51577.714286</td>\n",
              "      <td>53350.913390</td>\n",
              "      <td>92.752610</td>\n",
              "      <td>8.728401e-06</td>\n",
              "    </tr>\n",
              "    <tr>\n",
              "      <th>4</th>\n",
              "      <td>(1500, 1800]</td>\n",
              "      <td>9.114340e+05</td>\n",
              "      <td>216329.497779</td>\n",
              "      <td>52288.200000</td>\n",
              "      <td>79793.931267</td>\n",
              "      <td>94.263084</td>\n",
              "      <td>5.030828e-07</td>\n",
              "    </tr>\n",
              "    <tr>\n",
              "      <th>5</th>\n",
              "      <td>(1800, 2100]</td>\n",
              "      <td>1.082066e+06</td>\n",
              "      <td>220877.009428</td>\n",
              "      <td>56324.000000</td>\n",
              "      <td>63868.504660</td>\n",
              "      <td>94.794772</td>\n",
              "      <td>5.461332e-04</td>\n",
              "    </tr>\n",
              "    <tr>\n",
              "      <th>6</th>\n",
              "      <td>(2100, 2400]</td>\n",
              "      <td>1.448906e+06</td>\n",
              "      <td>348332.349014</td>\n",
              "      <td>53275.600000</td>\n",
              "      <td>59253.231995</td>\n",
              "      <td>96.323045</td>\n",
              "      <td>3.760497e-04</td>\n",
              "    </tr>\n",
              "    <tr>\n",
              "      <th>7</th>\n",
              "      <td>(2400, 3840]</td>\n",
              "      <td>1.929013e+06</td>\n",
              "      <td>448011.627599</td>\n",
              "      <td>132254.769231</td>\n",
              "      <td>223938.501428</td>\n",
              "      <td>93.143916</td>\n",
              "      <td>2.062577e-07</td>\n",
              "    </tr>\n",
              "  </tbody>\n",
              "</table>\n",
              "</div>\n",
              "      <button class=\"colab-df-convert\" onclick=\"convertToInteractive('df-245f6cbf-39ac-4a52-95f3-e0219e4b0a71')\"\n",
              "              title=\"Convert this dataframe to an interactive table.\"\n",
              "              style=\"display:none;\">\n",
              "        \n",
              "  <svg xmlns=\"http://www.w3.org/2000/svg\" height=\"24px\"viewBox=\"0 0 24 24\"\n",
              "       width=\"24px\">\n",
              "    <path d=\"M0 0h24v24H0V0z\" fill=\"none\"/>\n",
              "    <path d=\"M18.56 5.44l.94 2.06.94-2.06 2.06-.94-2.06-.94-.94-2.06-.94 2.06-2.06.94zm-11 1L8.5 8.5l.94-2.06 2.06-.94-2.06-.94L8.5 2.5l-.94 2.06-2.06.94zm10 10l.94 2.06.94-2.06 2.06-.94-2.06-.94-.94-2.06-.94 2.06-2.06.94z\"/><path d=\"M17.41 7.96l-1.37-1.37c-.4-.4-.92-.59-1.43-.59-.52 0-1.04.2-1.43.59L10.3 9.45l-7.72 7.72c-.78.78-.78 2.05 0 2.83L4 21.41c.39.39.9.59 1.41.59.51 0 1.02-.2 1.41-.59l7.78-7.78 2.81-2.81c.8-.78.8-2.07 0-2.86zM5.41 20L4 18.59l7.72-7.72 1.47 1.35L5.41 20z\"/>\n",
              "  </svg>\n",
              "      </button>\n",
              "      \n",
              "  <style>\n",
              "    .colab-df-container {\n",
              "      display:flex;\n",
              "      flex-wrap:wrap;\n",
              "      gap: 12px;\n",
              "    }\n",
              "\n",
              "    .colab-df-convert {\n",
              "      background-color: #E8F0FE;\n",
              "      border: none;\n",
              "      border-radius: 50%;\n",
              "      cursor: pointer;\n",
              "      display: none;\n",
              "      fill: #1967D2;\n",
              "      height: 32px;\n",
              "      padding: 0 0 0 0;\n",
              "      width: 32px;\n",
              "    }\n",
              "\n",
              "    .colab-df-convert:hover {\n",
              "      background-color: #E2EBFA;\n",
              "      box-shadow: 0px 1px 2px rgba(60, 64, 67, 0.3), 0px 1px 3px 1px rgba(60, 64, 67, 0.15);\n",
              "      fill: #174EA6;\n",
              "    }\n",
              "\n",
              "    [theme=dark] .colab-df-convert {\n",
              "      background-color: #3B4455;\n",
              "      fill: #D2E3FC;\n",
              "    }\n",
              "\n",
              "    [theme=dark] .colab-df-convert:hover {\n",
              "      background-color: #434B5C;\n",
              "      box-shadow: 0px 1px 3px 1px rgba(0, 0, 0, 0.15);\n",
              "      filter: drop-shadow(0px 1px 2px rgba(0, 0, 0, 0.3));\n",
              "      fill: #FFFFFF;\n",
              "    }\n",
              "  </style>\n",
              "\n",
              "      <script>\n",
              "        const buttonEl =\n",
              "          document.querySelector('#df-245f6cbf-39ac-4a52-95f3-e0219e4b0a71 button.colab-df-convert');\n",
              "        buttonEl.style.display =\n",
              "          google.colab.kernel.accessAllowed ? 'block' : 'none';\n",
              "\n",
              "        async function convertToInteractive(key) {\n",
              "          const element = document.querySelector('#df-245f6cbf-39ac-4a52-95f3-e0219e4b0a71');\n",
              "          const dataTable =\n",
              "            await google.colab.kernel.invokeFunction('convertToInteractive',\n",
              "                                                     [key], {});\n",
              "          if (!dataTable) return;\n",
              "\n",
              "          const docLinkHtml = 'Like what you see? Visit the ' +\n",
              "            '<a target=\"_blank\" href=https://colab.research.google.com/notebooks/data_table.ipynb>data table notebook</a>'\n",
              "            + ' to learn more about interactive tables.';\n",
              "          element.innerHTML = '';\n",
              "          dataTable['output_type'] = 'display_data';\n",
              "          await google.colab.output.renderOutput(dataTable, element);\n",
              "          const docLink = document.createElement('div');\n",
              "          docLink.innerHTML = docLinkHtml;\n",
              "          element.appendChild(docLink);\n",
              "        }\n",
              "      </script>\n",
              "    </div>\n",
              "  </div>\n",
              "  "
            ]
          },
          "metadata": {},
          "execution_count": 72
        }
      ]
    },
    {
      "cell_type": "code",
      "source": [
        "# @title Table 2\n",
        "final_df[[\"STATES\", \"LSTAR_total_sym_mean\", \"LSTAR_total_sym_std\", \"CLSTAR_total_sym_mean\", \"CLSTAR_total_sym_std\", \"CLSTAR_TOTAL_SYM_progress\" ,\"CLSTAR_TOTAL_SYM_pvalue\" ]]"
      ],
      "metadata": {
        "colab": {
          "base_uri": "https://localhost:8080/",
          "height": 300
        },
        "id": "y30255hDFR7f",
        "outputId": "c3e4d3ce-878b-40aa-86c2-bab5ebffc90c"
      },
      "execution_count": null,
      "outputs": [
        {
          "output_type": "execute_result",
          "data": {
            "text/plain": [
              "         STATES  LSTAR_total_sym_mean  LSTAR_total_sym_std  \\\n",
              "0    (300, 600]          2.214467e+06         3.244202e+06   \n",
              "1    (600, 900]          7.733144e+06         7.399123e+06   \n",
              "2   (900, 1200]          6.721459e+06         5.311124e+06   \n",
              "3  (1200, 1500]          1.001110e+07         7.371663e+06   \n",
              "4  (1500, 1800]          1.053917e+07         8.670238e+06   \n",
              "5  (1800, 2100]          1.287999e+07         4.501575e+06   \n",
              "6  (2100, 2400]          1.890300e+07         1.119019e+07   \n",
              "7  (2400, 3840]          2.547000e+07         1.022910e+07   \n",
              "\n",
              "   CLSTAR_total_sym_mean  CLSTAR_total_sym_std  CLSTAR_TOTAL_SYM_progress  \\\n",
              "0              1096000.5          2.743276e+06                  50.507258   \n",
              "1              1453749.5          5.642525e+06                  81.201056   \n",
              "2              1478916.0          2.925458e+06                  77.997100   \n",
              "3              1337638.0          4.002623e+06                  86.638454   \n",
              "4              1356718.0          5.768175e+06                  87.126898   \n",
              "5              1739824.0          4.528051e+06                  86.492040   \n",
              "6              1652967.0          4.351544e+06                  91.255533   \n",
              "7              8017340.0          1.554950e+07                  68.522413   \n",
              "\n",
              "   CLSTAR_TOTAL_SYM_pvalue  \n",
              "0                 0.288210  \n",
              "1                 0.016979  \n",
              "2                 0.002906  \n",
              "3                 0.003283  \n",
              "4                 0.023974  \n",
              "5                 0.008143  \n",
              "6                 0.011124  \n",
              "7                 0.002087  "
            ],
            "text/html": [
              "\n",
              "  <div id=\"df-c575c157-fabd-4040-b074-b0d479e40511\">\n",
              "    <div class=\"colab-df-container\">\n",
              "      <div>\n",
              "<style scoped>\n",
              "    .dataframe tbody tr th:only-of-type {\n",
              "        vertical-align: middle;\n",
              "    }\n",
              "\n",
              "    .dataframe tbody tr th {\n",
              "        vertical-align: top;\n",
              "    }\n",
              "\n",
              "    .dataframe thead th {\n",
              "        text-align: right;\n",
              "    }\n",
              "</style>\n",
              "<table border=\"1\" class=\"dataframe\">\n",
              "  <thead>\n",
              "    <tr style=\"text-align: right;\">\n",
              "      <th></th>\n",
              "      <th>STATES</th>\n",
              "      <th>LSTAR_total_sym_mean</th>\n",
              "      <th>LSTAR_total_sym_std</th>\n",
              "      <th>CLSTAR_total_sym_mean</th>\n",
              "      <th>CLSTAR_total_sym_std</th>\n",
              "      <th>CLSTAR_TOTAL_SYM_progress</th>\n",
              "      <th>CLSTAR_TOTAL_SYM_pvalue</th>\n",
              "    </tr>\n",
              "  </thead>\n",
              "  <tbody>\n",
              "    <tr>\n",
              "      <th>0</th>\n",
              "      <td>(300, 600]</td>\n",
              "      <td>2.214467e+06</td>\n",
              "      <td>3.244202e+06</td>\n",
              "      <td>1096000.5</td>\n",
              "      <td>2.743276e+06</td>\n",
              "      <td>50.507258</td>\n",
              "      <td>0.288210</td>\n",
              "    </tr>\n",
              "    <tr>\n",
              "      <th>1</th>\n",
              "      <td>(600, 900]</td>\n",
              "      <td>7.733144e+06</td>\n",
              "      <td>7.399123e+06</td>\n",
              "      <td>1453749.5</td>\n",
              "      <td>5.642525e+06</td>\n",
              "      <td>81.201056</td>\n",
              "      <td>0.016979</td>\n",
              "    </tr>\n",
              "    <tr>\n",
              "      <th>2</th>\n",
              "      <td>(900, 1200]</td>\n",
              "      <td>6.721459e+06</td>\n",
              "      <td>5.311124e+06</td>\n",
              "      <td>1478916.0</td>\n",
              "      <td>2.925458e+06</td>\n",
              "      <td>77.997100</td>\n",
              "      <td>0.002906</td>\n",
              "    </tr>\n",
              "    <tr>\n",
              "      <th>3</th>\n",
              "      <td>(1200, 1500]</td>\n",
              "      <td>1.001110e+07</td>\n",
              "      <td>7.371663e+06</td>\n",
              "      <td>1337638.0</td>\n",
              "      <td>4.002623e+06</td>\n",
              "      <td>86.638454</td>\n",
              "      <td>0.003283</td>\n",
              "    </tr>\n",
              "    <tr>\n",
              "      <th>4</th>\n",
              "      <td>(1500, 1800]</td>\n",
              "      <td>1.053917e+07</td>\n",
              "      <td>8.670238e+06</td>\n",
              "      <td>1356718.0</td>\n",
              "      <td>5.768175e+06</td>\n",
              "      <td>87.126898</td>\n",
              "      <td>0.023974</td>\n",
              "    </tr>\n",
              "    <tr>\n",
              "      <th>5</th>\n",
              "      <td>(1800, 2100]</td>\n",
              "      <td>1.287999e+07</td>\n",
              "      <td>4.501575e+06</td>\n",
              "      <td>1739824.0</td>\n",
              "      <td>4.528051e+06</td>\n",
              "      <td>86.492040</td>\n",
              "      <td>0.008143</td>\n",
              "    </tr>\n",
              "    <tr>\n",
              "      <th>6</th>\n",
              "      <td>(2100, 2400]</td>\n",
              "      <td>1.890300e+07</td>\n",
              "      <td>1.119019e+07</td>\n",
              "      <td>1652967.0</td>\n",
              "      <td>4.351544e+06</td>\n",
              "      <td>91.255533</td>\n",
              "      <td>0.011124</td>\n",
              "    </tr>\n",
              "    <tr>\n",
              "      <th>7</th>\n",
              "      <td>(2400, 3840]</td>\n",
              "      <td>2.547000e+07</td>\n",
              "      <td>1.022910e+07</td>\n",
              "      <td>8017340.0</td>\n",
              "      <td>1.554950e+07</td>\n",
              "      <td>68.522413</td>\n",
              "      <td>0.002087</td>\n",
              "    </tr>\n",
              "  </tbody>\n",
              "</table>\n",
              "</div>\n",
              "      <button class=\"colab-df-convert\" onclick=\"convertToInteractive('df-c575c157-fabd-4040-b074-b0d479e40511')\"\n",
              "              title=\"Convert this dataframe to an interactive table.\"\n",
              "              style=\"display:none;\">\n",
              "        \n",
              "  <svg xmlns=\"http://www.w3.org/2000/svg\" height=\"24px\"viewBox=\"0 0 24 24\"\n",
              "       width=\"24px\">\n",
              "    <path d=\"M0 0h24v24H0V0z\" fill=\"none\"/>\n",
              "    <path d=\"M18.56 5.44l.94 2.06.94-2.06 2.06-.94-2.06-.94-.94-2.06-.94 2.06-2.06.94zm-11 1L8.5 8.5l.94-2.06 2.06-.94-2.06-.94L8.5 2.5l-.94 2.06-2.06.94zm10 10l.94 2.06.94-2.06 2.06-.94-2.06-.94-.94-2.06-.94 2.06-2.06.94z\"/><path d=\"M17.41 7.96l-1.37-1.37c-.4-.4-.92-.59-1.43-.59-.52 0-1.04.2-1.43.59L10.3 9.45l-7.72 7.72c-.78.78-.78 2.05 0 2.83L4 21.41c.39.39.9.59 1.41.59.51 0 1.02-.2 1.41-.59l7.78-7.78 2.81-2.81c.8-.78.8-2.07 0-2.86zM5.41 20L4 18.59l7.72-7.72 1.47 1.35L5.41 20z\"/>\n",
              "  </svg>\n",
              "      </button>\n",
              "      \n",
              "  <style>\n",
              "    .colab-df-container {\n",
              "      display:flex;\n",
              "      flex-wrap:wrap;\n",
              "      gap: 12px;\n",
              "    }\n",
              "\n",
              "    .colab-df-convert {\n",
              "      background-color: #E8F0FE;\n",
              "      border: none;\n",
              "      border-radius: 50%;\n",
              "      cursor: pointer;\n",
              "      display: none;\n",
              "      fill: #1967D2;\n",
              "      height: 32px;\n",
              "      padding: 0 0 0 0;\n",
              "      width: 32px;\n",
              "    }\n",
              "\n",
              "    .colab-df-convert:hover {\n",
              "      background-color: #E2EBFA;\n",
              "      box-shadow: 0px 1px 2px rgba(60, 64, 67, 0.3), 0px 1px 3px 1px rgba(60, 64, 67, 0.15);\n",
              "      fill: #174EA6;\n",
              "    }\n",
              "\n",
              "    [theme=dark] .colab-df-convert {\n",
              "      background-color: #3B4455;\n",
              "      fill: #D2E3FC;\n",
              "    }\n",
              "\n",
              "    [theme=dark] .colab-df-convert:hover {\n",
              "      background-color: #434B5C;\n",
              "      box-shadow: 0px 1px 3px 1px rgba(0, 0, 0, 0.15);\n",
              "      filter: drop-shadow(0px 1px 2px rgba(0, 0, 0, 0.3));\n",
              "      fill: #FFFFFF;\n",
              "    }\n",
              "  </style>\n",
              "\n",
              "      <script>\n",
              "        const buttonEl =\n",
              "          document.querySelector('#df-c575c157-fabd-4040-b074-b0d479e40511 button.colab-df-convert');\n",
              "        buttonEl.style.display =\n",
              "          google.colab.kernel.accessAllowed ? 'block' : 'none';\n",
              "\n",
              "        async function convertToInteractive(key) {\n",
              "          const element = document.querySelector('#df-c575c157-fabd-4040-b074-b0d479e40511');\n",
              "          const dataTable =\n",
              "            await google.colab.kernel.invokeFunction('convertToInteractive',\n",
              "                                                     [key], {});\n",
              "          if (!dataTable) return;\n",
              "\n",
              "          const docLinkHtml = 'Like what you see? Visit the ' +\n",
              "            '<a target=\"_blank\" href=https://colab.research.google.com/notebooks/data_table.ipynb>data table notebook</a>'\n",
              "            + ' to learn more about interactive tables.';\n",
              "          element.innerHTML = '';\n",
              "          dataTable['output_type'] = 'display_data';\n",
              "          await google.colab.output.renderOutput(dataTable, element);\n",
              "          const docLink = document.createElement('div');\n",
              "          docLink.innerHTML = docLinkHtml;\n",
              "          element.appendChild(docLink);\n",
              "        }\n",
              "      </script>\n",
              "    </div>\n",
              "  </div>\n",
              "  "
            ]
          },
          "metadata": {},
          "execution_count": 73
        }
      ]
    },
    {
      "cell_type": "code",
      "execution_count": null,
      "metadata": {
        "id": "T_BU62CauJdM"
      },
      "outputs": [],
      "source": [
        "final_df.to_csv(\"Results_summerized.csv\")"
      ]
    },
    {
      "cell_type": "markdown",
      "source": [
        "# Plots"
      ],
      "metadata": {
        "id": "RxAucIl5U88a"
      }
    },
    {
      "cell_type": "code",
      "execution_count": null,
      "metadata": {
        "id": "AO-SzabauJdO"
      },
      "outputs": [],
      "source": [
        "sns.set(rc={'figure.figsize':(15,6)})"
      ]
    },
    {
      "cell_type": "code",
      "execution_count": null,
      "metadata": {
        "colab": {
          "base_uri": "https://localhost:8080/",
          "height": 621
        },
        "id": "OecefKIHuJdO",
        "outputId": "18bf7846-2622-490c-cf60-b717c2baee03"
      },
      "outputs": [
        {
          "output_type": "stream",
          "name": "stderr",
          "text": [
            "<ipython-input-76-2ba850dec2b1>:5: SettingWithCopyWarning: \n",
            "A value is trying to be set on a copy of a slice from a DataFrame.\n",
            "Try using .loc[row_indexer,col_indexer] = value instead\n",
            "\n",
            "See the caveats in the documentation: https://pandas.pydata.org/pandas-docs/stable/user_guide/indexing.html#returning-a-view-versus-a-copy\n",
            "  d2['state_range'] = pd.cut(d2['STATES'], bins= bins)\n",
            "<ipython-input-76-2ba850dec2b1>:20: SettingWithCopyWarning: \n",
            "A value is trying to be set on a copy of a slice from a DataFrame.\n",
            "Try using .loc[row_indexer,col_indexer] = value instead\n",
            "\n",
            "See the caveats in the documentation: https://pandas.pydata.org/pandas-docs/stable/user_guide/indexing.html#returning-a-view-versus-a-copy\n",
            "  d1['state_range'] = pd.cut(d1['STATES'], bins= bins)\n"
          ]
        },
        {
          "output_type": "display_data",
          "data": {
            "text/plain": [
              "<Figure size 1080x432 with 2 Axes>"
            ],
            "image/png": "[encoded data removed]"
          },
          "metadata": {}
        }
      ],
      "source": [
        "#  @title Fig 2. The total number of input symbols and resets in the CL∗ and L∗ methods\n",
        "fig, axs = plt.subplots(ncols=2)\n",
        "\n",
        "d2 = df[['STATES', 'LSTAR_TOTAL_RST', 'CLSTAR_TOTAL_RST']]\n",
        "d2['state_range'] = pd.cut(d2['STATES'], bins= bins)\n",
        "d2 = d2.set_index('state_range')\n",
        "\n",
        "d2[['L*',  'CL*']] = d2[['LSTAR_TOTAL_RST',  'CLSTAR_TOTAL_RST']] \n",
        "\n",
        "d2 = d2[['L*',  'CL*']].stack().reset_index()\n",
        "d2 = d2.rename(columns={\"level_1\": \"method\", 0: \"total number of resets\"})\n",
        "\n",
        "g1 = sns.boxplot(y = d2['state_range'],\n",
        "\t\t\tx = d2['total number of resets'],\n",
        "\t\t\thue = d2['method'],\n",
        "       showcaps=True,orient=\"h\", ax=axs[0]).set_xscale('log')\n",
        "\n",
        "\n",
        "d1 = df[['STATES', 'LSTAR_TOTAL_SYM', 'CLSTAR_TOTAL_SYM']]\n",
        "d1['state_range'] = pd.cut(d1['STATES'], bins= bins)\n",
        "d1 = d1.set_index('state_range')\n",
        "d1[['L*',  'CL*']] = d1[['LSTAR_TOTAL_SYM',  'CLSTAR_TOTAL_SYM']] \n",
        "d1 = d1[['L*',  'CL*']].stack().reset_index()\n",
        "d1 = d1.rename(columns={\"level_1\": \"method\", 0: \"total number of symbols\"})\n",
        "\n",
        "g2 = sns.boxplot(y = d1['state_range'],\n",
        "\t\t\tx = d1['total number of symbols'],\n",
        "\t\t\thue = d1['method'],\n",
        "       showcaps=True,orient=\"h\", ax=axs[1])\n",
        "g2.set_xscale('log')\n",
        "\n",
        "g2.set(yticklabels=[])\n",
        "g2.set(ylabel=None)\n",
        "g2.tick_params(bottom=False) \n",
        "# plt.grid()\n",
        "# plt.show()\n"
      ]
    },
    {
      "cell_type": "code",
      "execution_count": null,
      "metadata": {
        "colab": {
          "base_uri": "https://localhost:8080/",
          "height": 472
        },
        "id": "jJ40oDO04wBX",
        "outputId": "da7d669e-ead9-40ff-b375-b153a35e53aa"
      },
      "outputs": [
        {
          "output_type": "stream",
          "name": "stderr",
          "text": [
            "/usr/local/lib/python3.8/dist-packages/pandas/core/frame.py:3641: SettingWithCopyWarning: \n",
            "A value is trying to be set on a copy of a slice from a DataFrame.\n",
            "Try using .loc[row_indexer,col_indexer] = value instead\n",
            "\n",
            "See the caveats in the documentation: https://pandas.pydata.org/pandas-docs/stable/user_guide/indexing.html#returning-a-view-versus-a-copy\n",
            "  self[k1] = value[k2]\n"
          ]
        },
        {
          "output_type": "display_data",
          "data": {
            "text/plain": [
              "<Figure size 922.975x360 with 2 Axes>"
            ],
            "image/png": "[encoded data removed]"
          },
          "metadata": {}
        }
      ],
      "source": [
        "# @title Fig.3: The effect of FSM size in terms of number of components and states on total number of input symbols.\n",
        "d2 = df[['STATES','CLSTAR_COMPONENTS', 'LSTAR_TOTAL_SYM', 'CLSTAR_TOTAL_SYM']]\n",
        "\n",
        "d2[['L*',  'CL*', '#components', '#states']] = d2[['LSTAR_TOTAL_SYM',  'CLSTAR_TOTAL_SYM', 'CLSTAR_COMPONENTS', 'STATES']] \n",
        "d2 = d2.set_index(['#states','#components'])\n",
        "\n",
        "d2 = d2[['L*',  'CL*']].stack().reset_index()\n",
        "d2 = d2.rename(columns={\"level_2\": \"method\", 0: \"total number of input symbols\"})\n",
        "\n",
        "sns.pairplot(d2, x_vars=[\"#states\", \"#components\"], y_vars=[\"total number of input symbols\"],\n",
        "             hue=\"method\", height=5, aspect=1.2, kind=\"reg\" );\n",
        "plt.yscale('log')\n"
      ]
    },
    {
      "cell_type": "code",
      "execution_count": null,
      "metadata": {
        "colab": {
          "base_uri": "https://localhost:8080/",
          "height": 472
        },
        "id": "j4fbzVuspqdR",
        "outputId": "9a7641c2-e80f-45df-b677-04310f72b2b1"
      },
      "outputs": [
        {
          "output_type": "stream",
          "name": "stderr",
          "text": [
            "/usr/local/lib/python3.8/dist-packages/pandas/core/frame.py:3641: SettingWithCopyWarning: \n",
            "A value is trying to be set on a copy of a slice from a DataFrame.\n",
            "Try using .loc[row_indexer,col_indexer] = value instead\n",
            "\n",
            "See the caveats in the documentation: https://pandas.pydata.org/pandas-docs/stable/user_guide/indexing.html#returning-a-view-versus-a-copy\n",
            "  self[k1] = value[k2]\n"
          ]
        },
        {
          "output_type": "display_data",
          "data": {
            "text/plain": [
              "<Figure size 922.975x360 with 2 Axes>"
            ],
            "image/png": "[encoded data removed]"
          },
          "metadata": {}
        }
      ],
      "source": [
        "# @title Fig.4: The effect of FSM size in terms of number of components and states on total number of input resets.\n",
        "\n",
        "d2 = df[['STATES','CLSTAR_COMPONENTS', 'LSTAR_TOTAL_RST', 'CLSTAR_TOTAL_RST']]\n",
        "\n",
        "d2[['L*',  'CL*', '#components', '#states']] = d2[['LSTAR_TOTAL_RST',  'CLSTAR_TOTAL_RST', 'CLSTAR_COMPONENTS', 'STATES']] \n",
        "d2 = d2.set_index(['#states','#components'])\n",
        "\n",
        "d2 = d2[['L*',  'CL*']].stack().reset_index()\n",
        "d2 = d2.rename(columns={\"level_2\": \"method\", 0: \"total number of resets\"})\n",
        "\n",
        "sns.pairplot(d2, x_vars=[\"#states\", \"#components\"], y_vars=[\"total number of resets\"],\n",
        "             hue=\"method\", height=5, aspect=1.2, kind=\"reg\" );\n",
        "plt.yscale('log')\n"
      ]
    },
    {
      "cell_type": "code",
      "source": [],
      "metadata": {
        "id": "gsYcIkao152k"
      },
      "execution_count": null,
      "outputs": []
    }
  ]
}