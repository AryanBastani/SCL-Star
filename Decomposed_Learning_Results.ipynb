{
  "cells": [
    {
      "cell_type": "markdown",
      "metadata": {
        "id": "HO3vsG-iJS7J"
      },
      "source": [
        "# Decomposed_Learning_Results (CL* Algorithm)\n"
      ]
    },
    {
      "cell_type": "code",
      "execution_count": 52,
      "metadata": {
        "id": "ID8mpaGl1OBO"
      },
      "outputs": [],
      "source": [
        "import pandas as pd\n",
        "import numpy as np\n",
        "import matplotlib.pyplot as plt\n",
        "from scipy.stats import ttest_ind, ttest_rel, ttest_1samp, kstest, shapiro, pearsonr\n",
        "import matplotlib.pyplot as plt\n",
        "import seaborn as sns"
      ]
    },
    {
      "cell_type": "code",
      "execution_count": 53,
      "metadata": {
        "id": "U5zYrqSVgF-J"
      },
      "outputs": [],
      "source": [
        "# don't run this if you use google colab \n",
        "df =  pd.read_csv('data/Results.csv',index_col=False)"
      ]
    },
    {
      "cell_type": "markdown",
      "metadata": {
        "id": "W2xprhe1tdH4"
      },
      "source": [
        "## Clean data"
      ]
    },
    {
      "cell_type": "code",
      "execution_count": 54,
      "metadata": {
        "id": "j1XvSLn4tdH5"
      },
      "outputs": [],
      "source": [
        "def round_data(data):\n",
        "  return round(data, 3)"
      ]
    },
    {
      "cell_type": "code",
      "execution_count": 55,
      "metadata": {
        "id": "i0nfyfH8YvwI"
      },
      "outputs": [],
      "source": [
        "df = df[(df[\"STATES\"]<=3840) & (df[\"STATES\"]>300) ]"
      ]
    },
    {
      "cell_type": "code",
      "execution_count": 56,
      "metadata": {
        "id": "hlwW2zNvtdH7"
      },
      "outputs": [],
      "source": [
        "df = df.dropna(axis=1, how='all')\n",
        "df = df.dropna()"
      ]
    },
    {
      "cell_type": "code",
      "execution_count": 57,
      "metadata": {
        "id": "QKY1FHItuvKw"
      },
      "outputs": [],
      "source": [
        "# Calculate mean without outliers\n",
        "from scipy import stats\n",
        "def trimmed_mean(x):\n",
        "  z = stats.zscore(x)\n",
        "  d_z = x.loc[z<3,]\n",
        "  return d_z.mean()"
      ]
    },
    {
      "cell_type": "markdown",
      "metadata": {
        "id": "tNsHq75RuJdH"
      },
      "source": [
        "## Statistical Analysis"
      ]
    },
    {
      "cell_type": "code",
      "execution_count": 58,
      "metadata": {
        "cellView": "form",
        "id": "uWkmVb6WuJdJ"
      },
      "outputs": [],
      "source": [
        "# @title Bins\n",
        "bins = [300,600,900,1200,1500,1800,2100,2400, 3840]\n",
        "labels = []"
      ]
    },
    {
      "cell_type": "markdown",
      "metadata": {
        "id": "Mj4mmYMl-YvV"
      },
      "source": [
        "We cluster the benchmark into eight categories based on the FSM’s number of states to summerize the results and illusterate them."
      ]
    },
    {
      "cell_type": "code",
      "execution_count": 59,
      "metadata": {
        "colab": {
          "base_uri": "https://localhost:8080/"
        },
        "id": "8CO4kfjiMU3R",
        "outputId": "eac012f0-61c9-4f03-80e3-4f34ad6aae67"
      },
      "outputs": [
        {
          "name": "stdout",
          "output_type": "stream",
          "text": [
            "Count:   1\n",
            "Min:     1152\n",
            "Max:     1152\n",
            "mean:    1152.0\n",
            "std:     nan\n"
          ]
        },
        {
          "name": "stderr",
          "output_type": "stream",
          "text": [
            "C:\\Users\\Aryan\\AppData\\Local\\Temp\\ipykernel_19452\\2303827582.py:3: FutureWarning: The provided callable <built-in function min> is currently using DataFrameGroupBy.min. In a future version of pandas, the provided callable will be used directly. To keep current behavior pass the string \"min\" instead.\n",
            "  print(\"Min:    \",df.groupby('FILE_NAME').agg(min)['STATES'].min())\n",
            "C:\\Users\\Aryan\\AppData\\Local\\Temp\\ipykernel_19452\\2303827582.py:4: FutureWarning: The provided callable <built-in function min> is currently using DataFrameGroupBy.min. In a future version of pandas, the provided callable will be used directly. To keep current behavior pass the string \"min\" instead.\n",
            "  print(\"Max:    \",df.groupby('FILE_NAME').agg(min)['STATES'].max())\n",
            "C:\\Users\\Aryan\\AppData\\Local\\Temp\\ipykernel_19452\\2303827582.py:6: FutureWarning: The provided callable <built-in function min> is currently using DataFrameGroupBy.min. In a future version of pandas, the provided callable will be used directly. To keep current behavior pass the string \"min\" instead.\n",
            "  print(\"mean:   \", df.groupby('FILE_NAME').agg(min)['STATES'].mean())\n",
            "C:\\Users\\Aryan\\AppData\\Local\\Temp\\ipykernel_19452\\2303827582.py:8: FutureWarning: The provided callable <built-in function min> is currently using DataFrameGroupBy.min. In a future version of pandas, the provided callable will be used directly. To keep current behavior pass the string \"min\" instead.\n",
            "  print(\"std:    \", df.groupby('FILE_NAME').agg(min)['STATES'].std())\n"
          ]
        }
      ],
      "source": [
        "# Data Distribution\n",
        "print(\"Count:  \",df['FILE_NAME'].unique().size)\n",
        "print(\"Min:    \",df.groupby('FILE_NAME').agg(min)['STATES'].min())\n",
        "print(\"Max:    \",df.groupby('FILE_NAME').agg(min)['STATES'].max())\n",
        "\n",
        "print(\"mean:   \", df.groupby('FILE_NAME').agg(min)['STATES'].mean())\n",
        "\n",
        "print(\"std:    \", df.groupby('FILE_NAME').agg(min)['STATES'].std())"
      ]
    },
    {
      "cell_type": "code",
      "execution_count": 60,
      "metadata": {
        "id": "CvE_-0qeuJdI"
      },
      "outputs": [],
      "source": [
        "# calculate the progress \n",
        "\n",
        "df['CLSTAR_TOTAL_RST_progress'] = (1 - (df['CLSTAR_TOTAL_RST'] / df['CLSTAR_TOTAL_RST']))*100\n",
        "df['CLSTAR_TOTAL_SYM_progress'] = (1 - (df['CLSTAR_TOTAL_SYM'] / df['CLSTAR_TOTAL_SYM']))*100\n",
        "\n",
        "df['CLSTAR_MQ_SYM_progress'] = (1 - (df['CLSTAR_MQ_SYM'] / df['CLSTAR_MQ_SYM']))*100\n",
        "df['CLSTAR_MQ_RST_progress'] = (1 - (df['CLSTAR_MQ_RST'] / df['CLSTAR_MQ_RST']))*100\n",
        "df['CLSTAR_EQ_SYM_progress'] = (1 - (df['CLSTAR_EQ_SYM'] / df['CLSTAR_EQ_SYM']))*100\n",
        "df['CLSTAR_EQ_RST_progress'] = (1 - (df['CLSTAR_EQ_RST'] / df['CLSTAR_EQ_RST']))*100\n"
      ]
    },
    {
      "cell_type": "code",
      "execution_count": 61,
      "metadata": {
        "colab": {
          "base_uri": "https://localhost:8080/"
        },
        "id": "E2d94V5yG1St",
        "outputId": "16d10841-8893-46f3-85c2-017cabb8ffc5"
      },
      "outputs": [
        {
          "name": "stdout",
          "output_type": "stream",
          "text": [
            "300 - 600\n",
            "KstestResult(statistic=1.0, pvalue=0.0, statistic_location=1152, statistic_sign=-1)\n",
            "KstestResult(statistic=1.0, pvalue=0.0, statistic_location=34453, statistic_sign=-1)\n",
            "KstestResult(statistic=1.0, pvalue=0.0, statistic_location=34453, statistic_sign=-1)\n",
            "KstestResult(statistic=1.0, pvalue=0.0, statistic_location=5060996, statistic_sign=-1)\n",
            "KstestResult(statistic=1.0, pvalue=0.0, statistic_location=5060996, statistic_sign=-1)\n",
            "ShapiroResult(statistic=1.0, pvalue=1.0)\n",
            "ShapiroResult(statistic=0.9204906048012492, pvalue=0.5089014780083871)\n",
            "ShapiroResult(statistic=0.9204906048012492, pvalue=0.5089014780083871)\n",
            "ShapiroResult(statistic=0.9210858425574077, pvalue=0.5132157728683764)\n",
            "ShapiroResult(statistic=0.9210858425574077, pvalue=0.5132157728683764)\n",
            "600 - 900\n",
            "KstestResult(statistic=1.0, pvalue=0.0, statistic_location=1152, statistic_sign=-1)\n",
            "KstestResult(statistic=1.0, pvalue=0.0, statistic_location=34453, statistic_sign=-1)\n",
            "KstestResult(statistic=1.0, pvalue=0.0, statistic_location=34453, statistic_sign=-1)\n",
            "KstestResult(statistic=1.0, pvalue=0.0, statistic_location=5060996, statistic_sign=-1)\n",
            "KstestResult(statistic=1.0, pvalue=0.0, statistic_location=5060996, statistic_sign=-1)\n",
            "ShapiroResult(statistic=1.0, pvalue=1.0)\n",
            "ShapiroResult(statistic=0.9204906048012492, pvalue=0.5089014780083871)\n",
            "ShapiroResult(statistic=0.9204906048012492, pvalue=0.5089014780083871)\n",
            "ShapiroResult(statistic=0.9210858425574077, pvalue=0.5132157728683764)\n",
            "ShapiroResult(statistic=0.9210858425574077, pvalue=0.5132157728683764)\n",
            "900 - 1200\n",
            "KstestResult(statistic=1.0, pvalue=0.0, statistic_location=1152, statistic_sign=-1)\n",
            "KstestResult(statistic=1.0, pvalue=0.0, statistic_location=34453, statistic_sign=-1)\n",
            "KstestResult(statistic=1.0, pvalue=0.0, statistic_location=34453, statistic_sign=-1)\n",
            "KstestResult(statistic=1.0, pvalue=0.0, statistic_location=5060996, statistic_sign=-1)\n",
            "KstestResult(statistic=1.0, pvalue=0.0, statistic_location=5060996, statistic_sign=-1)\n",
            "ShapiroResult(statistic=1.0, pvalue=1.0)\n",
            "ShapiroResult(statistic=0.9204906048012492, pvalue=0.5089014780083871)\n",
            "ShapiroResult(statistic=0.9204906048012492, pvalue=0.5089014780083871)\n",
            "ShapiroResult(statistic=0.9210858425574077, pvalue=0.5132157728683764)\n",
            "ShapiroResult(statistic=0.9210858425574077, pvalue=0.5132157728683764)\n",
            "1200 - 1500\n",
            "KstestResult(statistic=1.0, pvalue=0.0, statistic_location=1152, statistic_sign=-1)\n",
            "KstestResult(statistic=1.0, pvalue=0.0, statistic_location=34453, statistic_sign=-1)\n",
            "KstestResult(statistic=1.0, pvalue=0.0, statistic_location=34453, statistic_sign=-1)\n",
            "KstestResult(statistic=1.0, pvalue=0.0, statistic_location=5060996, statistic_sign=-1)\n",
            "KstestResult(statistic=1.0, pvalue=0.0, statistic_location=5060996, statistic_sign=-1)\n",
            "ShapiroResult(statistic=1.0, pvalue=1.0)\n",
            "ShapiroResult(statistic=0.9204906048012492, pvalue=0.5089014780083871)\n",
            "ShapiroResult(statistic=0.9204906048012492, pvalue=0.5089014780083871)\n",
            "ShapiroResult(statistic=0.9210858425574077, pvalue=0.5132157728683764)\n",
            "ShapiroResult(statistic=0.9210858425574077, pvalue=0.5132157728683764)\n",
            "1500 - 1800\n",
            "KstestResult(statistic=1.0, pvalue=0.0, statistic_location=1152, statistic_sign=-1)\n",
            "KstestResult(statistic=1.0, pvalue=0.0, statistic_location=34453, statistic_sign=-1)\n",
            "KstestResult(statistic=1.0, pvalue=0.0, statistic_location=34453, statistic_sign=-1)\n",
            "KstestResult(statistic=1.0, pvalue=0.0, statistic_location=5060996, statistic_sign=-1)\n",
            "KstestResult(statistic=1.0, pvalue=0.0, statistic_location=5060996, statistic_sign=-1)\n",
            "ShapiroResult(statistic=1.0, pvalue=1.0)\n",
            "ShapiroResult(statistic=0.9204906048012492, pvalue=0.5089014780083871)\n",
            "ShapiroResult(statistic=0.9204906048012492, pvalue=0.5089014780083871)\n",
            "ShapiroResult(statistic=0.9210858425574077, pvalue=0.5132157728683764)\n",
            "ShapiroResult(statistic=0.9210858425574077, pvalue=0.5132157728683764)\n",
            "1800 - 2100\n",
            "KstestResult(statistic=1.0, pvalue=0.0, statistic_location=1152, statistic_sign=-1)\n",
            "KstestResult(statistic=1.0, pvalue=0.0, statistic_location=34453, statistic_sign=-1)\n",
            "KstestResult(statistic=1.0, pvalue=0.0, statistic_location=34453, statistic_sign=-1)\n",
            "KstestResult(statistic=1.0, pvalue=0.0, statistic_location=5060996, statistic_sign=-1)\n",
            "KstestResult(statistic=1.0, pvalue=0.0, statistic_location=5060996, statistic_sign=-1)\n",
            "ShapiroResult(statistic=1.0, pvalue=1.0)\n",
            "ShapiroResult(statistic=0.9204906048012492, pvalue=0.5089014780083871)\n",
            "ShapiroResult(statistic=0.9204906048012492, pvalue=0.5089014780083871)\n",
            "ShapiroResult(statistic=0.9210858425574077, pvalue=0.5132157728683764)\n",
            "ShapiroResult(statistic=0.9210858425574077, pvalue=0.5132157728683764)\n",
            "2100 - 2400\n",
            "KstestResult(statistic=1.0, pvalue=0.0, statistic_location=1152, statistic_sign=-1)\n",
            "KstestResult(statistic=1.0, pvalue=0.0, statistic_location=34453, statistic_sign=-1)\n",
            "KstestResult(statistic=1.0, pvalue=0.0, statistic_location=34453, statistic_sign=-1)\n",
            "KstestResult(statistic=1.0, pvalue=0.0, statistic_location=5060996, statistic_sign=-1)\n",
            "KstestResult(statistic=1.0, pvalue=0.0, statistic_location=5060996, statistic_sign=-1)\n",
            "ShapiroResult(statistic=1.0, pvalue=1.0)\n",
            "ShapiroResult(statistic=0.9204906048012492, pvalue=0.5089014780083871)\n",
            "ShapiroResult(statistic=0.9204906048012492, pvalue=0.5089014780083871)\n",
            "ShapiroResult(statistic=0.9210858425574077, pvalue=0.5132157728683764)\n",
            "ShapiroResult(statistic=0.9210858425574077, pvalue=0.5132157728683764)\n",
            "2400 - 3840\n",
            "KstestResult(statistic=1.0, pvalue=0.0, statistic_location=1152, statistic_sign=-1)\n",
            "KstestResult(statistic=1.0, pvalue=0.0, statistic_location=34453, statistic_sign=-1)\n",
            "KstestResult(statistic=1.0, pvalue=0.0, statistic_location=34453, statistic_sign=-1)\n",
            "KstestResult(statistic=1.0, pvalue=0.0, statistic_location=5060996, statistic_sign=-1)\n",
            "KstestResult(statistic=1.0, pvalue=0.0, statistic_location=5060996, statistic_sign=-1)\n",
            "ShapiroResult(statistic=1.0, pvalue=1.0)\n",
            "ShapiroResult(statistic=0.9204906048012492, pvalue=0.5089014780083871)\n",
            "ShapiroResult(statistic=0.9204906048012492, pvalue=0.5089014780083871)\n",
            "ShapiroResult(statistic=0.9210858425574077, pvalue=0.5132157728683764)\n",
            "ShapiroResult(statistic=0.9210858425574077, pvalue=0.5132157728683764)\n"
          ]
        },
        {
          "name": "stderr",
          "output_type": "stream",
          "text": [
            "C:\\Users\\Aryan\\AppData\\Local\\Packages\\PythonSoftwareFoundation.Python.3.12_qbz5n2kfra8p0\\LocalCache\\local-packages\\Python312\\site-packages\\scipy\\stats\\_axis_nan_policy.py:531: UserWarning: scipy.stats.shapiro: Input data has range zero. The results may not be accurate.\n",
            "  res = hypotest_fun_out(*samples, **kwds)\n"
          ]
        }
      ],
      "source": [
        "# @title Check for normal\n",
        "for i in range(0, len(bins)-1):\n",
        "    data = df[df['STATES']>bins[i] & (df['STATES']<=bins[i+1])]\n",
        "    states_count = data.loc[:,'STATES']\n",
        "    input_count = data.loc[:,'INPUTS']\n",
        "    # print(len(data))\n",
        "    lstar_resets_count = data.loc[:,  'CLSTAR_TOTAL_RST']\n",
        "    CLSTAR_resets_count = data.loc[:, 'CLSTAR_TOTAL_RST']\n",
        "    lstar_symbols_count = data.loc[:, 'CLSTAR_TOTAL_SYM']\n",
        "    CLSTAR_symbols_count = data.loc[:,'CLSTAR_TOTAL_SYM']\n",
        "    print(bins[i],  '-', bins[i+1])\n",
        "    print(kstest(states_count,'norm'))\n",
        "    print(kstest(lstar_resets_count,'norm'))\n",
        "    print(kstest(CLSTAR_resets_count,'norm'))\n",
        "    print(kstest(lstar_symbols_count,'norm'))\n",
        "    print(kstest(CLSTAR_symbols_count,'norm'))\n",
        "\n",
        "    print(shapiro(states_count))\n",
        "    print(shapiro(lstar_resets_count))\n",
        "    print(shapiro(CLSTAR_resets_count))\n",
        "    print(shapiro(lstar_symbols_count))\n",
        "    print(shapiro(CLSTAR_symbols_count))\n",
        "\n",
        "\n"
      ]
    },
    {
      "cell_type": "code",
      "execution_count": 62,
      "metadata": {
        "id": "w7n0ExAnuJdJ"
      },
      "outputs": [
        {
          "name": "stderr",
          "output_type": "stream",
          "text": [
            "C:\\Users\\Aryan\\AppData\\Local\\Temp\\ipykernel_19452\\2040017366.py:3: FutureWarning: The default of observed=False is deprecated and will be changed to True in a future version of pandas. Pass observed=False to retain current behavior or observed=True to adopt the future default and silence this warning.\n",
            "  grouped = df.groupby(pd.cut(df[\"STATES\"],bins))\n"
          ]
        }
      ],
      "source": [
        "# @title Cluster Items\n",
        "\n",
        "grouped = df.groupby(pd.cut(df[\"STATES\"],bins))\n",
        "df3 = grouped.agg(\n",
        "    # states = pd.NamedAgg(column='STATES', aggfunc=\"min\"),\n",
        "    inputs=pd.NamedAgg(column=\"INPUTS\", aggfunc='median'),\n",
        "\n",
        "    LSTAR_total_sym_median=pd.NamedAgg(column='LSTAR_TOTAL_SYM', aggfunc='median'),\n",
        "    LSTAR_total_sym_mean=pd.NamedAgg(column='LSTAR_TOTAL_SYM', aggfunc='mean'),\n",
        "    LSTAR_total_sym_std=pd.NamedAgg(column='LSTAR_TOTAL_SYM', aggfunc=\"std\"),\n",
        "    LSTAR_total_reset_median=pd.NamedAgg(column='LSTAR_TOTAL_RST', aggfunc='median'),\n",
        "    LSTAR_total_reset_mean=pd.NamedAgg(column='LSTAR_TOTAL_RST', aggfunc='mean'),\n",
        "    LSTAR_total_reset_std=pd.NamedAgg(column='LSTAR_TOTAL_RST', aggfunc=\"std\"),\n",
        "    LSTAR_mq_sym_mean=pd.NamedAgg(column='LSTAR_MQ_SYM', aggfunc='median'),\n",
        "    LSTAR_mq_sym_std=pd.NamedAgg(column='LSTAR_MQ_SYM', aggfunc=\"std\"),\n",
        "    LSTAR_mq_reset_mean=pd.NamedAgg(column='LSTAR_MQ_RST', aggfunc='median'),\n",
        "    LSTAR_mq_reset_std=pd.NamedAgg(column='LSTAR_MQ_RST', aggfunc=\"std\"),\n",
        "    LSTAR_eq_sym_mean=pd.NamedAgg(column='LSTAR_EQ_SYM', aggfunc='median'),\n",
        "    LSTAR_eq_sym_std=pd.NamedAgg(column='LSTAR_EQ_SYM', aggfunc=\"std\"),\n",
        "    LSTAR_eq_reset_mean=pd.NamedAgg(column='LSTAR_EQ_RST', aggfunc='median'),\n",
        "    LSTAR_eq_reset_std=pd.NamedAgg(column='LSTAR_EQ_RST', aggfunc=\"std\"),\n",
        "    LSTAR_eqs=pd.NamedAgg(column='LSTAR_EQs', aggfunc='median'),\n",
        "\n",
        "    CLSTAR_total_sym_median=pd.NamedAgg(column='CLSTAR_TOTAL_SYM', aggfunc='mean'),\n",
        "    CLSTAR_total_sym_mean=pd.NamedAgg(column='CLSTAR_TOTAL_SYM', aggfunc='median'),\n",
        "    CLSTAR_total_sym_std=pd.NamedAgg(column='CLSTAR_TOTAL_SYM', aggfunc=\"std\"),\n",
        "    CLSTAR_total_reset_median=pd.NamedAgg(column='CLSTAR_TOTAL_RST', aggfunc='median'),\n",
        "    CLSTAR_total_reset_mean=pd.NamedAgg(column='CLSTAR_TOTAL_RST', aggfunc='mean'),\n",
        "    CLSTAR_total_reset_std=pd.NamedAgg(column='CLSTAR_TOTAL_RST', aggfunc=\"std\"),\n",
        "    CLSTAR_mq_sym_mean=pd.NamedAgg(column='CLSTAR_MQ_SYM', aggfunc='median'),\n",
        "    CLSTAR_mq_sym_std=pd.NamedAgg(column='CLSTAR_MQ_SYM', aggfunc=\"std\"),\n",
        "    CLSTAR_mq_reset_mean=pd.NamedAgg(column='CLSTAR_MQ_RST', aggfunc='median'),\n",
        "    CLSTAR_mq_reset_std=pd.NamedAgg(column='CLSTAR_MQ_RST', aggfunc=\"std\"),\n",
        "    CLSTAR_eq_sym_mean=pd.NamedAgg(column='CLSTAR_EQ_SYM', aggfunc='median'),\n",
        "    CLSTAR_eq_sym_std=pd.NamedAgg(column='CLSTAR_EQ_SYM', aggfunc=\"std\"),\n",
        "    CLSTAR_eq_reset_mean=pd.NamedAgg(column='CLSTAR_EQ_RST', aggfunc='median'),\n",
        "    CLSTAR_eq_reset_std=pd.NamedAgg(column='CLSTAR_EQ_RST', aggfunc=\"std\"),\n",
        "    CLSTAR_eqs=pd.NamedAgg(column='CLSTAR_EQs', aggfunc='median'),\n",
        "    CLSTAR_components=pd.NamedAgg(column='CLSTAR_COMPONENTS', aggfunc='median'),\n",
        "    CLSTAR_rounds=pd.NamedAgg(column='CLSTAR_ROUNDS', aggfunc='median'),\n",
        "\n",
        ").reset_index()\n"
      ]
    },
    {
      "cell_type": "code",
      "execution_count": 63,
      "metadata": {
        "id": "fC8Ltq73uJdL"
      },
      "outputs": [],
      "source": [
        "# Progress\n",
        "df3['CLSTAR_TOTAL_SYM_progress'] = (1 - (df3['CLSTAR_total_sym_mean'] / df3['LSTAR_total_sym_mean']))*100\n",
        "df3['CLSTAR_TOTAL_RST_progress'] = (1 - (df3['CLSTAR_total_reset_mean'] / df3['LSTAR_total_reset_mean']))*100\n",
        "df3['CLSTAR_MQ_SYM_progress'] = (1 - (df3['CLSTAR_mq_sym_mean'] / df3['LSTAR_mq_sym_mean']))*100\n",
        "df3['CLSTAR_MQ_RST_progress'] = (1 - (df3['CLSTAR_mq_reset_mean'] / df3['LSTAR_mq_reset_mean']))*100\n",
        "df3['CLSTAR_EQ_SYM_progress'] = (1 - (df3['CLSTAR_eq_sym_mean'] / df3['LSTAR_eq_sym_mean']))*100\n",
        "df3['CLSTAR_EQ_RST_progress'] = (1 - (df3['CLSTAR_eq_reset_mean'] / df3['LSTAR_eq_reset_mean']))*100"
      ]
    },
    {
      "cell_type": "code",
      "execution_count": 64,
      "metadata": {
        "id": "lxfU3vgRuJdL"
      },
      "outputs": [],
      "source": [
        "# @title Pvalue \n",
        "pvalue_info = {'STATES':[],\n",
        "'CLSTAR_TOTAL_SYM_pvalue':[],\n",
        "'CLSTAR_TOTAL_RST_pvalue':[],\n",
        "              }\n",
        "for index, row in df3.iterrows():\n",
        "  data_range = row['STATES']\n",
        "  filtered_df = df[(df['STATES']<data_range.right) & (df['STATES']>=data_range.left)]\n",
        "  mq_sym_ttest = ttest_rel(filtered_df.loc[:,'CLSTAR_TOTAL_SYM'], filtered_df.loc[:,'LSTAR_TOTAL_SYM'], alternative='less').pvalue\n",
        "  eq_reset_ttest = ttest_rel(filtered_df.loc[:,'CLSTAR_TOTAL_RST'], filtered_df.loc[:,'LSTAR_TOTAL_RST'], alternative='less').pvalue\n",
        "\n",
        "  pvalue_info['STATES'].append(data_range)\n",
        "  pvalue_info['CLSTAR_TOTAL_SYM_pvalue'].append(mq_sym_ttest)\n",
        "  pvalue_info['CLSTAR_TOTAL_RST_pvalue'].append(eq_reset_ttest)\n",
        "\n",
        "pvalue_df = pd.DataFrame(pvalue_info)\n",
        "final_df = pd.merge(df3, pvalue_df,how='right', on='STATES')\n",
        "\n"
      ]
    },
    {
      "cell_type": "code",
      "execution_count": 65,
      "metadata": {
        "colab": {
          "base_uri": "https://localhost:8080/"
        },
        "id": "LaNhxK4KGGQw",
        "outputId": "82cc29de-22f5-499b-9a74-6dd4cf8e41e2"
      },
      "outputs": [
        {
          "data": {
            "text/plain": [
              "0         NaN\n",
              "1         NaN\n",
              "2    0.999767\n",
              "3         NaN\n",
              "4         NaN\n",
              "5         NaN\n",
              "6         NaN\n",
              "7         NaN\n",
              "Name: CLSTAR_TOTAL_SYM_pvalue, dtype: float64"
            ]
          },
          "execution_count": 65,
          "metadata": {},
          "output_type": "execute_result"
        }
      ],
      "source": [
        "final_df['CLSTAR_TOTAL_SYM_pvalue']"
      ]
    },
    {
      "cell_type": "code",
      "execution_count": 66,
      "metadata": {
        "colab": {
          "base_uri": "https://localhost:8080/"
        },
        "id": "uDW5NqDDDkQh",
        "outputId": "44a7896c-4fd9-4846-831e-1e13a7a88351"
      },
      "outputs": [
        {
          "data": {
            "text/plain": [
              "Index(['STATES', 'inputs', 'LSTAR_total_sym_median', 'LSTAR_total_sym_mean',\n",
              "       'LSTAR_total_sym_std', 'LSTAR_total_reset_median',\n",
              "       'LSTAR_total_reset_mean', 'LSTAR_total_reset_std', 'LSTAR_mq_sym_mean',\n",
              "       'LSTAR_mq_sym_std', 'LSTAR_mq_reset_mean', 'LSTAR_mq_reset_std',\n",
              "       'LSTAR_eq_sym_mean', 'LSTAR_eq_sym_std', 'LSTAR_eq_reset_mean',\n",
              "       'LSTAR_eq_reset_std', 'LSTAR_eqs', 'CLSTAR_total_sym_median',\n",
              "       'CLSTAR_total_sym_mean', 'CLSTAR_total_sym_std',\n",
              "       'CLSTAR_total_reset_median', 'CLSTAR_total_reset_mean',\n",
              "       'CLSTAR_total_reset_std', 'CLSTAR_mq_sym_mean', 'CLSTAR_mq_sym_std',\n",
              "       'CLSTAR_mq_reset_mean', 'CLSTAR_mq_reset_std', 'CLSTAR_eq_sym_mean',\n",
              "       'CLSTAR_eq_sym_std', 'CLSTAR_eq_reset_mean', 'CLSTAR_eq_reset_std',\n",
              "       'CLSTAR_eqs', 'CLSTAR_components', 'CLSTAR_rounds',\n",
              "       'CLSTAR_TOTAL_SYM_progress', 'CLSTAR_TOTAL_RST_progress',\n",
              "       'CLSTAR_MQ_SYM_progress', 'CLSTAR_MQ_RST_progress',\n",
              "       'CLSTAR_EQ_SYM_progress', 'CLSTAR_EQ_RST_progress',\n",
              "       'CLSTAR_TOTAL_SYM_pvalue', 'CLSTAR_TOTAL_RST_pvalue'],\n",
              "      dtype='object')"
            ]
          },
          "execution_count": 66,
          "metadata": {},
          "output_type": "execute_result"
        }
      ],
      "source": [
        "final_df.columns"
      ]
    },
    {
      "cell_type": "markdown",
      "metadata": {
        "id": "M2Dwz9LWgVw-"
      },
      "source": [
        "## Tables "
      ]
    },
    {
      "cell_type": "code",
      "execution_count": null,
      "metadata": {
        "id": "3tmWpTGhgUs3"
      },
      "outputs": [],
      "source": []
    },
    {
      "cell_type": "code",
      "execution_count": 67,
      "metadata": {
        "colab": {
          "base_uri": "https://localhost:8080/",
          "height": 344
        },
        "id": "S2hvFZf2Dp3Q",
        "outputId": "6dcca3ac-1c72-4dbd-a4c5-df6ff714a593"
      },
      "outputs": [
        {
          "data": {
            "text/html": [
              "<div>\n",
              "<style scoped>\n",
              "    .dataframe tbody tr th:only-of-type {\n",
              "        vertical-align: middle;\n",
              "    }\n",
              "\n",
              "    .dataframe tbody tr th {\n",
              "        vertical-align: top;\n",
              "    }\n",
              "\n",
              "    .dataframe thead th {\n",
              "        text-align: right;\n",
              "    }\n",
              "</style>\n",
              "<table border=\"1\" class=\"dataframe\">\n",
              "  <thead>\n",
              "    <tr style=\"text-align: right;\">\n",
              "      <th></th>\n",
              "      <th>STATES</th>\n",
              "      <th>LSTAR_total_reset_mean</th>\n",
              "      <th>LSTAR_total_reset_std</th>\n",
              "      <th>CLSTAR_total_reset_mean</th>\n",
              "      <th>CLSTAR_total_reset_std</th>\n",
              "      <th>CLSTAR_TOTAL_RST_progress</th>\n",
              "      <th>CLSTAR_TOTAL_RST_pvalue</th>\n",
              "    </tr>\n",
              "  </thead>\n",
              "  <tbody>\n",
              "    <tr>\n",
              "      <th>0</th>\n",
              "      <td>(300, 600]</td>\n",
              "      <td>NaN</td>\n",
              "      <td>NaN</td>\n",
              "      <td>NaN</td>\n",
              "      <td>NaN</td>\n",
              "      <td>NaN</td>\n",
              "      <td>NaN</td>\n",
              "    </tr>\n",
              "    <tr>\n",
              "      <th>1</th>\n",
              "      <td>(600, 900]</td>\n",
              "      <td>NaN</td>\n",
              "      <td>NaN</td>\n",
              "      <td>NaN</td>\n",
              "      <td>NaN</td>\n",
              "      <td>NaN</td>\n",
              "      <td>NaN</td>\n",
              "    </tr>\n",
              "    <tr>\n",
              "      <th>2</th>\n",
              "      <td>(900, 1200]</td>\n",
              "      <td>609931.0</td>\n",
              "      <td>0.0</td>\n",
              "      <td>40280.0</td>\n",
              "      <td>3435.998778</td>\n",
              "      <td>93.395974</td>\n",
              "      <td>8.591880e-13</td>\n",
              "    </tr>\n",
              "    <tr>\n",
              "      <th>3</th>\n",
              "      <td>(1200, 1500]</td>\n",
              "      <td>NaN</td>\n",
              "      <td>NaN</td>\n",
              "      <td>NaN</td>\n",
              "      <td>NaN</td>\n",
              "      <td>NaN</td>\n",
              "      <td>NaN</td>\n",
              "    </tr>\n",
              "    <tr>\n",
              "      <th>4</th>\n",
              "      <td>(1500, 1800]</td>\n",
              "      <td>NaN</td>\n",
              "      <td>NaN</td>\n",
              "      <td>NaN</td>\n",
              "      <td>NaN</td>\n",
              "      <td>NaN</td>\n",
              "      <td>NaN</td>\n",
              "    </tr>\n",
              "    <tr>\n",
              "      <th>5</th>\n",
              "      <td>(1800, 2100]</td>\n",
              "      <td>NaN</td>\n",
              "      <td>NaN</td>\n",
              "      <td>NaN</td>\n",
              "      <td>NaN</td>\n",
              "      <td>NaN</td>\n",
              "      <td>NaN</td>\n",
              "    </tr>\n",
              "    <tr>\n",
              "      <th>6</th>\n",
              "      <td>(2100, 2400]</td>\n",
              "      <td>NaN</td>\n",
              "      <td>NaN</td>\n",
              "      <td>NaN</td>\n",
              "      <td>NaN</td>\n",
              "      <td>NaN</td>\n",
              "      <td>NaN</td>\n",
              "    </tr>\n",
              "    <tr>\n",
              "      <th>7</th>\n",
              "      <td>(2400, 3840]</td>\n",
              "      <td>NaN</td>\n",
              "      <td>NaN</td>\n",
              "      <td>NaN</td>\n",
              "      <td>NaN</td>\n",
              "      <td>NaN</td>\n",
              "      <td>NaN</td>\n",
              "    </tr>\n",
              "  </tbody>\n",
              "</table>\n",
              "</div>"
            ],
            "text/plain": [
              "         STATES  LSTAR_total_reset_mean  LSTAR_total_reset_std  \\\n",
              "0    (300, 600]                     NaN                    NaN   \n",
              "1    (600, 900]                     NaN                    NaN   \n",
              "2   (900, 1200]                609931.0                    0.0   \n",
              "3  (1200, 1500]                     NaN                    NaN   \n",
              "4  (1500, 1800]                     NaN                    NaN   \n",
              "5  (1800, 2100]                     NaN                    NaN   \n",
              "6  (2100, 2400]                     NaN                    NaN   \n",
              "7  (2400, 3840]                     NaN                    NaN   \n",
              "\n",
              "   CLSTAR_total_reset_mean  CLSTAR_total_reset_std  CLSTAR_TOTAL_RST_progress  \\\n",
              "0                      NaN                     NaN                        NaN   \n",
              "1                      NaN                     NaN                        NaN   \n",
              "2                  40280.0             3435.998778                  93.395974   \n",
              "3                      NaN                     NaN                        NaN   \n",
              "4                      NaN                     NaN                        NaN   \n",
              "5                      NaN                     NaN                        NaN   \n",
              "6                      NaN                     NaN                        NaN   \n",
              "7                      NaN                     NaN                        NaN   \n",
              "\n",
              "   CLSTAR_TOTAL_RST_pvalue  \n",
              "0                      NaN  \n",
              "1                      NaN  \n",
              "2             8.591880e-13  \n",
              "3                      NaN  \n",
              "4                      NaN  \n",
              "5                      NaN  \n",
              "6                      NaN  \n",
              "7                      NaN  "
            ]
          },
          "execution_count": 67,
          "metadata": {},
          "output_type": "execute_result"
        }
      ],
      "source": [
        "# @title Table 1\n",
        "final_df[[\"STATES\", \"LSTAR_total_reset_mean\", \"LSTAR_total_reset_std\", \"CLSTAR_total_reset_mean\", \"CLSTAR_total_reset_std\", \"CLSTAR_TOTAL_RST_progress\" ,\"CLSTAR_TOTAL_RST_pvalue\" ]]"
      ]
    },
    {
      "cell_type": "code",
      "execution_count": 68,
      "metadata": {
        "colab": {
          "base_uri": "https://localhost:8080/",
          "height": 300
        },
        "id": "y30255hDFR7f",
        "outputId": "c3e4d3ce-878b-40aa-86c2-bab5ebffc90c"
      },
      "outputs": [
        {
          "data": {
            "text/html": [
              "<div>\n",
              "<style scoped>\n",
              "    .dataframe tbody tr th:only-of-type {\n",
              "        vertical-align: middle;\n",
              "    }\n",
              "\n",
              "    .dataframe tbody tr th {\n",
              "        vertical-align: top;\n",
              "    }\n",
              "\n",
              "    .dataframe thead th {\n",
              "        text-align: right;\n",
              "    }\n",
              "</style>\n",
              "<table border=\"1\" class=\"dataframe\">\n",
              "  <thead>\n",
              "    <tr style=\"text-align: right;\">\n",
              "      <th></th>\n",
              "      <th>STATES</th>\n",
              "      <th>LSTAR_total_sym_mean</th>\n",
              "      <th>LSTAR_total_sym_std</th>\n",
              "      <th>CLSTAR_total_sym_mean</th>\n",
              "      <th>CLSTAR_total_sym_std</th>\n",
              "      <th>CLSTAR_TOTAL_SYM_progress</th>\n",
              "      <th>CLSTAR_TOTAL_SYM_pvalue</th>\n",
              "    </tr>\n",
              "  </thead>\n",
              "  <tbody>\n",
              "    <tr>\n",
              "      <th>0</th>\n",
              "      <td>(300, 600]</td>\n",
              "      <td>NaN</td>\n",
              "      <td>NaN</td>\n",
              "      <td>NaN</td>\n",
              "      <td>NaN</td>\n",
              "      <td>NaN</td>\n",
              "      <td>NaN</td>\n",
              "    </tr>\n",
              "    <tr>\n",
              "      <th>1</th>\n",
              "      <td>(600, 900]</td>\n",
              "      <td>NaN</td>\n",
              "      <td>NaN</td>\n",
              "      <td>NaN</td>\n",
              "      <td>NaN</td>\n",
              "      <td>NaN</td>\n",
              "      <td>NaN</td>\n",
              "    </tr>\n",
              "    <tr>\n",
              "      <th>2</th>\n",
              "      <td>(900, 1200]</td>\n",
              "      <td>4.239796e+06</td>\n",
              "      <td>795.097394</td>\n",
              "      <td>5930966.0</td>\n",
              "      <td>513090.273665</td>\n",
              "      <td>-39.887993</td>\n",
              "      <td>0.999767</td>\n",
              "    </tr>\n",
              "    <tr>\n",
              "      <th>3</th>\n",
              "      <td>(1200, 1500]</td>\n",
              "      <td>NaN</td>\n",
              "      <td>NaN</td>\n",
              "      <td>NaN</td>\n",
              "      <td>NaN</td>\n",
              "      <td>NaN</td>\n",
              "      <td>NaN</td>\n",
              "    </tr>\n",
              "    <tr>\n",
              "      <th>4</th>\n",
              "      <td>(1500, 1800]</td>\n",
              "      <td>NaN</td>\n",
              "      <td>NaN</td>\n",
              "      <td>NaN</td>\n",
              "      <td>NaN</td>\n",
              "      <td>NaN</td>\n",
              "      <td>NaN</td>\n",
              "    </tr>\n",
              "    <tr>\n",
              "      <th>5</th>\n",
              "      <td>(1800, 2100]</td>\n",
              "      <td>NaN</td>\n",
              "      <td>NaN</td>\n",
              "      <td>NaN</td>\n",
              "      <td>NaN</td>\n",
              "      <td>NaN</td>\n",
              "      <td>NaN</td>\n",
              "    </tr>\n",
              "    <tr>\n",
              "      <th>6</th>\n",
              "      <td>(2100, 2400]</td>\n",
              "      <td>NaN</td>\n",
              "      <td>NaN</td>\n",
              "      <td>NaN</td>\n",
              "      <td>NaN</td>\n",
              "      <td>NaN</td>\n",
              "      <td>NaN</td>\n",
              "    </tr>\n",
              "    <tr>\n",
              "      <th>7</th>\n",
              "      <td>(2400, 3840]</td>\n",
              "      <td>NaN</td>\n",
              "      <td>NaN</td>\n",
              "      <td>NaN</td>\n",
              "      <td>NaN</td>\n",
              "      <td>NaN</td>\n",
              "      <td>NaN</td>\n",
              "    </tr>\n",
              "  </tbody>\n",
              "</table>\n",
              "</div>"
            ],
            "text/plain": [
              "         STATES  LSTAR_total_sym_mean  LSTAR_total_sym_std  \\\n",
              "0    (300, 600]                   NaN                  NaN   \n",
              "1    (600, 900]                   NaN                  NaN   \n",
              "2   (900, 1200]          4.239796e+06           795.097394   \n",
              "3  (1200, 1500]                   NaN                  NaN   \n",
              "4  (1500, 1800]                   NaN                  NaN   \n",
              "5  (1800, 2100]                   NaN                  NaN   \n",
              "6  (2100, 2400]                   NaN                  NaN   \n",
              "7  (2400, 3840]                   NaN                  NaN   \n",
              "\n",
              "   CLSTAR_total_sym_mean  CLSTAR_total_sym_std  CLSTAR_TOTAL_SYM_progress  \\\n",
              "0                    NaN                   NaN                        NaN   \n",
              "1                    NaN                   NaN                        NaN   \n",
              "2              5930966.0         513090.273665                 -39.887993   \n",
              "3                    NaN                   NaN                        NaN   \n",
              "4                    NaN                   NaN                        NaN   \n",
              "5                    NaN                   NaN                        NaN   \n",
              "6                    NaN                   NaN                        NaN   \n",
              "7                    NaN                   NaN                        NaN   \n",
              "\n",
              "   CLSTAR_TOTAL_SYM_pvalue  \n",
              "0                      NaN  \n",
              "1                      NaN  \n",
              "2                 0.999767  \n",
              "3                      NaN  \n",
              "4                      NaN  \n",
              "5                      NaN  \n",
              "6                      NaN  \n",
              "7                      NaN  "
            ]
          },
          "execution_count": 68,
          "metadata": {},
          "output_type": "execute_result"
        }
      ],
      "source": [
        "# @title Table 2\n",
        "final_df[[\"STATES\", \"LSTAR_total_sym_mean\", \"LSTAR_total_sym_std\", \"CLSTAR_total_sym_mean\", \"CLSTAR_total_sym_std\", \"CLSTAR_TOTAL_SYM_progress\" ,\"CLSTAR_TOTAL_SYM_pvalue\" ]]"
      ]
    },
    {
      "cell_type": "code",
      "execution_count": 69,
      "metadata": {
        "id": "T_BU62CauJdM"
      },
      "outputs": [],
      "source": [
        "final_df.to_csv(\"Results_summerized.csv\")"
      ]
    },
    {
      "cell_type": "markdown",
      "metadata": {
        "id": "RxAucIl5U88a"
      },
      "source": [
        "# Plots"
      ]
    },
    {
      "cell_type": "code",
      "execution_count": 70,
      "metadata": {
        "id": "AO-SzabauJdO"
      },
      "outputs": [],
      "source": [
        "sns.set(rc={'figure.figsize':(15,6)})"
      ]
    },
    {
      "cell_type": "code",
      "execution_count": 71,
      "metadata": {
        "colab": {
          "base_uri": "https://localhost:8080/",
          "height": 621
        },
        "id": "OecefKIHuJdO",
        "outputId": "18bf7846-2622-490c-cf60-b717c2baee03"
      },
      "outputs": [
        {
          "name": "stderr",
          "output_type": "stream",
          "text": [
            "C:\\Users\\Aryan\\AppData\\Local\\Temp\\ipykernel_19452\\1459455666.py:5: SettingWithCopyWarning: \n",
            "A value is trying to be set on a copy of a slice from a DataFrame.\n",
            "Try using .loc[row_indexer,col_indexer] = value instead\n",
            "\n",
            "See the caveats in the documentation: https://pandas.pydata.org/pandas-docs/stable/user_guide/indexing.html#returning-a-view-versus-a-copy\n",
            "  d2['state_range'] = pd.cut(d2['STATES'], bins= bins)\n"
          ]
        },
        {
          "name": "stderr",
          "output_type": "stream",
          "text": [
            "C:\\Users\\Aryan\\AppData\\Local\\Temp\\ipykernel_19452\\1459455666.py:20: SettingWithCopyWarning: \n",
            "A value is trying to be set on a copy of a slice from a DataFrame.\n",
            "Try using .loc[row_indexer,col_indexer] = value instead\n",
            "\n",
            "See the caveats in the documentation: https://pandas.pydata.org/pandas-docs/stable/user_guide/indexing.html#returning-a-view-versus-a-copy\n",
            "  d1['state_range'] = pd.cut(d1['STATES'], bins= bins)\n"
          ]
        },
        {
          "data": {
            "image/png": "[encoded data removed]",
            "text/plain": [
              "<Figure size 1500x600 with 2 Axes>"
            ]
          },
          "metadata": {},
          "output_type": "display_data"
        }
      ],
      "source": [
        "#  @title Fig 2. The total number of input symbols and resets in the CL∗ and L∗ methods\n",
        "fig, axs = plt.subplots(ncols=2)\n",
        "\n",
        "d2 = df[['STATES', 'LSTAR_TOTAL_RST', 'CLSTAR_TOTAL_RST']]\n",
        "d2['state_range'] = pd.cut(d2['STATES'], bins= bins)\n",
        "d2 = d2.set_index('state_range')\n",
        "\n",
        "d2[['L*',  'CL*']] = d2[['LSTAR_TOTAL_RST',  'CLSTAR_TOTAL_RST']] \n",
        "\n",
        "d2 = d2[['L*',  'CL*']].stack().reset_index()\n",
        "d2 = d2.rename(columns={\"level_1\": \"method\", 0: \"total number of resets\"})\n",
        "\n",
        "g1 = sns.boxplot(y = d2['state_range'],\n",
        "\t\t\tx = d2['total number of resets'],\n",
        "\t\t\thue = d2['method'],\n",
        "       showcaps=True,orient=\"h\", ax=axs[0]).set_xscale('log')\n",
        "\n",
        "\n",
        "d1 = df[['STATES', 'LSTAR_TOTAL_SYM', 'CLSTAR_TOTAL_SYM']]\n",
        "d1['state_range'] = pd.cut(d1['STATES'], bins= bins)\n",
        "d1 = d1.set_index('state_range')\n",
        "d1[['L*',  'CL*']] = d1[['LSTAR_TOTAL_SYM',  'CLSTAR_TOTAL_SYM']] \n",
        "d1 = d1[['L*',  'CL*']].stack().reset_index()\n",
        "d1 = d1.rename(columns={\"level_1\": \"method\", 0: \"total number of symbols\"})\n",
        "\n",
        "g2 = sns.boxplot(y = d1['state_range'],\n",
        "\t\t\tx = d1['total number of symbols'],\n",
        "\t\t\thue = d1['method'],\n",
        "       showcaps=True,orient=\"h\", ax=axs[1])\n",
        "g2.set_xscale('log')\n",
        "\n",
        "g2.set(yticklabels=[])\n",
        "g2.set(ylabel=None)\n",
        "g2.tick_params(bottom=False) \n",
        "# plt.grid()\n",
        "# plt.show()\n"
      ]
    },
    {
      "cell_type": "code",
      "execution_count": 72,
      "metadata": {
        "colab": {
          "base_uri": "https://localhost:8080/",
          "height": 472
        },
        "id": "jJ40oDO04wBX",
        "outputId": "da7d669e-ead9-40ff-b375-b153a35e53aa"
      },
      "outputs": [
        {
          "name": "stderr",
          "output_type": "stream",
          "text": [
            "C:\\Users\\Aryan\\AppData\\Local\\Temp\\ipykernel_19452\\440006197.py:4: SettingWithCopyWarning: \n",
            "A value is trying to be set on a copy of a slice from a DataFrame.\n",
            "Try using .loc[row_indexer,col_indexer] = value instead\n",
            "\n",
            "See the caveats in the documentation: https://pandas.pydata.org/pandas-docs/stable/user_guide/indexing.html#returning-a-view-versus-a-copy\n",
            "  d2[['L*',  'CL*', '#components', '#states']] = d2[['LSTAR_TOTAL_SYM',  'CLSTAR_TOTAL_SYM', 'CLSTAR_COMPONENTS', 'STATES']]\n",
            "C:\\Users\\Aryan\\AppData\\Local\\Temp\\ipykernel_19452\\440006197.py:4: SettingWithCopyWarning: \n",
            "A value is trying to be set on a copy of a slice from a DataFrame.\n",
            "Try using .loc[row_indexer,col_indexer] = value instead\n",
            "\n",
            "See the caveats in the documentation: https://pandas.pydata.org/pandas-docs/stable/user_guide/indexing.html#returning-a-view-versus-a-copy\n",
            "  d2[['L*',  'CL*', '#components', '#states']] = d2[['LSTAR_TOTAL_SYM',  'CLSTAR_TOTAL_SYM', 'CLSTAR_COMPONENTS', 'STATES']]\n",
            "C:\\Users\\Aryan\\AppData\\Local\\Temp\\ipykernel_19452\\440006197.py:4: SettingWithCopyWarning: \n",
            "A value is trying to be set on a copy of a slice from a DataFrame.\n",
            "Try using .loc[row_indexer,col_indexer] = value instead\n",
            "\n",
            "See the caveats in the documentation: https://pandas.pydata.org/pandas-docs/stable/user_guide/indexing.html#returning-a-view-versus-a-copy\n",
            "  d2[['L*',  'CL*', '#components', '#states']] = d2[['LSTAR_TOTAL_SYM',  'CLSTAR_TOTAL_SYM', 'CLSTAR_COMPONENTS', 'STATES']]\n",
            "C:\\Users\\Aryan\\AppData\\Local\\Temp\\ipykernel_19452\\440006197.py:4: SettingWithCopyWarning: \n",
            "A value is trying to be set on a copy of a slice from a DataFrame.\n",
            "Try using .loc[row_indexer,col_indexer] = value instead\n",
            "\n",
            "See the caveats in the documentation: https://pandas.pydata.org/pandas-docs/stable/user_guide/indexing.html#returning-a-view-versus-a-copy\n",
            "  d2[['L*',  'CL*', '#components', '#states']] = d2[['LSTAR_TOTAL_SYM',  'CLSTAR_TOTAL_SYM', 'CLSTAR_COMPONENTS', 'STATES']]\n"
          ]
        },
        {
          "data": {
            "image/png": "[encoded data removed]",
            "text/plain": [
              "<Figure size 1280.38x500 with 2 Axes>"
            ]
          },
          "metadata": {},
          "output_type": "display_data"
        }
      ],
      "source": [
        "# @title Fig.3: The effect of FSM size in terms of number of components and states on total number of input symbols.\n",
        "d2 = df[['STATES','CLSTAR_COMPONENTS', 'LSTAR_TOTAL_SYM', 'CLSTAR_TOTAL_SYM']]\n",
        "\n",
        "d2[['L*',  'CL*', '#components', '#states']] = d2[['LSTAR_TOTAL_SYM',  'CLSTAR_TOTAL_SYM', 'CLSTAR_COMPONENTS', 'STATES']] \n",
        "d2 = d2.set_index(['#states','#components'])\n",
        "\n",
        "d2 = d2[['L*',  'CL*']].stack().reset_index()\n",
        "d2 = d2.rename(columns={\"level_2\": \"method\", 0: \"total number of input symbols\"})\n",
        "\n",
        "sns.pairplot(d2, x_vars=[\"#states\", \"#components\"], y_vars=[\"total number of input symbols\"],\n",
        "             hue=\"method\", height=5, aspect=1.2, kind=\"reg\" );\n",
        "plt.yscale('log')\n"
      ]
    },
    {
      "cell_type": "code",
      "execution_count": 73,
      "metadata": {
        "colab": {
          "base_uri": "https://localhost:8080/",
          "height": 472
        },
        "id": "j4fbzVuspqdR",
        "outputId": "9a7641c2-e80f-45df-b677-04310f72b2b1"
      },
      "outputs": [
        {
          "name": "stderr",
          "output_type": "stream",
          "text": [
            "C:\\Users\\Aryan\\AppData\\Local\\Temp\\ipykernel_19452\\1651643529.py:5: SettingWithCopyWarning: \n",
            "A value is trying to be set on a copy of a slice from a DataFrame.\n",
            "Try using .loc[row_indexer,col_indexer] = value instead\n",
            "\n",
            "See the caveats in the documentation: https://pandas.pydata.org/pandas-docs/stable/user_guide/indexing.html#returning-a-view-versus-a-copy\n",
            "  d2[['L*',  'CL*', '#components', '#states']] = d2[['LSTAR_TOTAL_RST',  'CLSTAR_TOTAL_RST', 'CLSTAR_COMPONENTS', 'STATES']]\n",
            "C:\\Users\\Aryan\\AppData\\Local\\Temp\\ipykernel_19452\\1651643529.py:5: SettingWithCopyWarning: \n",
            "A value is trying to be set on a copy of a slice from a DataFrame.\n",
            "Try using .loc[row_indexer,col_indexer] = value instead\n",
            "\n",
            "See the caveats in the documentation: https://pandas.pydata.org/pandas-docs/stable/user_guide/indexing.html#returning-a-view-versus-a-copy\n",
            "  d2[['L*',  'CL*', '#components', '#states']] = d2[['LSTAR_TOTAL_RST',  'CLSTAR_TOTAL_RST', 'CLSTAR_COMPONENTS', 'STATES']]\n",
            "C:\\Users\\Aryan\\AppData\\Local\\Temp\\ipykernel_19452\\1651643529.py:5: SettingWithCopyWarning: \n",
            "A value is trying to be set on a copy of a slice from a DataFrame.\n",
            "Try using .loc[row_indexer,col_indexer] = value instead\n",
            "\n",
            "See the caveats in the documentation: https://pandas.pydata.org/pandas-docs/stable/user_guide/indexing.html#returning-a-view-versus-a-copy\n",
            "  d2[['L*',  'CL*', '#components', '#states']] = d2[['LSTAR_TOTAL_RST',  'CLSTAR_TOTAL_RST', 'CLSTAR_COMPONENTS', 'STATES']]\n",
            "C:\\Users\\Aryan\\AppData\\Local\\Temp\\ipykernel_19452\\1651643529.py:5: SettingWithCopyWarning: \n",
            "A value is trying to be set on a copy of a slice from a DataFrame.\n",
            "Try using .loc[row_indexer,col_indexer] = value instead\n",
            "\n",
            "See the caveats in the documentation: https://pandas.pydata.org/pandas-docs/stable/user_guide/indexing.html#returning-a-view-versus-a-copy\n",
            "  d2[['L*',  'CL*', '#components', '#states']] = d2[['LSTAR_TOTAL_RST',  'CLSTAR_TOTAL_RST', 'CLSTAR_COMPONENTS', 'STATES']]\n"
          ]
        },
        {
          "data": {
            "image/png": "[encoded data removed]",
            "text/plain": [
              "<Figure size 1280.38x500 with 2 Axes>"
            ]
          },
          "metadata": {},
          "output_type": "display_data"
        }
      ],
      "source": [
        "# @title Fig.4: The effect of FSM size in terms of number of components and states on total number of input resets.\n",
        "\n",
        "d2 = df[['STATES','CLSTAR_COMPONENTS', 'LSTAR_TOTAL_RST', 'CLSTAR_TOTAL_RST']]\n",
        "\n",
        "d2[['L*',  'CL*', '#components', '#states']] = d2[['LSTAR_TOTAL_RST',  'CLSTAR_TOTAL_RST', 'CLSTAR_COMPONENTS', 'STATES']] \n",
        "d2 = d2.set_index(['#states','#components'])\n",
        "\n",
        "d2 = d2[['L*',  'CL*']].stack().reset_index()\n",
        "d2 = d2.rename(columns={\"level_2\": \"method\", 0: \"total number of resets\"})\n",
        "\n",
        "sns.pairplot(d2, x_vars=[\"#states\", \"#components\"], y_vars=[\"total number of resets\"],\n",
        "             hue=\"method\", height=5, aspect=1.2, kind=\"reg\" );\n",
        "plt.yscale('log')\n"
      ]
    },
    {
      "cell_type": "code",
      "execution_count": null,
      "metadata": {
        "id": "gsYcIkao152k"
      },
      "outputs": [],
      "source": []
    }
  ],
  "metadata": {
    "colab": {
      "provenance": [],
      "toc_visible": true
    },
    "kernelspec": {
      "display_name": "Python 3",
      "name": "python3"
    },
    "language_info": {
      "codemirror_mode": {
        "name": "ipython",
        "version": 3
      },
      "file_extension": ".py",
      "mimetype": "text/x-python",
      "name": "python",
      "nbconvert_exporter": "python",
      "pygments_lexer": "ipython3",
      "version": "3.12.3"
    }
  },
  "nbformat": 4,
  "nbformat_minor": 0
}
